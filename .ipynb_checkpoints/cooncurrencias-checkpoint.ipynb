{
 "cells": [
  {
   "cell_type": "markdown",
   "metadata": {},
   "source": [
    "# Analizando la biblia:\n",
    "## 3 evangelios."
   ]
  },
  {
   "cell_type": "code",
   "execution_count": 1,
   "metadata": {},
   "outputs": [],
   "source": [
    "\"\"\"Importamos librerias\"\"\"\n",
    "#%matplotlib inline\n",
    "from spacy import displacy\n",
    "import nltk\n",
    "import numpy as np\n",
    "import pandas as pd\n",
    "import spacy\n",
    "import sys\n",
    "import re\n",
    "from collections import defaultdict\n",
    "from nltk.cluster import kmeans, cosine_distance\n",
    "import matplotlib.pyplot as plt\n",
    "from sklearn.manifold import TSNE\n",
    "from sklearn.cluster import KMeans\n",
    "import collections\n",
    "import numpy\n",
    "#nltk.download(\"punkt\")"
   ]
  },
  {
   "cell_type": "code",
   "execution_count": 2,
   "metadata": {},
   "outputs": [],
   "source": [
    "def read_array():\n",
    "    \"\"\"leemos el texto a analizar. En este caso los 3 primeros evangelios.\"\"\"\n",
    "    corpus_filename = \"bibliamarcada.txt\"\n",
    "    file = open(corpus_filename, \"r\", encoding=\"utf8\")\n",
    "    text = file.read()\n",
    "    return text\n",
    "#print (read_array())"
   ]
  },
  {
   "cell_type": "code",
   "execution_count": 5,
   "metadata": {},
   "outputs": [
    {
     "name": "stdout",
     "output_type": "stream",
     "text": [
      "       Palabras  Frecuencias\n",
      "0         Jesús          397\n",
      "1          Dios          103\n",
      "2      espíritu           28\n",
      "3  misericordia           22\n",
      "4         Santo           17\n",
      "5        pecado            4\n",
      "6          amor            4\n"
     ]
    }
   ],
   "source": [
    "def concurrence_of_words_custom(text):\n",
    "    \"\"\"dato que puede ser útil, es ver las cooncurrencias relativamente de ciertas palabras\"\"\"\n",
    "    book =  text.split()\n",
    "    cnt = collections.Counter()\n",
    "    word_cocurrence = [\"espíritu\", \"Santo\",\"Dios\", \"Jesús\", \"pecado\", \"misericordia\", \"amor\", \"odio\"]\n",
    "    for i in word_cocurrence:\n",
    "        for word in book:\n",
    "            if i==word:\n",
    "                cnt[word] +=1 \n",
    "    return (cnt)\n",
    "\n",
    "def should_count():\n",
    "    word_more_import = concurrence_of_words_custom(read_array())\n",
    "    Conteo = pd.DataFrame.from_dict(dict(word_more_import), orient='index')\n",
    "    Conteo = Conteo.sort_values(by=0, ascending=False)\n",
    "    Conteo = Conteo.reset_index().rename(columns={'index':'Palabras', 0:'Frecuencias'})\n",
    "    print(Conteo)\n",
    "\n",
    "should_count()"
   ]
  },
  {
   "cell_type": "code",
   "execution_count": 6,
   "metadata": {},
   "outputs": [],
   "source": [
    "#---\"\"\"modelo en español de la libreria spacy\"\"\"\n",
    "nlp = spacy.load(\"es_core_news_sm\")\n",
    "#nlp = spacy.load(\"es\")"
   ]
  },
  {
   "cell_type": "code",
   "execution_count": 7,
   "metadata": {
    "scrolled": true
   },
   "outputs": [
    {
     "data": {
      "text/html": [
       "<svg xmlns=\"http://www.w3.org/2000/svg\" xmlns:xlink=\"http://www.w3.org/1999/xlink\" id=\"0\" class=\"displacy\" width=\"680\" height=\"272.0\" style=\"max-width: none; height: 272.0px; color: #000000; background: #ffffff; font-family: Arial\">\n",
       "<text class=\"displacy-token\" fill=\"currentColor\" text-anchor=\"middle\" y=\"182.0\">\n",
       "    <tspan class=\"displacy-word\" fill=\"currentColor\" x=\"50\">Bienaventurados</tspan>\n",
       "    <tspan class=\"displacy-tag\" dy=\"2em\" fill=\"currentColor\" x=\"50\">ADJ</tspan>\n",
       "</text>\n",
       "\n",
       "<text class=\"displacy-token\" fill=\"currentColor\" text-anchor=\"middle\" y=\"182.0\">\n",
       "    <tspan class=\"displacy-word\" fill=\"currentColor\" x=\"140\">los</tspan>\n",
       "    <tspan class=\"displacy-tag\" dy=\"2em\" fill=\"currentColor\" x=\"140\">DET</tspan>\n",
       "</text>\n",
       "\n",
       "<text class=\"displacy-token\" fill=\"currentColor\" text-anchor=\"middle\" y=\"182.0\">\n",
       "    <tspan class=\"displacy-word\" fill=\"currentColor\" x=\"230\">misericordiosos,</tspan>\n",
       "    <tspan class=\"displacy-tag\" dy=\"2em\" fill=\"currentColor\" x=\"230\">NOUN</tspan>\n",
       "</text>\n",
       "\n",
       "<text class=\"displacy-token\" fill=\"currentColor\" text-anchor=\"middle\" y=\"182.0\">\n",
       "    <tspan class=\"displacy-word\" fill=\"currentColor\" x=\"320\">porque</tspan>\n",
       "    <tspan class=\"displacy-tag\" dy=\"2em\" fill=\"currentColor\" x=\"320\">SCONJ</tspan>\n",
       "</text>\n",
       "\n",
       "<text class=\"displacy-token\" fill=\"currentColor\" text-anchor=\"middle\" y=\"182.0\">\n",
       "    <tspan class=\"displacy-word\" fill=\"currentColor\" x=\"410\">ellos</tspan>\n",
       "    <tspan class=\"displacy-tag\" dy=\"2em\" fill=\"currentColor\" x=\"410\">PRON</tspan>\n",
       "</text>\n",
       "\n",
       "<text class=\"displacy-token\" fill=\"currentColor\" text-anchor=\"middle\" y=\"182.0\">\n",
       "    <tspan class=\"displacy-word\" fill=\"currentColor\" x=\"500\">alcanzarán</tspan>\n",
       "    <tspan class=\"displacy-tag\" dy=\"2em\" fill=\"currentColor\" x=\"500\">VERB</tspan>\n",
       "</text>\n",
       "\n",
       "<text class=\"displacy-token\" fill=\"currentColor\" text-anchor=\"middle\" y=\"182.0\">\n",
       "    <tspan class=\"displacy-word\" fill=\"currentColor\" x=\"590\">misericordia.</tspan>\n",
       "    <tspan class=\"displacy-tag\" dy=\"2em\" fill=\"currentColor\" x=\"590\">NOUN</tspan>\n",
       "</text>\n",
       "\n",
       "<g class=\"displacy-arrow\">\n",
       "    <path class=\"displacy-arc\" id=\"arrow-0-0\" stroke-width=\"2px\" d=\"M160,137.0 C160,92.0 220.0,92.0 220.0,137.0\" fill=\"none\" stroke=\"currentColor\"/>\n",
       "    <text dy=\"1.25em\" style=\"font-size: 0.8em; letter-spacing: 1px\">\n",
       "        <textPath xlink:href=\"#arrow-0-0\" class=\"displacy-label\" startOffset=\"50%\" fill=\"currentColor\" text-anchor=\"middle\">det</textPath>\n",
       "    </text>\n",
       "    <path class=\"displacy-arrowhead\" d=\"M160,139.0 L152,127.0 168,127.0\" fill=\"currentColor\"/>\n",
       "</g>\n",
       "\n",
       "<g class=\"displacy-arrow\">\n",
       "    <path class=\"displacy-arc\" id=\"arrow-0-1\" stroke-width=\"2px\" d=\"M70,137.0 C70,47.0 225.0,47.0 225.0,137.0\" fill=\"none\" stroke=\"currentColor\"/>\n",
       "    <text dy=\"1.25em\" style=\"font-size: 0.8em; letter-spacing: 1px\">\n",
       "        <textPath xlink:href=\"#arrow-0-1\" class=\"displacy-label\" startOffset=\"50%\" fill=\"currentColor\" text-anchor=\"middle\">nsubj</textPath>\n",
       "    </text>\n",
       "    <path class=\"displacy-arrowhead\" d=\"M225.0,139.0 L233.0,127.0 217.0,127.0\" fill=\"currentColor\"/>\n",
       "</g>\n",
       "\n",
       "<g class=\"displacy-arrow\">\n",
       "    <path class=\"displacy-arc\" id=\"arrow-0-2\" stroke-width=\"2px\" d=\"M340,137.0 C340,47.0 495.0,47.0 495.0,137.0\" fill=\"none\" stroke=\"currentColor\"/>\n",
       "    <text dy=\"1.25em\" style=\"font-size: 0.8em; letter-spacing: 1px\">\n",
       "        <textPath xlink:href=\"#arrow-0-2\" class=\"displacy-label\" startOffset=\"50%\" fill=\"currentColor\" text-anchor=\"middle\">mark</textPath>\n",
       "    </text>\n",
       "    <path class=\"displacy-arrowhead\" d=\"M340,139.0 L332,127.0 348,127.0\" fill=\"currentColor\"/>\n",
       "</g>\n",
       "\n",
       "<g class=\"displacy-arrow\">\n",
       "    <path class=\"displacy-arc\" id=\"arrow-0-3\" stroke-width=\"2px\" d=\"M430,137.0 C430,92.0 490.0,92.0 490.0,137.0\" fill=\"none\" stroke=\"currentColor\"/>\n",
       "    <text dy=\"1.25em\" style=\"font-size: 0.8em; letter-spacing: 1px\">\n",
       "        <textPath xlink:href=\"#arrow-0-3\" class=\"displacy-label\" startOffset=\"50%\" fill=\"currentColor\" text-anchor=\"middle\">nsubj</textPath>\n",
       "    </text>\n",
       "    <path class=\"displacy-arrowhead\" d=\"M430,139.0 L422,127.0 438,127.0\" fill=\"currentColor\"/>\n",
       "</g>\n",
       "\n",
       "<g class=\"displacy-arrow\">\n",
       "    <path class=\"displacy-arc\" id=\"arrow-0-4\" stroke-width=\"2px\" d=\"M70,137.0 C70,2.0 500.0,2.0 500.0,137.0\" fill=\"none\" stroke=\"currentColor\"/>\n",
       "    <text dy=\"1.25em\" style=\"font-size: 0.8em; letter-spacing: 1px\">\n",
       "        <textPath xlink:href=\"#arrow-0-4\" class=\"displacy-label\" startOffset=\"50%\" fill=\"currentColor\" text-anchor=\"middle\">advcl</textPath>\n",
       "    </text>\n",
       "    <path class=\"displacy-arrowhead\" d=\"M500.0,139.0 L508.0,127.0 492.0,127.0\" fill=\"currentColor\"/>\n",
       "</g>\n",
       "\n",
       "<g class=\"displacy-arrow\">\n",
       "    <path class=\"displacy-arc\" id=\"arrow-0-5\" stroke-width=\"2px\" d=\"M520,137.0 C520,92.0 580.0,92.0 580.0,137.0\" fill=\"none\" stroke=\"currentColor\"/>\n",
       "    <text dy=\"1.25em\" style=\"font-size: 0.8em; letter-spacing: 1px\">\n",
       "        <textPath xlink:href=\"#arrow-0-5\" class=\"displacy-label\" startOffset=\"50%\" fill=\"currentColor\" text-anchor=\"middle\">obj</textPath>\n",
       "    </text>\n",
       "    <path class=\"displacy-arrowhead\" d=\"M580.0,139.0 L588.0,127.0 572.0,127.0\" fill=\"currentColor\"/>\n",
       "</g>\n",
       "</svg>"
      ],
      "text/plain": [
       "<IPython.core.display.HTML object>"
      ]
     },
     "metadata": {},
     "output_type": "display_data"
    }
   ],
   "source": [
    "versiculo =\"Bienaventurados los misericordiosos, porque ellos alcanzarán misericordia.\"\n",
    "doc= nlp(versiculo)\n",
    "displacy.render(doc, style=\"dep\", jupyter=True, options={'distance':90})"
   ]
  },
  {
   "cell_type": "code",
   "execution_count": 30,
   "metadata": {},
   "outputs": [],
   "source": [
    "def procingtext():\n",
    "    \"\"\"cargamos el cuerpo de datos. Dividimos por titulo y cuerpo, en este caso \n",
    "    por capitulos de la biblia\"\"\"\n",
    "\n",
    "    document = {\n",
    "        \"title\": None,\n",
    "        \"body\": None\n",
    "    }    \n",
    "    new_document = False\n",
    "    text = read_array()\n",
    "    text = text.lower()\n",
    "    new_chapter=False\n",
    "    text =  re.split(\"\\n\", text)\n",
    "    for line in text:\n",
    "        if line.strip() == \"-\":\n",
    "            new_document = True\n",
    "            document = {\n",
    "                \"title\": None,\n",
    "                \"body\": None\n",
    "            }\n",
    "            \n",
    "        elif line.strip() == \"\":\n",
    "            continue\n",
    "        elif new_document:\n",
    "            document[\"title\"] = line.strip()\n",
    "            new_document = False\n",
    "        else:\n",
    "            document[\"body\"] = line.strip()\n",
    "            yield(document)\n"
   ]
  },
  {
   "cell_type": "markdown",
   "metadata": {},
   "source": [
    "### Guardamos en archivo el texto procesado. Hacemos token a cada palabra del cuerpo  "
   ]
  },
  {
   "cell_type": "code",
   "execution_count": 31,
   "metadata": {},
   "outputs": [],
   "source": [
    "def save_in_file(file):\n",
    "    \"\"\"Elimino articulos, numeros, y palabras de longitud menor a 4\"\"\"\n",
    "    with open(file, \"w\", encoding=\"utf-8\") as fh:\n",
    "         for idx, document in enumerate(procingtext()):\n",
    "            for sentence in nltk.sent_tokenize(document[\"body\"], language=\"spanish\"):\n",
    "                for token in nlp(sentence):\n",
    "                        if not ((token.is_stop) or (token.text.isdigit()) or len(token)<4) :\n",
    "                            print(token.text, token.lemma_, token.pos_, token.dep_, token.head,\n",
    "                               file=fh)\n",
    "                            continue\n",
    "                print(file=fh)\n",
    "            print(\"=\"*80, file=fh)\n",
    "            if idx > 100:\n",
    "                break\n",
    "save_in_file(\"santabiblia.conll\")"
   ]
  },
  {
   "cell_type": "code",
   "execution_count": 32,
   "metadata": {},
   "outputs": [
    {
     "name": "stdout",
     "output_type": "stream",
     "text": [
      "[{'token': 'santa', 'lemma': 'santo', 'pos': 'NOUN', 'dep': 'ROOT', 'head': 'santa'}, {'token': 'biblia', 'lemma': 'biblia', 'pos': 'ADJ', 'dep': 'amod', 'head': 'santa'}, {'token': 'testamento', 'lemma': 'testamento', 'pos': 'NOUN', 'dep': 'appos', 'head': 'santa'}, {'token': 'señor', 'lemma': 'señor', 'pos': 'NOUN', 'dep': 'nmod', 'head': 'testamento'}, {'token': 'jesucristo', 'lemma': 'jesucristo', 'pos': 'ADJ', 'dep': 'amod', 'head': 'señor'}, {'token': 'versión', 'lemma': 'versión', 'pos': 'NOUN', 'dep': 'appos', 'head': 'santa'}, {'token': 'casiodoro', 'lemma': 'casiodoro', 'pos': 'NOUN', 'dep': 'nmod', 'head': 'versión'}, {'token': 'reina', 'lemma': 'reinar', 'pos': 'NOUN', 'dep': 'nmod', 'head': 'casiodoro'}, {'token': 'revisada', 'lemma': 'revisar', 'pos': 'ADJ', 'dep': 'amod', 'head': 'versión'}, {'token': 'cipriano', 'lemma': 'cipriano', 'pos': 'ADJ', 'dep': 'obj', 'head': 'revisada'}, {'token': 'valera', 'lemma': 'valera', 'pos': 'NOUN', 'dep': 'nmod', 'head': 'cipriano'}, {'token': 'revisiones', 'lemma': 'revisión', 'pos': 'NOUN', 'dep': 'appos', 'head': 'santa'}]\n",
      "[{'token': 'incluye', 'lemma': 'incluir', 'pos': 'VERB', 'dep': 'parataxis', 'head': '#'}, {'token': 'gracia', 'lemma': 'gracia', 'pos': 'NOUN', 'dep': 'nmod', 'head': 'era'}, {'token': 'libros', 'lemma': 'libro', 'pos': 'NOUN', 'dep': 'obj', 'head': '#'}]\n",
      "[{'token': 'santo', 'lemma': 'santo', 'pos': 'ADJ', 'dep': 'amod', 'head': 'evangelio'}, {'token': 'evangelio', 'lemma': 'evangelio', 'pos': 'NOUN', 'dep': 'ROOT', 'head': 'evangelio'}]\n",
      "[{'token': 'mateo', 'lemma': 'matear', 'pos': 'NOUN', 'dep': 'obj', 'head': 'san'}]\n",
      "[{'token': 'genealogía', 'lemma': 'genealogía', 'pos': 'NOUN', 'dep': 'ROOT', 'head': 'genealogía'}, {'token': 'jesucristo', 'lemma': 'jesucristo', 'pos': 'NOUN', 'dep': 'nmod', 'head': 'genealogía'}]\n",
      "[]\n",
      "[{'token': '3.23', 'lemma': '3.23', 'pos': 'NOUN', 'dep': 'ROOT', 'head': '3.23'}]\n",
      "[{'token': 'libro', 'lemma': 'librar', 'pos': 'NOUN', 'dep': 'ROOT', 'head': 'libro'}, {'token': 'genealogía', 'lemma': 'genealogía', 'pos': 'NOUN', 'dep': 'nmod', 'head': 'libro'}, {'token': 'jesucristo', 'lemma': 'jesucristo', 'pos': 'NOUN', 'dep': 'nmod', 'head': 'genealogía'}, {'token': 'hijo', 'lemma': 'hijo', 'pos': 'NOUN', 'dep': 'appos', 'head': 'genealogía'}, {'token': 'david', 'lemma': 'david', 'pos': 'NOUN', 'dep': 'nmod', 'head': 'hijo'}, {'token': 'hijo', 'lemma': 'hijo', 'pos': 'NOUN', 'dep': 'appos', 'head': 'libro'}, {'token': 'abraham', 'lemma': 'abraham', 'pos': 'VERB', 'dep': 'nmod', 'head': 'hijo'}]\n",
      "[{'token': 'abraham', 'lemma': 'abraham', 'pos': 'VERB', 'dep': 'ROOT', 'head': 'abraham'}, {'token': 'engendró', 'lemma': 'engendrar', 'pos': 'NOUN', 'dep': 'obj', 'head': 'abraham'}, {'token': 'isaac', 'lemma': 'isaac', 'pos': 'NOUN', 'dep': 'nmod', 'head': 'engendró'}, {'token': 'isaac', 'lemma': 'isaac', 'pos': 'ADJ', 'dep': 'conj', 'head': 'isaac'}, {'token': 'jacob', 'lemma': 'jacob', 'pos': 'NOUN', 'dep': 'nmod', 'head': 'isaac'}, {'token': 'jacob', 'lemma': 'jacob', 'pos': 'NOUN', 'dep': 'conj', 'head': 'abraham'}, {'token': 'judá', 'lemma': 'judá', 'pos': 'NOUN', 'dep': 'obl', 'head': 'jacob'}, {'token': 'hermanos', 'lemma': 'hermano', 'pos': 'NOUN', 'dep': 'conj', 'head': 'judá'}]\n",
      "[{'token': 'judá', 'lemma': 'judá', 'pos': 'VERB', 'dep': 'nsubj', 'head': 'engendró'}, {'token': 'engendró', 'lemma': 'engendrar', 'pos': 'NOUN', 'dep': 'ROOT', 'head': 'engendró'}, {'token': 'tamar', 'lemma': 'tamar', 'pos': 'VERB', 'dep': 'acl', 'head': 'engendró'}, {'token': 'fares', 'lemma': 'fares', 'pos': 'NOUN', 'dep': 'obj', 'head': 'tamar'}, {'token': 'zara', 'lemma': 'zara', 'pos': 'NOUN', 'dep': 'conj', 'head': 'tamar'}, {'token': 'fares', 'lemma': 'fares', 'pos': 'NOUN', 'dep': 'amod', 'head': 'engendró'}, {'token': 'esrom', 'lemma': 'esrom', 'pos': 'NOUN', 'dep': 'nmod', 'head': 'fares'}, {'token': 'esrom', 'lemma': 'esrom', 'pos': 'NOUN', 'dep': 'conj', 'head': 'engendró'}, {'token': 'aram', 'lemma': 'aram', 'pos': 'NOUN', 'dep': 'nmod', 'head': 'esrom'}]\n",
      "[{'token': 'aram', 'lemma': 'aram', 'pos': 'NOUN', 'dep': 'ROOT', 'head': 'aram'}, {'token': 'engendró', 'lemma': 'engendrar', 'pos': 'NOUN', 'dep': 'obj', 'head': 'aram'}, {'token': 'aminadab', 'lemma': 'aminadab', 'pos': 'NOUN', 'dep': 'advmod', 'head': 'engendró'}, {'token': 'aminadab', 'lemma': 'aminadab', 'pos': 'VERB', 'dep': 'advmod', 'head': 'engendró'}, {'token': 'naasón', 'lemma': 'naasón', 'pos': 'NOUN', 'dep': 'obl', 'head': 'aminadab'}, {'token': 'naasón', 'lemma': 'naasón', 'pos': 'NOUN', 'dep': 'conj', 'head': 'aram'}, {'token': 'salmón', 'lemma': 'salmón', 'pos': 'NOUN', 'dep': 'nmod', 'head': 'naasón'}]\n",
      "[{'token': 'salmón', 'lemma': 'salmón', 'pos': 'NOUN', 'dep': 'amod', 'head': 'engendró'}, {'token': 'engendró', 'lemma': 'engendrar', 'pos': 'NOUN', 'dep': 'ROOT', 'head': 'engendró'}, {'token': 'rahab', 'lemma': 'rahab', 'pos': 'NOUN', 'dep': 'nmod', 'head': 'engendró'}, {'token': 'booz', 'lemma': 'booz', 'pos': 'NOUN', 'dep': 'nmod', 'head': 'engendró'}, {'token': 'booz', 'lemma': 'booz', 'pos': 'VERB', 'dep': 'amod', 'head': 'engendró'}, {'token': 'engendró', 'lemma': 'engendrar', 'pos': 'NOUN', 'dep': 'advcl', 'head': 'engendró'}, {'token': 'obed', 'lemma': 'obed', 'pos': 'VERB', 'dep': 'nmod', 'head': 'engendró'}, {'token': 'obed', 'lemma': 'obed', 'pos': 'VERB', 'dep': 'conj', 'head': 'engendró'}, {'token': 'isaí', 'lemma': 'isaí', 'pos': 'NOUN', 'dep': 'fixed', 'head': 'a'}]\n",
      "[{'token': 'isaí', 'lemma': 'isaí', 'pos': 'NOUN', 'dep': 'nsubj', 'head': 'engendró'}, {'token': 'engendró', 'lemma': 'engendrar', 'pos': 'NOUN', 'dep': 'ROOT', 'head': 'engendró'}, {'token': 'david', 'lemma': 'david', 'pos': 'PROPN', 'dep': 'appos', 'head': 'rey'}, {'token': 'david', 'lemma': 'david', 'pos': 'VERB', 'dep': 'nsubj', 'head': 'engendró'}, {'token': 'engendró', 'lemma': 'engendrar', 'pos': 'NOUN', 'dep': 'conj', 'head': 'engendró'}, {'token': 'salomón', 'lemma': 'salomón', 'pos': 'NOUN', 'dep': 'iobj', 'head': 'engendró'}, {'token': 'mujer', 'lemma': 'mujer', 'pos': 'NOUN', 'dep': 'acl', 'head': 'salomón'}, {'token': 'urías', 'lemma': 'urías', 'pos': 'NOUN', 'dep': 'nmod', 'head': 'mujer'}]\n",
      "[{'token': 'salomón', 'lemma': 'salomón', 'pos': 'NOUN', 'dep': 'nsubj', 'head': 'engendró'}, {'token': 'engendró', 'lemma': 'engendrar', 'pos': 'NOUN', 'dep': 'ROOT', 'head': 'engendró'}, {'token': 'roboam', 'lemma': 'roboam', 'pos': 'VERB', 'dep': 'acl', 'head': 'engendró'}, {'token': 'roboam', 'lemma': 'roboam', 'pos': 'VERB', 'dep': 'advcl', 'head': 'engendró'}, {'token': 'abías', 'lemma': 'abías', 'pos': 'NOUN', 'dep': 'obj', 'head': 'roboam'}, {'token': 'abías', 'lemma': 'abías', 'pos': 'NOUN', 'dep': 'conj', 'head': 'engendró'}]\n",
      "[{'token': 'engendró', 'lemma': 'engendrar', 'pos': 'NOUN', 'dep': 'obj', 'head': 'asa'}, {'token': 'josafat', 'lemma': 'josafat', 'pos': 'NOUN', 'dep': 'obj', 'head': 'asa'}, {'token': 'josafat', 'lemma': 'josafat', 'pos': 'AUX', 'dep': 'amod', 'head': 'asa'}, {'token': 'joram', 'lemma': 'joram', 'pos': 'VERB', 'dep': 'nmod', 'head': 'josafat'}, {'token': 'joram', 'lemma': 'joram', 'pos': 'VERB', 'dep': 'conj', 'head': 'asa'}, {'token': 'uzías', 'lemma': 'uzías', 'pos': 'NOUN', 'dep': 'nmod', 'head': 'joram'}]\n",
      "[{'token': 'uzías', 'lemma': 'uzías', 'pos': 'NOUN', 'dep': 'nsubj', 'head': 'engendró'}, {'token': 'engendró', 'lemma': 'engendrar', 'pos': 'NOUN', 'dep': 'ROOT', 'head': 'engendró'}, {'token': 'jotam', 'lemma': 'jotam', 'pos': 'NOUN', 'dep': 'obj', 'head': 'engendró'}, {'token': 'jotam', 'lemma': 'jotam', 'pos': 'VERB', 'dep': 'amod', 'head': 'jotam'}, {'token': 'acaz', 'lemma': 'acaz', 'pos': 'ADJ', 'dep': 'nmod', 'head': 'jotam'}, {'token': 'acaz', 'lemma': 'acaz', 'pos': 'ADV', 'dep': 'conj', 'head': 'jotam'}, {'token': 'ezequías', 'lemma': 'ezequías', 'pos': 'NOUN', 'dep': 'nmod', 'head': 'acaz'}]\n",
      "[{'token': 'ezequías', 'lemma': 'ezequías', 'pos': 'NOUN', 'dep': 'nsubj', 'head': 'engendró'}, {'token': 'engendró', 'lemma': 'engendrar', 'pos': 'ADJ', 'dep': 'parataxis', 'head': 'manasés'}, {'token': 'manasés', 'lemma': 'manasés', 'pos': 'NOUN', 'dep': 'advmod', 'head': 'engendró'}, {'token': 'manasés', 'lemma': 'manasés', 'pos': 'NOUN', 'dep': 'ROOT', 'head': 'manasés'}, {'token': 'amón', 'lemma': 'amón', 'pos': 'NOUN', 'dep': 'fixed', 'head': 'a'}, {'token': 'amón', 'lemma': 'amón', 'pos': 'VERB', 'dep': 'conj', 'head': 'manasés'}, {'token': 'josías', 'lemma': 'josías', 'pos': 'NOUN', 'dep': 'nmod', 'head': 'amón'}]\n",
      "[{'token': 'josías', 'lemma': 'josías', 'pos': 'NOUN', 'dep': 'nsubj', 'head': 'engendró'}, {'token': 'engendró', 'lemma': 'engendrar', 'pos': 'NOUN', 'dep': 'ROOT', 'head': 'engendró'}, {'token': 'jeconías', 'lemma': 'jeconías', 'pos': 'NOUN', 'dep': 'obj', 'head': 'engendró'}, {'token': 'hermanos', 'lemma': 'hermano', 'pos': 'NOUN', 'dep': 'conj', 'head': 'jeconías'}, {'token': 'deportación', 'lemma': 'deportación', 'pos': 'NOUN', 'dep': 'nmod', 'head': 'tiempo'}, {'token': 'babilonia', 'lemma': 'babilonio', 'pos': 'NOUN', 'dep': 'nmod', 'head': 'deportación'}]\n",
      "[{'token': 'deportación', 'lemma': 'deportación', 'pos': 'NOUN', 'dep': 'obl', 'head': 'después'}, {'token': 'babilonia', 'lemma': 'babilonio', 'pos': 'NOUN', 'dep': 'nmod', 'head': 'deportación'}, {'token': 'jeconías', 'lemma': 'jeconías', 'pos': 'NOUN', 'dep': 'nsubj', 'head': 'engendró'}, {'token': 'engendró', 'lemma': 'engendrar', 'pos': 'NOUN', 'dep': 'ROOT', 'head': 'engendró'}, {'token': 'salatiel', 'lemma': 'salatiel', 'pos': 'NOUN', 'dep': 'obj', 'head': 'engendró'}, {'token': 'salatiel', 'lemma': 'salatiel', 'pos': 'ADJ', 'dep': 'conj', 'head': 'engendró'}, {'token': 'zorobabel', 'lemma': 'zorobabel', 'pos': 'NOUN', 'dep': 'nmod', 'head': 'salatiel'}]\n",
      "[{'token': 'zorobabel', 'lemma': 'zorobabel', 'pos': 'ADV', 'dep': 'nsubj', 'head': 'engendró'}, {'token': 'engendró', 'lemma': 'engendrar', 'pos': 'NOUN', 'dep': 'ROOT', 'head': 'engendró'}, {'token': 'abiud', 'lemma': 'abiud', 'pos': 'NOUN', 'dep': 'obj', 'head': 'engendró'}, {'token': 'abiud', 'lemma': 'abiud', 'pos': 'VERB', 'dep': 'advcl', 'head': 'engendró'}, {'token': 'eliaquim', 'lemma': 'eliaquim', 'pos': 'NOUN', 'dep': 'obj', 'head': 'abiud'}, {'token': 'eliaquim', 'lemma': 'eliaquim', 'pos': 'NOUN', 'dep': 'conj', 'head': 'engendró'}, {'token': 'azor', 'lemma': 'azor', 'pos': 'NOUN', 'dep': 'obj', 'head': 'eliaquim'}]\n",
      "[{'token': 'azor', 'lemma': 'azor', 'pos': 'VERB', 'dep': 'nsubj', 'head': 'engendró'}, {'token': 'engendró', 'lemma': 'engendrar', 'pos': 'NOUN', 'dep': 'ROOT', 'head': 'engendró'}, {'token': 'sadoc', 'lemma': 'sadoc', 'pos': 'ADV', 'dep': 'obj', 'head': 'engendró'}, {'token': 'sadoc', 'lemma': 'sadoc', 'pos': 'ADV', 'dep': 'advcl', 'head': 'engendró'}, {'token': 'aquim', 'lemma': 'aquim', 'pos': 'NOUN', 'dep': 'obj', 'head': 'sadoc'}, {'token': 'aquim', 'lemma': 'aquim', 'pos': 'ADJ', 'dep': 'conj', 'head': 'engendró'}, {'token': 'eliud', 'lemma': 'eliud', 'pos': 'VERB', 'dep': 'obj', 'head': 'aquim'}]\n",
      "[{'token': 'eliud', 'lemma': 'eliud', 'pos': 'VERB', 'dep': 'nsubj', 'head': 'engendró'}, {'token': 'engendró', 'lemma': 'engendrar', 'pos': 'NOUN', 'dep': 'ROOT', 'head': 'engendró'}, {'token': 'eleazar', 'lemma': 'eleazar', 'pos': 'VERB', 'dep': 'xcomp', 'head': 'engendró'}, {'token': 'eleazar', 'lemma': 'eleazar', 'pos': 'VERB', 'dep': 'advcl', 'head': 'engendró'}, {'token': 'matán', 'lemma': 'matán', 'pos': 'NOUN', 'dep': 'obl', 'head': 'eleazar'}, {'token': 'matán', 'lemma': 'matán', 'pos': 'VERB', 'dep': 'advcl', 'head': 'engendró'}, {'token': 'jacob', 'lemma': 'jacob', 'pos': 'NOUN', 'dep': 'obl', 'head': 'matán'}, {'token': 'jacob', 'lemma': 'jacob', 'pos': 'NOUN', 'dep': 'conj', 'head': '16'}, {'token': 'engendró', 'lemma': 'engendrar', 'pos': 'NOUN', 'dep': 'conj', 'head': 'engendró'}, {'token': 'josé', 'lemma': 'josé', 'pos': 'NOUN', 'dep': 'obj', 'head': 'engendró'}, {'token': 'marido', 'lemma': 'maridar', 'pos': 'NOUN', 'dep': 'appos', 'head': 'josé'}, {'token': 'maría', 'lemma': 'maría', 'pos': 'NOUN', 'dep': 'nmod', 'head': 'marido'}, {'token': 'nació', 'lemma': 'nacer', 'pos': 'VERB', 'dep': 'acl', 'head': 'maría'}, {'token': 'jesús', 'lemma': 'jesús', 'pos': 'ADV', 'dep': 'nsubj', 'head': 'nació'}, {'token': 'llamado', 'lemma': 'llamar', 'pos': 'ADJ', 'dep': 'advcl', 'head': 'nació'}, {'token': 'cristo', 'lemma': 'cristo', 'pos': 'NOUN', 'dep': 'obj', 'head': 'llamado'}]\n",
      "[{'token': 'generaciones', 'lemma': 'generación', 'pos': 'NOUN', 'dep': 'nsubj', 'head': 'catorce'}, {'token': 'abraham', 'lemma': 'abraham', 'pos': 'VERB', 'dep': 'nmod', 'head': 'generaciones'}, {'token': 'david', 'lemma': 'david', 'pos': 'NOUN', 'dep': 'obl', 'head': 'abraham'}, {'token': 'catorce', 'lemma': 'catorce', 'pos': 'NUM', 'dep': 'parataxis', 'head': '17'}, {'token': 'david', 'lemma': 'david', 'pos': 'NOUN', 'dep': 'nmod', 'head': '17'}, {'token': 'deportación', 'lemma': 'deportación', 'pos': 'NOUN', 'dep': 'nmod', 'head': 'david'}, {'token': 'babilonia', 'lemma': 'babilonio', 'pos': 'ADJ', 'dep': 'nmod', 'head': 'deportación'}, {'token': 'catorce', 'lemma': 'catorce', 'pos': 'NUM', 'dep': 'appos', 'head': 'david'}, {'token': 'deportación', 'lemma': 'deportación', 'pos': 'NOUN', 'dep': 'obl', 'head': 'catorce'}, {'token': 'babilonia', 'lemma': 'babilonio', 'pos': 'NOUN', 'dep': 'nmod', 'head': 'deportación'}, {'token': 'cristo', 'lemma': 'cristo', 'pos': 'NOUN', 'dep': 'nmod', 'head': 'deportación'}, {'token': 'catorce', 'lemma': 'catorce', 'pos': 'NUM', 'dep': 'ROOT', 'head': 'catorce'}]\n",
      "[{'token': 'nacimiento', 'lemma': 'nacimiento', 'pos': 'NOUN', 'dep': 'ROOT', 'head': 'nacimiento'}, {'token': 'jesucristo', 'lemma': 'jesucristo', 'pos': 'NOUN', 'dep': 'nmod', 'head': 'nacimiento'}]\n",
      "[]\n",
      "[]\n",
      "[{'token': 'nacimiento', 'lemma': 'nacimiento', 'pos': 'NOUN', 'dep': 'nsubj', 'head': 'así'}, {'token': 'jesucristo', 'lemma': 'jesucristo', 'pos': 'NOUN', 'dep': 'nmod', 'head': 'nacimiento'}, {'token': 'estando', 'lemma': 'estar', 'pos': 'AUX', 'dep': 'aux', 'head': 'desposada'}, {'token': 'desposada', 'lemma': 'desposar', 'pos': 'ADJ', 'dep': 'advcl', 'head': 'así'}, {'token': 'maría', 'lemma': 'maría', 'pos': 'VERB', 'dep': 'ROOT', 'head': 'maría'}, {'token': 'madre', 'lemma': 'madre', 'pos': 'NOUN', 'dep': 'obj', 'head': 'maría'}, {'token': 'josé', 'lemma': 'josé', 'pos': 'NOUN', 'dep': 'obl', 'head': 'maría'}, {'token': 'juntasen', 'lemma': 'juntar', 'pos': 'VERB', 'dep': 'advcl', 'head': 'antes'}, {'token': 'halló', 'lemma': 'hallar', 'pos': 'VERB', 'dep': 'advcl', 'head': 'maría'}, {'token': 'concebido', 'lemma': 'concebir', 'pos': 'VERB', 'dep': 'csubj', 'head': 'halló'}, {'token': 'espíritu', 'lemma': 'espíritu', 'pos': 'NOUN', 'dep': 'obj', 'head': 'concebido'}, {'token': 'santo', 'lemma': 'santo', 'pos': 'ADJ', 'dep': 'amod', 'head': 'espíritu'}]\n",
      "[{'token': 'josé', 'lemma': 'josé', 'pos': 'NOUN', 'dep': 'nsubj', 'head': 'quiso'}, {'token': 'marido', 'lemma': 'maridar', 'pos': 'NOUN', 'dep': 'appos', 'head': 'josé'}, {'token': 'justo', 'lemma': 'justar', 'pos': 'ADJ', 'dep': 'acl', 'head': 'marido'}, {'token': 'quería', 'lemma': 'querer', 'pos': 'VERB', 'dep': 'conj', 'head': 'josé'}, {'token': 'infamarla', 'lemma': 'infamarla', 'pos': 'NOUN', 'dep': 'obj', 'head': 'quería'}, {'token': 'quiso', 'lemma': 'querer', 'pos': 'VERB', 'dep': 'ROOT', 'head': 'quiso'}, {'token': 'dejarla', 'lemma': 'dejarla', 'pos': 'NOUN', 'dep': 'obj', 'head': 'quiso'}, {'token': 'secretamente', 'lemma': 'secretamente', 'pos': 'ADV', 'dep': 'advmod', 'head': 'dejarla'}]\n",
      "[{'token': 'pensando', 'lemma': 'pensar', 'pos': 'VERB', 'dep': 'conj', 'head': '20'}, {'token': 'ángel', 'lemma': 'ángel', 'pos': 'NOUN', 'dep': 'obj', 'head': 'he'}, {'token': 'señor', 'lemma': 'señor', 'pos': 'NOUN', 'dep': 'nmod', 'head': 'ángel'}, {'token': 'apareció', 'lemma': 'aparecer', 'pos': 'VERB', 'dep': 'ROOT', 'head': 'apareció'}, {'token': 'sueños', 'lemma': 'sueño', 'pos': 'NOUN', 'dep': 'obl', 'head': 'apareció'}, {'token': 'josé', 'lemma': 'josé', 'pos': 'NOUN', 'dep': 'obj', 'head': 'dijo'}, {'token': 'hijo', 'lemma': 'hijo', 'pos': 'NOUN', 'dep': 'appos', 'head': 'josé'}, {'token': 'david', 'lemma': 'david', 'pos': 'NOUN', 'dep': 'nmod', 'head': 'hijo'}, {'token': 'temas', 'lemma': 'temer', 'pos': 'NOUN', 'dep': 'conj', 'head': 'josé'}, {'token': 'recibir', 'lemma': 'recibir', 'pos': 'VERB', 'dep': 'acl', 'head': 'temas'}, {'token': 'maría', 'lemma': 'maría', 'pos': 'NOUN', 'dep': 'ccomp', 'head': 'dijo'}, {'token': 'mujer', 'lemma': 'mujer', 'pos': 'NOUN', 'dep': 'obj', 'head': 'maría'}, {'token': 'engendrado', 'lemma': 'engendrar', 'pos': 'VERB', 'dep': 'advcl', 'head': 'dijo'}, {'token': 'espíritu', 'lemma': 'espíritu', 'pos': 'NOUN', 'dep': 'obl', 'head': 'engendrado'}, {'token': 'santo', 'lemma': 'santo', 'pos': 'ADJ', 'dep': 'amod', 'head': 'espíritu'}]\n",
      "[{'token': 'dará', 'lemma': 'dar', 'pos': 'VERB', 'dep': 'conj', 'head': '21'}, {'token': 'hijo', 'lemma': 'hijo', 'pos': 'NOUN', 'dep': 'obj', 'head': 'dará'}, {'token': 'llamarás', 'lemma': 'llamar', 'pos': 'VERB', 'dep': 'conj', 'head': '21'}, {'token': 'nombre', 'lemma': 'nombrar', 'pos': 'NOUN', 'dep': 'obj', 'head': 'llamarás'}, {'token': 'jesús', 'lemma': 'jesús', 'pos': 'ADJ', 'dep': 'amod', 'head': 'nombre'}, {'token': 'salvará', 'lemma': 'salvar', 'pos': 'VERB', 'dep': 'advcl', 'head': 'llamarás'}, {'token': 'pueblo', 'lemma': 'poblar', 'pos': 'NOUN', 'dep': 'obj', 'head': 'salvará'}, {'token': 'pecados', 'lemma': 'pecar', 'pos': 'NOUN', 'dep': 'nmod', 'head': 'pueblo'}]\n",
      "[{'token': 'aconteció', 'lemma': 'acontecer', 'pos': 'VERB', 'dep': 'ROOT', 'head': 'aconteció'}, {'token': 'cumpliese', 'lemma': 'cumplir', 'pos': 'VERB', 'dep': 'advcl', 'head': 'aconteció'}, {'token': 'señor', 'lemma': 'señor', 'pos': 'NOUN', 'dep': 'obj', 'head': 'dicho'}, {'token': 'profeta', 'lemma': 'profeta', 'pos': 'NOUN', 'dep': 'nmod', 'head': 'señor'}]\n",
      "[{'token': 'virgen', 'lemma': 'virgen', 'pos': 'PROPN', 'dep': 'nsubj', 'head': 'concebirá'}, {'token': 'concebirá', 'lemma': 'concebir', 'pos': 'VERB', 'dep': 'advcl', 'head': 'he'}, {'token': 'dará', 'lemma': 'dar', 'pos': 'VERB', 'dep': 'conj', 'head': 'he'}, {'token': 'hijo', 'lemma': 'hijo', 'pos': 'NOUN', 'dep': 'obj', 'head': 'dará'}]\n",
      "[{'token': 'llamarás', 'lemma': 'llamar', 'pos': 'VERB', 'dep': 'ROOT', 'head': 'llamarás'}, {'token': 'nombre', 'lemma': 'nombrar', 'pos': 'NOUN', 'dep': 'obj', 'head': 'llamarás'}, {'token': 'emanuel', 'lemma': 'emanuel', 'pos': 'ADJ', 'dep': 'amod', 'head': 'nombre'}]\n",
      "[{'token': 'traducido', 'lemma': 'traducir', 'pos': 'ADJ', 'dep': 'csubj', 'head': 'es'}, {'token': 'dios', 'lemma': 'dios', 'pos': 'NOUN', 'dep': 'ROOT', 'head': 'dios'}]\n",
      "[{'token': 'despertando', 'lemma': 'despertar', 'pos': 'VERB', 'dep': 'conj', 'head': '24'}, {'token': 'josé', 'lemma': 'josé', 'pos': 'NOUN', 'dep': 'obj', 'head': 'despertando'}, {'token': 'sueño', 'lemma': 'soñar', 'pos': 'NOUN', 'dep': 'nmod', 'head': 'josé'}, {'token': 'ángel', 'lemma': 'ángel', 'pos': 'NOUN', 'dep': 'obj', 'head': 'hizo'}, {'token': 'señor', 'lemma': 'señor', 'pos': 'NOUN', 'dep': 'nmod', 'head': 'ángel'}, {'token': 'mandado', 'lemma': 'mandar', 'pos': 'VERB', 'dep': 'ROOT', 'head': 'mandado'}, {'token': 'recibió', 'lemma': 'recibir', 'pos': 'VERB', 'dep': 'conj', 'head': 'mandado'}, {'token': 'mujer', 'lemma': 'mujer', 'pos': 'NOUN', 'dep': 'obj', 'head': 'recibió'}]\n",
      "[{'token': 'conoció', 'lemma': 'conocer', 'pos': 'VERB', 'dep': 'conj', 'head': '25'}, {'token': 'hijo', 'lemma': 'hijo', 'pos': 'NOUN', 'dep': 'obj', 'head': 'dio'}, {'token': 'primogénito', 'lemma': 'primogénito', 'pos': 'ADJ', 'dep': 'amod', 'head': 'hijo'}, {'token': 'puso', 'lemma': 'poner', 'pos': 'VERB', 'dep': 'conj', 'head': '25'}, {'token': 'nombre', 'lemma': 'nombrar', 'pos': 'NOUN', 'dep': 'obl', 'head': 'puso'}, {'token': 'jesús', 'lemma': 'jesús', 'pos': 'ADJ', 'dep': 'amod', 'head': 'nombre'}]\n",
      "[{'token': 'visita', 'lemma': 'visitar', 'pos': 'NOUN', 'dep': 'ROOT', 'head': 'visita'}, {'token': 'magos', 'lemma': 'mago', 'pos': 'NOUN', 'dep': 'nmod', 'head': 'visita'}]\n",
      "[{'token': 'jesús', 'lemma': 'jesús', 'pos': 'ADV', 'dep': 'nsubj', 'head': 'nació'}, {'token': 'nació', 'lemma': 'nacer', 'pos': 'VERB', 'dep': 'advcl', 'head': '1'}, {'token': 'belén', 'lemma': 'belén', 'pos': 'NOUN', 'dep': 'obl', 'head': 'nació'}, {'token': 'judea', 'lemma': 'judea', 'pos': 'NOUN', 'dep': 'nmod', 'head': 'belén'}, {'token': 'herodes', 'lemma': 'herodes', 'pos': 'ADJ', 'dep': 'amod', 'head': 'rey'}, {'token': 'vinieron', 'lemma': 'venir', 'pos': 'VERB', 'dep': 'ROOT', 'head': 'vinieron'}, {'token': 'oriente', 'lemma': 'orientar', 'pos': 'NOUN', 'dep': 'obl', 'head': 'vinieron'}, {'token': 'jerusalén', 'lemma': 'jerusalén', 'pos': 'NOUN', 'dep': 'obl', 'head': 'vinieron'}, {'token': 'magos', 'lemma': 'mago', 'pos': 'NOUN', 'dep': 'obj', 'head': 'vinieron'}, {'token': 'diciendo', 'lemma': 'decir', 'pos': 'AUX', 'dep': 'aux', 'head': 'está'}, {'token': 'judíos', 'lemma': 'judío', 'pos': 'NOUN', 'dep': 'nmod', 'head': 'rey'}, {'token': 'nacido', 'lemma': 'nacer', 'pos': 'VERB', 'dep': 'acl', 'head': 'rey'}]\n",
      "[{'token': 'estrella', 'lemma': 'estrellar', 'pos': 'NOUN', 'dep': 'nsubj', 'head': 'visto'}, {'token': 'visto', 'lemma': 'vestir', 'pos': 'VERB', 'dep': 'ROOT', 'head': 'visto'}, {'token': 'oriente', 'lemma': 'orientar', 'pos': 'NOUN', 'dep': 'obl', 'head': 'visto'}, {'token': 'venimos', 'lemma': 'venir', 'pos': 'VERB', 'dep': 'conj', 'head': 'visto'}, {'token': 'adorarle', 'lemma': 'adorarle', 'pos': 'NOUN', 'dep': 'fixed', 'head': 'a'}]\n",
      "[{'token': 'oyendo', 'lemma': 'oír', 'pos': 'VERB', 'dep': 'ROOT', 'head': 'oyendo'}, {'token': 'herodes', 'lemma': 'herodes', 'pos': 'ADJ', 'dep': 'amod', 'head': 'rey'}, {'token': 'turbó', 'lemma': 'turbar', 'pos': 'VERB', 'dep': 'advcl', 'head': 'oyendo'}, {'token': 'jerusalén', 'lemma': 'jerusalén', 'pos': 'NOUN', 'dep': 'conj', 'head': 'oyendo'}]\n",
      "[{'token': 'convocados', 'lemma': 'convocar', 'pos': 'ADJ', 'dep': 'conj', 'head': '4'}, {'token': 'principales', 'lemma': 'principal', 'pos': 'ADJ', 'dep': 'amod', 'head': 'sacerdotes'}, {'token': 'sacerdotes', 'lemma': 'sacerdote', 'pos': 'NOUN', 'dep': 'conj', 'head': '4'}, {'token': 'escribas', 'lemma': 'escribir', 'pos': 'NOUN', 'dep': 'conj', 'head': 'sacerdotes'}, {'token': 'pueblo', 'lemma': 'poblar', 'pos': 'NOUN', 'dep': 'nmod', 'head': 'escribas'}, {'token': 'preguntó', 'lemma': 'preguntar', 'pos': 'VERB', 'dep': 'ROOT', 'head': 'preguntó'}, {'token': 'nacer', 'lemma': 'nacer', 'pos': 'VERB', 'dep': 'xcomp', 'head': 'preguntó'}, {'token': 'cristo', 'lemma': 'cristo', 'pos': 'NOUN', 'dep': 'obj', 'head': 'nacer'}]\n",
      "[{'token': 'belén', 'lemma': 'belén', 'pos': 'NOUN', 'dep': 'obl', 'head': 'dijeron'}, {'token': 'judea', 'lemma': 'judea', 'pos': 'NOUN', 'dep': 'nmod', 'head': 'belén'}, {'token': 'escrito', 'lemma': 'escribir', 'pos': 'ADJ', 'dep': 'advcl', 'head': 'dijeron'}, {'token': 'profeta', 'lemma': 'profeta', 'pos': 'NOUN', 'dep': 'obl', 'head': 'escrito'}]\n",
      "[{'token': 'belén', 'lemma': 'belén', 'pos': 'NOUN', 'dep': 'conj', 'head': '6'}, {'token': 'tierra', 'lemma': 'tierra', 'pos': 'NOUN', 'dep': 'nmod', 'head': '6'}, {'token': 'judá', 'lemma': 'judá', 'pos': 'NOUN', 'dep': 'nmod', 'head': 'tierra'}]\n",
      "[{'token': 'pequeña', 'lemma': 'pequeño', 'pos': 'ADJ', 'dep': 'ROOT', 'head': 'pequeña'}, {'token': 'príncipes', 'lemma': 'príncipe', 'pos': 'NOUN', 'dep': 'obl', 'head': 'pequeña'}, {'token': 'judá', 'lemma': 'judá', 'pos': 'NOUN', 'dep': 'nmod', 'head': 'príncipes'}]\n",
      "[{'token': 'saldrá', 'lemma': 'salir', 'pos': 'VERB', 'dep': 'ROOT', 'head': 'saldrá'}, {'token': 'guiador', 'lemma': 'guiador', 'pos': 'NOUN', 'dep': 'obj', 'head': 'saldrá'}]\n",
      "[{'token': 'apacentará', 'lemma': 'apacentar', 'pos': 'VERB', 'dep': 'ROOT', 'head': 'apacentará'}, {'token': 'pueblo', 'lemma': 'poblar', 'pos': 'NOUN', 'dep': 'obj', 'head': 'apacentará'}, {'token': 'israel', 'lemma': 'israel', 'pos': 'ADJ', 'dep': 'amod', 'head': 'pueblo'}]\n",
      "[{'token': 'herodes', 'lemma': 'herodes', 'pos': 'ADJ', 'dep': 'nsubj', 'head': 'indagó'}, {'token': 'llamando', 'lemma': 'llamar', 'pos': 'VERB', 'dep': 'advcl', 'head': 'herodes'}, {'token': 'secreto', 'lemma': 'secretar', 'pos': 'NOUN', 'dep': 'obl', 'head': 'llamando'}, {'token': 'magos', 'lemma': 'mago', 'pos': 'NOUN', 'dep': 'obj', 'head': 'llamando'}, {'token': 'indagó', 'lemma': 'indagar', 'pos': 'VERB', 'dep': 'ROOT', 'head': 'indagó'}, {'token': 'diligentemente', 'lemma': 'diligentemente', 'pos': 'ADV', 'dep': 'advmod', 'head': 'indagó'}, {'token': 'aparición', 'lemma': 'aparición', 'pos': 'NOUN', 'dep': 'nmod', 'head': 'tiempo'}, {'token': 'estrella', 'lemma': 'estrellar', 'pos': 'NOUN', 'dep': 'nmod', 'head': 'aparición'}, {'token': 'enviándolos', 'lemma': 'enviándolos', 'pos': 'NOUN', 'dep': 'conj', 'head': '8'}, {'token': 'belén', 'lemma': 'belén', 'pos': 'NOUN', 'dep': 'nmod', 'head': 'enviándolos'}, {'token': 'allá', 'lemma': 'allá', 'pos': 'ADV', 'dep': 'advmod', 'head': 'id'}, {'token': 'averiguad', 'lemma': 'averiguar', 'pos': 'ADJ', 'dep': 'conj', 'head': 'id'}, {'token': 'diligencia', 'lemma': 'diligenciar', 'pos': 'NOUN', 'dep': 'obl', 'head': 'averiguad'}, {'token': 'acerca', 'lemma': 'acercar', 'pos': 'ADV', 'dep': 'case', 'head': 'niño'}, {'token': 'niño', 'lemma': 'niño', 'pos': 'NOUN', 'dep': 'nmod', 'head': 'diligencia'}, {'token': 'halléis', 'lemma': 'hallar', 'pos': 'VERB', 'dep': 'acl', 'head': 'hacédmelo'}, {'token': 'hacédmelo', 'lemma': 'hacédmelo', 'pos': 'NOUN', 'dep': 'nsubj', 'head': 'saber'}, {'token': 'adore', 'lemma': 'adorar', 'pos': 'VERB', 'dep': 'conj', 'head': 'vaya'}]\n",
      "[{'token': 'habiendo', 'lemma': 'haber', 'pos': 'AUX', 'dep': 'aux', 'head': 'oído'}, {'token': 'oído', 'lemma': 'oír', 'pos': 'VERB', 'dep': 'ROOT', 'head': 'oído'}, {'token': 'estrella', 'lemma': 'estrellar', 'pos': 'NOUN', 'dep': 'obj', 'head': 'he'}, {'token': 'visto', 'lemma': 'vestir', 'pos': 'VERB', 'dep': 'acl', 'head': 'estrella'}, {'token': 'oriente', 'lemma': 'orientar', 'pos': 'NOUN', 'dep': 'obl', 'head': 'visto'}, {'token': 'llegando', 'lemma': 'llegar', 'pos': 'VERB', 'dep': 'advcl', 'head': 'detuvo'}, {'token': 'detuvo', 'lemma': 'detener', 'pos': 'VERB', 'dep': 'conj', 'head': 'oído'}, {'token': 'niño', 'lemma': 'niño', 'pos': 'NOUN', 'dep': 'nsubj', 'head': 'estaba'}]\n",
      "[{'token': 'estrella', 'lemma': 'estrellar', 'pos': 'NOUN', 'dep': 'obj', 'head': 'ver'}, {'token': 'regocijaron', 'lemma': 'regocijar', 'pos': 'VERB', 'dep': 'ROOT', 'head': 'regocijaron'}, {'token': 'grande', 'lemma': 'grande', 'pos': 'ADJ', 'dep': 'amod', 'head': 'gozo'}, {'token': 'gozo', 'lemma': 'gozar', 'pos': 'NOUN', 'dep': 'obl', 'head': 'regocijaron'}]\n",
      "[{'token': 'entrar', 'lemma': 'entrar', 'pos': 'VERB', 'dep': 'conj', 'head': '11'}, {'token': 'casa', 'lemma': 'casar', 'pos': 'NOUN', 'dep': 'obl', 'head': 'entrar'}, {'token': 'vieron', 'lemma': 'ver', 'pos': 'VERB', 'dep': 'ROOT', 'head': 'vieron'}, {'token': 'niño', 'lemma': 'niño', 'pos': 'NOUN', 'dep': 'obj', 'head': 'vieron'}, {'token': 'madre', 'lemma': 'madre', 'pos': 'NOUN', 'dep': 'obl', 'head': 'vieron'}, {'token': 'maría', 'lemma': 'maría', 'pos': 'VERB', 'dep': 'ccomp', 'head': 'vieron'}, {'token': 'postrándose', 'lemma': 'postrándose', 'pos': 'ADJ', 'dep': 'conj', 'head': 'maría'}, {'token': 'adoraron', 'lemma': 'adorar', 'pos': 'VERB', 'dep': 'advcl', 'head': 'vieron'}, {'token': 'abriendo', 'lemma': 'abrir', 'pos': 'VERB', 'dep': 'advcl', 'head': 'ofrecieron'}, {'token': 'tesoros', 'lemma': 'tesoro', 'pos': 'NOUN', 'dep': 'obj', 'head': 'abriendo'}, {'token': 'ofrecieron', 'lemma': 'ofrecer', 'pos': 'VERB', 'dep': 'conj', 'head': 'vieron'}, {'token': 'presentes', 'lemma': 'presente', 'pos': 'ADJ', 'dep': 'obj', 'head': 'ofrecieron'}, {'token': 'incienso', 'lemma': 'incensar', 'pos': 'ADJ', 'dep': 'conj', 'head': 'oro'}, {'token': 'mirra', 'lemma': 'mirra', 'pos': 'NOUN', 'dep': 'conj', 'head': 'oro'}]\n",
      "[{'token': 'avisados', 'lemma': 'avisar', 'pos': 'ADJ', 'dep': 'conj', 'head': '12'}, {'token': 'revelación', 'lemma': 'revelación', 'pos': 'NOUN', 'dep': 'obl', 'head': 'avisados'}, {'token': 'sueños', 'lemma': 'sueño', 'pos': 'NOUN', 'dep': 'obl', 'head': 'avisados'}, {'token': 'volviesen', 'lemma': 'volver', 'pos': 'AUX', 'dep': 'acl', 'head': 'sueños'}, {'token': 'herodes', 'lemma': 'herodes', 'pos': 'NOUN', 'dep': 'obl', 'head': 'volviesen'}, {'token': 'regresaron', 'lemma': 'regresar', 'pos': 'VERB', 'dep': 'ROOT', 'head': 'regresaron'}, {'token': 'tierra', 'lemma': 'tierra', 'pos': 'NOUN', 'dep': 'obl', 'head': 'regresaron'}, {'token': 'camino', 'lemma': 'caminar', 'pos': 'NOUN', 'dep': 'obl', 'head': 'regresaron'}]\n",
      "[{'token': 'matanza', 'lemma': 'matanza', 'pos': 'NOUN', 'dep': 'ROOT', 'head': 'matanza'}, {'token': 'niños', 'lemma': 'niño', 'pos': 'NOUN', 'dep': 'nmod', 'head': 'matanza'}]\n",
      "[{'token': 'partieron', 'lemma': 'partir', 'pos': 'VERB', 'dep': 'advcl', 'head': 'después'}, {'token': 'ángel', 'lemma': 'ángel', 'pos': 'NOUN', 'dep': 'obj', 'head': 'he'}, {'token': 'señor', 'lemma': 'señor', 'pos': 'NOUN', 'dep': 'nmod', 'head': 'ángel'}, {'token': 'apareció', 'lemma': 'aparecer', 'pos': 'VERB', 'dep': 'ROOT', 'head': 'apareció'}, {'token': 'sueños', 'lemma': 'sueño', 'pos': 'NOUN', 'dep': 'fixed', 'head': 'en'}, {'token': 'josé', 'lemma': 'josé', 'pos': 'NOUN', 'dep': 'obl', 'head': 'apareció'}, {'token': 'levántate', 'lemma': 'levántate', 'pos': 'NOUN', 'dep': 'ccomp', 'head': 'dijo'}, {'token': 'toma', 'lemma': 'tomar', 'pos': 'VERB', 'dep': 'conj', 'head': 'levántate'}, {'token': 'niño', 'lemma': 'niño', 'pos': 'NOUN', 'dep': 'nmod', 'head': 'levántate'}, {'token': 'madre', 'lemma': 'madre', 'pos': 'NOUN', 'dep': 'conj', 'head': 'niño'}, {'token': 'huye', 'lemma': 'huir', 'pos': 'VERB', 'dep': 'conj', 'head': 'levántate'}, {'token': 'egipto', 'lemma': 'egipto', 'pos': 'NOUN', 'dep': 'obl', 'head': 'huye'}, {'token': 'permanece', 'lemma': 'permanecer', 'pos': 'VERB', 'dep': 'conj', 'head': 'levántate'}, {'token': 'allá', 'lemma': 'allá', 'pos': 'ADV', 'dep': 'advmod', 'head': 'permanece'}, {'token': 'diga', 'lemma': 'decir', 'pos': 'VERB', 'dep': 'advcl', 'head': 'permanece'}, {'token': 'acontecerá', 'lemma': 'acontecer', 'pos': 'VERB', 'dep': 'advcl', 'head': 'apareció'}, {'token': 'herodes', 'lemma': 'herodes', 'pos': 'NOUN', 'dep': 'nsubj', 'head': 'buscará'}, {'token': 'buscará', 'lemma': 'buscar', 'pos': 'VERB', 'dep': 'ccomp', 'head': 'acontecerá'}, {'token': 'niño', 'lemma': 'niño', 'pos': 'NOUN', 'dep': 'obj', 'head': 'buscará'}, {'token': 'matarlo', 'lemma': 'matarlo', 'pos': 'VERB', 'dep': 'nmod', 'head': 'niño'}]\n",
      "[{'token': 'despertando', 'lemma': 'despertar', 'pos': 'VERB', 'dep': 'advcl', 'head': '14'}, {'token': 'tomó', 'lemma': 'tomar', 'pos': 'VERB', 'dep': 'ROOT', 'head': 'tomó'}, {'token': 'noche', 'lemma': 'noche', 'pos': 'NOUN', 'dep': 'obl', 'head': 'tomó'}, {'token': 'niño', 'lemma': 'niño', 'pos': 'NOUN', 'dep': 'iobj', 'head': 'tomó'}, {'token': 'madre', 'lemma': 'madre', 'pos': 'NOUN', 'dep': 'conj', 'head': 'niño'}, {'token': 'egipto', 'lemma': 'egipto', 'pos': 'NOUN', 'dep': 'conj', 'head': 'tomó'}, {'token': 'allá', 'lemma': 'allá', 'pos': 'ADV', 'dep': 'advmod', 'head': 'estuvo'}, {'token': 'muerte', 'lemma': 'muerte', 'pos': 'NOUN', 'dep': 'obl', 'head': 'estuvo'}, {'token': 'herodes', 'lemma': 'herodes', 'pos': 'NOUN', 'dep': 'nmod', 'head': 'muerte'}, {'token': 'cumpliese', 'lemma': 'cumplir', 'pos': 'VERB', 'dep': 'advcl', 'head': 'tomó'}, {'token': 'señor', 'lemma': 'señor', 'pos': 'NOUN', 'dep': 'nsubj', 'head': 'dijo'}, {'token': 'profeta', 'lemma': 'profeta', 'pos': 'NOUN', 'dep': 'nmod', 'head': 'señor'}, {'token': 'egipto', 'lemma': 'egipto', 'pos': 'NOUN', 'dep': 'obl', 'head': 'dijo'}, {'token': 'llamé', 'lemma': 'llamar', 'pos': 'VERB', 'dep': 'amod', 'head': 'egipto'}, {'token': 'hijo', 'lemma': 'hijo', 'pos': 'NOUN', 'dep': 'nmod', 'head': 'egipto'}]\n",
      "[{'token': 'herodes', 'lemma': 'herodes', 'pos': 'NOUN', 'dep': 'nsubj', 'head': 'enojó'}, {'token': 'burlado', 'lemma': 'burlar', 'pos': 'ADJ', 'dep': 'obj', 'head': 'vio'}, {'token': 'magos', 'lemma': 'mago', 'pos': 'NOUN', 'dep': 'obj', 'head': 'burlado'}, {'token': 'enojó', 'lemma': 'enojar', 'pos': 'VERB', 'dep': 'ROOT', 'head': 'enojó'}, {'token': 'mandó', 'lemma': 'mandar', 'pos': 'VERB', 'dep': 'conj', 'head': 'enojó'}, {'token': 'matar', 'lemma': 'matar', 'pos': 'VERB', 'dep': 'xcomp', 'head': 'mandó'}, {'token': 'niños', 'lemma': 'niño', 'pos': 'NOUN', 'dep': 'obj', 'head': 'matar'}, {'token': 'menores', 'lemma': 'menor', 'pos': 'ADJ', 'dep': 'amod', 'head': 'niños'}, {'token': 'años', 'lemma': 'año', 'pos': 'NOUN', 'dep': 'nmod', 'head': 'niños'}, {'token': 'belén', 'lemma': 'belén', 'pos': 'NOUN', 'dep': 'obl', 'head': 'había'}, {'token': 'alrededores', 'lemma': 'alrededor', 'pos': 'NOUN', 'dep': 'conj', 'head': 'belén'}, {'token': 'conforme', 'lemma': 'conformar', 'pos': 'NOUN', 'dep': 'case', 'head': 'tiempo'}, {'token': 'inquirido', 'lemma': 'inquirir', 'pos': 'VERB', 'dep': 'acl', 'head': 'tiempo'}, {'token': 'magos', 'lemma': 'mago', 'pos': 'NOUN', 'dep': 'obl', 'head': 'inquirido'}]\n",
      "[{'token': 'cumplió', 'lemma': 'cumplir', 'pos': 'VERB', 'dep': 'ROOT', 'head': 'cumplió'}, {'token': 'profeta', 'lemma': 'profeta', 'pos': 'NOUN', 'dep': 'obj', 'head': 'dicho'}, {'token': 'jeremías', 'lemma': 'jeremías', 'pos': 'NOUN', 'dep': 'amod', 'head': 'profeta'}]\n",
      "[{'token': 'oída', 'lemma': 'oír', 'pos': 'VERB', 'dep': 'ROOT', 'head': 'oída'}, {'token': 'ramá', 'lemma': 'ramá', 'pos': 'NOUN', 'dep': 'obl', 'head': 'oída'}]\n",
      "[{'token': 'grande', 'lemma': 'grande', 'pos': 'ADJ', 'dep': 'amod', 'head': 'lamentación'}, {'token': 'lamentación', 'lemma': 'lamentación', 'pos': 'NOUN', 'dep': 'ROOT', 'head': 'lamentación'}, {'token': 'lloro', 'lemma': 'llorar', 'pos': 'NOUN', 'dep': 'conj', 'head': 'lamentación'}, {'token': 'gemido', 'lemma': 'gemir', 'pos': 'ADJ', 'dep': 'conj', 'head': 'lamentación'}]\n",
      "[{'token': 'raquel', 'lemma': 'raquel', 'pos': 'VERB', 'dep': 'ROOT', 'head': 'raquel'}, {'token': 'llora', 'lemma': 'llorar', 'pos': 'VERB', 'dep': 'ccomp', 'head': 'raquel'}, {'token': 'hijos', 'lemma': 'hijo', 'pos': 'NOUN', 'dep': 'obj', 'head': 'llora'}]\n",
      "[{'token': 'quiso', 'lemma': 'querer', 'pos': 'VERB', 'dep': 'ROOT', 'head': 'quiso'}, {'token': 'consolada', 'lemma': 'consolar', 'pos': 'VERB', 'dep': 'ccomp', 'head': 'quiso'}, {'token': 'perecieron', 'lemma': 'perecer', 'pos': 'VERB', 'dep': 'advcl', 'head': 'consolada'}]\n",
      "[{'token': 'muerto', 'lemma': 'morir', 'pos': 'NOUN', 'dep': 'obl', 'head': 'después'}, {'token': 'herodes', 'lemma': 'herodes', 'pos': 'ADJ', 'dep': 'ROOT', 'head': 'herodes'}, {'token': 'ángel', 'lemma': 'ángel', 'pos': 'NOUN', 'dep': 'obj', 'head': 'he'}, {'token': 'señor', 'lemma': 'señor', 'pos': 'NOUN', 'dep': 'nmod', 'head': 'ángel'}, {'token': 'apareció', 'lemma': 'aparecer', 'pos': 'VERB', 'dep': 'advcl', 'head': 'herodes'}, {'token': 'sueños', 'lemma': 'sueño', 'pos': 'NOUN', 'dep': 'fixed', 'head': 'en'}, {'token': 'josé', 'lemma': 'josé', 'pos': 'NOUN', 'dep': 'obl', 'head': 'apareció'}, {'token': 'egipto', 'lemma': 'egipto', 'pos': 'NOUN', 'dep': 'nmod', 'head': 'josé'}, {'token': 'diciendo', 'lemma': 'decir', 'pos': 'AUX', 'dep': 'aux', 'head': 'levántate'}, {'token': 'levántate', 'lemma': 'levántate', 'pos': 'NOUN', 'dep': 'advcl', 'head': 'apareció'}, {'token': 'toma', 'lemma': 'tomar', 'pos': 'VERB', 'dep': 'advcl', 'head': 'levántate'}, {'token': 'niño', 'lemma': 'niño', 'pos': 'NOUN', 'dep': 'obl', 'head': 'toma'}, {'token': 'madre', 'lemma': 'madre', 'pos': 'NOUN', 'dep': 'conj', 'head': 'niño'}, {'token': 'vete', 'lemma': 'vetar', 'pos': 'NOUN', 'dep': 'conj', 'head': 'levántate'}, {'token': 'tierra', 'lemma': 'tierra', 'pos': 'NOUN', 'dep': 'obl', 'head': 'vete'}, {'token': 'israel', 'lemma': 'israel', 'pos': 'NOUN', 'dep': 'nmod', 'head': 'tierra'}, {'token': 'muerto', 'lemma': 'morir', 'pos': 'VERB', 'dep': 'advcl', 'head': 'levántate'}, {'token': 'procuraban', 'lemma': 'procurar', 'pos': 'VERB', 'dep': 'csubj', 'head': 'muerto'}, {'token': 'muerte', 'lemma': 'muerte', 'pos': 'NOUN', 'dep': 'obj', 'head': 'procuraban'}, {'token': 'niño', 'lemma': 'niño', 'pos': 'NOUN', 'dep': 'nmod', 'head': 'muerte'}]\n",
      "[{'token': 'levantó', 'lemma': 'levantar', 'pos': 'VERB', 'dep': 'ROOT', 'head': 'levantó'}, {'token': 'tomó', 'lemma': 'tomar', 'pos': 'VERB', 'dep': 'conj', 'head': 'levantó'}, {'token': 'niño', 'lemma': 'niño', 'pos': 'NOUN', 'dep': 'obj', 'head': 'tomó'}, {'token': 'madre', 'lemma': 'madre', 'pos': 'NOUN', 'dep': 'conj', 'head': 'niño'}, {'token': 'vino', 'lemma': 'venir', 'pos': 'VERB', 'dep': 'conj', 'head': 'levantó'}, {'token': 'tierra', 'lemma': 'tierra', 'pos': 'NOUN', 'dep': 'obl', 'head': 'vino'}, {'token': 'israel', 'lemma': 'israel', 'pos': 'NOUN', 'dep': 'nmod', 'head': 'tierra'}]\n",
      "[{'token': 'oyendo', 'lemma': 'oír', 'pos': 'AUX', 'dep': 'conj', 'head': '22'}, {'token': 'arquelao', 'lemma': 'arquelao', 'pos': 'VERB', 'dep': 'ccomp', 'head': 'oyendo'}, {'token': 'reinaba', 'lemma': 'reinar', 'pos': 'VERB', 'dep': 'obj', 'head': 'arquelao'}, {'token': 'judea', 'lemma': 'judea', 'pos': 'NOUN', 'dep': 'obl', 'head': 'reinaba'}, {'token': 'herodes', 'lemma': 'herodes', 'pos': 'NOUN', 'dep': 'obl', 'head': 'reinaba'}, {'token': 'padre', 'lemma': 'padre', 'pos': 'NOUN', 'dep': 'obj', 'head': 'arquelao'}, {'token': 'temor', 'lemma': 'temor', 'pos': 'NOUN', 'dep': 'obj', 'head': 'tuvo'}, {'token': 'allá', 'lemma': 'allá', 'pos': 'ADV', 'dep': 'advmod', 'head': 'ir'}, {'token': 'avisado', 'lemma': 'avisar', 'pos': 'ADJ', 'dep': 'conj', 'head': 'tuvo'}, {'token': 'revelación', 'lemma': 'revelación', 'pos': 'NOUN', 'dep': 'obj', 'head': 'avisado'}, {'token': 'sueños', 'lemma': 'sueño', 'pos': 'NOUN', 'dep': 'obl', 'head': 'avisado'}, {'token': 'región', 'lemma': 'región', 'pos': 'NOUN', 'dep': 'obl', 'head': 'tuvo'}, {'token': 'galilea', 'lemma': 'galileo', 'pos': 'NOUN', 'dep': 'nmod', 'head': 'región'}, {'token': 'vino', 'lemma': 'venir', 'pos': 'NOUN', 'dep': 'conj', 'head': 'galilea'}, {'token': 'habitó', 'lemma': 'habitar', 'pos': 'VERB', 'dep': 'conj', 'head': 'tuvo'}, {'token': 'ciudad', 'lemma': 'ciudad', 'pos': 'NOUN', 'dep': 'obl', 'head': 'habitó'}, {'token': 'llama', 'lemma': 'llamar', 'pos': 'VERB', 'dep': 'acl', 'head': 'ciudad'}, {'token': 'nazaret', 'lemma': 'nazaret', 'pos': 'PROPN', 'dep': 'obj', 'head': 'llama'}, {'token': 'cumpliese', 'lemma': 'cumplir', 'pos': 'VERB', 'dep': 'advcl', 'head': 'habitó'}, {'token': 'profetas', 'lemma': 'profeta', 'pos': 'NOUN', 'dep': 'obj', 'head': 'dicho'}, {'token': 'habría', 'lemma': 'haber', 'pos': 'AUX', 'dep': 'aux', 'head': 'llamado'}, {'token': 'llamado', 'lemma': 'llamar', 'pos': 'VERB', 'dep': 'acl', 'head': 'profetas'}, {'token': 'nazareno', 'lemma': 'nazareno', 'pos': 'ADJ', 'dep': 'obj', 'head': 'llamado'}]\n",
      "[{'token': 'predicación', 'lemma': 'predicación', 'pos': 'NOUN', 'dep': 'ROOT', 'head': 'predicación'}, {'token': 'juan', 'lemma': 'juan', 'pos': 'VERB', 'dep': 'nmod', 'head': 'predicación'}, {'token': 'bautista', 'lemma': 'bautista', 'pos': 'NOUN', 'dep': 'obj', 'head': 'predicación'}]\n",
      "[]\n",
      "[]\n",
      "[{'token': '1.19', 'lemma': '1.19', 'pos': 'NOUN', 'dep': 'nmod', 'head': '28'}]\n",
      "[{'token': 'vino', 'lemma': 'venir', 'pos': 'NOUN', 'dep': 'acl', 'head': '1'}, {'token': 'juan', 'lemma': 'juan', 'pos': 'VERB', 'dep': 'obj', 'head': 'vino'}, {'token': 'bautista', 'lemma': 'bautista', 'pos': 'NOUN', 'dep': 'amod', 'head': 'predicando'}, {'token': 'predicando', 'lemma': 'predicar', 'pos': 'VERB', 'dep': 'advcl', 'head': 'vino'}, {'token': 'desierto', 'lemma': 'desierto', 'pos': 'NOUN', 'dep': 'obj', 'head': 'predicando'}, {'token': 'judea', 'lemma': 'judea', 'pos': 'NOUN', 'dep': 'nmod', 'head': 'desierto'}, {'token': 'diciendo', 'lemma': 'decir', 'pos': 'AUX', 'dep': 'aux', 'head': 'arrepentíos'}, {'token': 'arrepentíos', 'lemma': 'arrepentíos', 'pos': 'NOUN', 'dep': 'conj', 'head': 'vino'}, {'token': 'reino', 'lemma': 'reinar', 'pos': 'NOUN', 'dep': 'nsubj', 'head': 'acercado'}, {'token': 'cielos', 'lemma': 'cielo', 'pos': 'NOUN', 'dep': 'nmod', 'head': 'reino'}, {'token': 'acercado', 'lemma': 'acercar', 'pos': 'VERB', 'dep': 'advcl', 'head': 'vino'}]\n",
      "[{'token': 'habló', 'lemma': 'hablar', 'pos': 'VERB', 'dep': 'acl', 'head': 'aquel'}, {'token': 'profeta', 'lemma': 'profeta', 'pos': 'NOUN', 'dep': 'obj', 'head': 'habló'}, {'token': 'isaías', 'lemma': 'isaías', 'pos': 'NOUN', 'dep': 'amod', 'head': 'profeta'}]\n",
      "[{'token': 'clama', 'lemma': 'clamar', 'pos': 'VERB', 'dep': 'acl', 'head': 'voz'}, {'token': 'desierto', 'lemma': 'desierto', 'pos': 'NOUN', 'dep': 'nmod', 'head': 'clama'}]\n",
      "[{'token': 'preparad', 'lemma': 'preparar', 'pos': 'VERB', 'dep': 'ROOT', 'head': 'preparad'}, {'token': 'camino', 'lemma': 'caminar', 'pos': 'NOUN', 'dep': 'obj', 'head': 'preparad'}, {'token': 'señor', 'lemma': 'señor', 'pos': 'NOUN', 'dep': 'nmod', 'head': 'camino'}]\n",
      "[{'token': 'enderezad', 'lemma': 'enderezar', 'pos': 'VERB', 'dep': 'ROOT', 'head': 'enderezad'}, {'token': 'sendas', 'lemma': 'sendos', 'pos': 'PRON', 'dep': 'obj', 'head': 'enderezad'}]\n",
      "[{'token': 'juan', 'lemma': 'juan', 'pos': 'ADJ', 'dep': 'conj', 'head': '4'}, {'token': 'vestido', 'lemma': 'vestir', 'pos': 'ADJ', 'dep': 'ROOT', 'head': 'vestido'}, {'token': 'pelo', 'lemma': 'pelar', 'pos': 'NOUN', 'dep': 'nmod', 'head': 'vestido'}, {'token': 'camello', 'lemma': 'camello', 'pos': 'NOUN', 'dep': 'nmod', 'head': 'pelo'}, {'token': 'cinto', 'lemma': 'cintar', 'pos': 'NOUN', 'dep': 'obj', 'head': 'tenía'}, {'token': 'cuero', 'lemma': 'cuero', 'pos': 'NOUN', 'dep': 'nmod', 'head': 'cinto'}, {'token': 'lomos', 'lemma': 'lomo', 'pos': 'NOUN', 'dep': 'obj', 'head': 'tenía'}, {'token': 'comida', 'lemma': 'comer', 'pos': 'NOUN', 'dep': 'nsubj', 'head': 'langostas'}, {'token': 'langostas', 'lemma': 'langosta', 'pos': 'NOUN', 'dep': 'conj', 'head': 'vestido'}, {'token': 'miel', 'lemma': 'miel', 'pos': 'NOUN', 'dep': 'conj', 'head': 'langostas'}, {'token': 'silvestre', 'lemma': 'silvestre', 'pos': 'ADJ', 'dep': 'obj', 'head': 'langostas'}]\n",
      "[{'token': 'salía', 'lemma': 'salir', 'pos': 'VERB', 'dep': 'conj', 'head': '5'}, {'token': 'jerusalén', 'lemma': 'jerusalén', 'pos': 'NOUN', 'dep': 'ROOT', 'head': 'jerusalén'}, {'token': 'judea', 'lemma': 'judea', 'pos': 'NOUN', 'dep': 'conj', 'head': 'jerusalén'}, {'token': 'provincia', 'lemma': 'provincia', 'pos': 'NOUN', 'dep': 'conj', 'head': 'jerusalén'}, {'token': 'jordán', 'lemma': 'jordán', 'pos': 'NOUN', 'dep': 'obl', 'head': 'alrededor'}, {'token': 'bautizados', 'lemma': 'bautizar', 'pos': 'VERB', 'dep': 'conj', 'head': '6'}, {'token': 'jordán', 'lemma': 'jordán', 'pos': 'NOUN', 'dep': 'obl', 'head': 'bautizados'}, {'token': 'confesando', 'lemma': 'confesar', 'pos': 'VERB', 'dep': 'advcl', 'head': 'bautizados'}, {'token': 'pecados', 'lemma': 'pecar', 'pos': 'NOUN', 'dep': 'obj', 'head': 'confesando'}]\n",
      "[{'token': 'fariseos', 'lemma': 'fariseo', 'pos': 'NOUN', 'dep': 'nmod', 'head': 'muchos'}, {'token': 'saduceos', 'lemma': 'saduceo', 'pos': 'NOUN', 'dep': 'conj', 'head': 'fariseos'}, {'token': 'venían', 'lemma': 'venir', 'pos': 'VERB', 'dep': 'ccomp', 'head': 'ver'}, {'token': 'bautismo', 'lemma': 'bautismo', 'pos': 'NOUN', 'dep': 'obj', 'head': 'venían'}, {'token': 'decía', 'lemma': 'decir', 'pos': 'VERB', 'dep': 'ROOT', 'head': 'decía'}, {'token': 'generación', 'lemma': 'generación', 'pos': 'NOUN', 'dep': 'ccomp', 'head': 'decía'}, {'token': 'víboras', 'lemma': 'víbora', 'pos': 'NOUN', 'dep': 'nmod', 'head': 'generación'}]\n",
      "[{'token': 'enseñó', 'lemma': 'enseñar', 'pos': 'VERB', 'dep': 'ROOT', 'head': 'enseñó'}, {'token': 'huir', 'lemma': 'huir', 'pos': 'VERB', 'dep': 'xcomp', 'head': 'enseñó'}, {'token': 'venidera', 'lemma': 'venidero', 'pos': 'ADJ', 'dep': 'amod', 'head': 'ira'}]\n",
      "[{'token': 'haced', 'lemma': 'hacer', 'pos': 'NOUN', 'dep': 'nsubj', 'head': 'decir'}, {'token': 'frutos', 'lemma': 'fruto', 'pos': 'NOUN', 'dep': 'amod', 'head': 'dignos'}, {'token': 'dignos', 'lemma': 'digno', 'pos': 'ADJ', 'dep': 'appos', 'head': 'haced'}, {'token': 'arrepentimiento', 'lemma': 'arrepentimiento', 'pos': 'NOUN', 'dep': 'nmod', 'head': 'dignos'}, {'token': 'penséis', 'lemma': 'pensar', 'pos': 'VERB', 'dep': 'conj', 'head': 'dignos'}, {'token': 'abraham', 'lemma': 'abraham', 'pos': 'VERB', 'dep': 'obl', 'head': 'tenemos'}, {'token': 'padre', 'lemma': 'padre', 'pos': 'NOUN', 'dep': 'obj', 'head': 'tenemos'}, {'token': 'digo', 'lemma': 'decir', 'pos': 'VERB', 'dep': 'advcl', 'head': 'decir'}, {'token': 'dios', 'lemma': 'dios', 'pos': 'NOUN', 'dep': 'nsubj', 'head': 'levantar'}, {'token': 'levantar', 'lemma': 'levantar', 'pos': 'VERB', 'dep': 'xcomp', 'head': 'digo'}, {'token': 'hijos', 'lemma': 'hijo', 'pos': 'NOUN', 'dep': 'obj', 'head': 'levantar'}, {'token': 'abraham', 'lemma': 'abraham', 'pos': 'VERB', 'dep': 'advcl', 'head': 'levantar'}, {'token': 'piedras', 'lemma': 'piedra', 'pos': 'NOUN', 'dep': 'nmod', 'head': 'abraham'}]\n",
      "[{'token': 'hacha', 'lemma': 'hachar', 'pos': 'NOUN', 'dep': 'nsubj', 'head': 'puesta'}, {'token': 'puesta', 'lemma': 'poner', 'pos': 'ADJ', 'dep': 'conj', 'head': '10'}, {'token': 'raíz', 'lemma': 'raíz', 'pos': 'NOUN', 'dep': 'obj', 'head': 'puesta'}, {'token': 'árboles', 'lemma': 'árbol', 'pos': 'NOUN', 'dep': 'nmod', 'head': 'raíz'}, {'token': 'árbol', 'lemma': 'árbol', 'pos': 'NOUN', 'dep': 'nsubj', 'head': 'cortado'}, {'token': 'fruto', 'lemma': 'fruto', 'pos': 'NOUN', 'dep': 'obj', 'head': 'da'}, {'token': 'cortado', 'lemma': 'cortar', 'pos': 'ADJ', 'dep': 'advcl', 'head': '10'}, {'token': 'echado', 'lemma': 'echar', 'pos': 'ADJ', 'dep': 'conj', 'head': 'cortado'}, {'token': 'fuego', 'lemma': 'fuego', 'pos': 'NOUN', 'dep': 'obl', 'head': 'echado'}]\n",
      "[{'token': 'bautizo', 'lemma': 'bautizar', 'pos': 'VERB', 'dep': 'ROOT', 'head': 'bautizo'}, {'token': 'agua', 'lemma': 'aguar', 'pos': 'NOUN', 'dep': 'obl', 'head': 'bautizo'}, {'token': 'arrepentimiento', 'lemma': 'arrepentimiento', 'pos': 'NOUN', 'dep': 'obl', 'head': 'bautizo'}, {'token': 'viene', 'lemma': 'venir', 'pos': 'VERB', 'dep': 'csubj', 'head': 'poderoso'}, {'token': 'cuyo', 'lemma': 'cuyo', 'pos': 'PRON', 'dep': 'nmod', 'head': 'calzado'}, {'token': 'calzado', 'lemma': 'calzar', 'pos': 'NOUN', 'dep': 'nsubj', 'head': 'digno'}, {'token': 'digno', 'lemma': 'dignar', 'pos': 'ADJ', 'dep': 'acl', 'head': 'mí'}, {'token': 'poderoso', 'lemma': 'poderoso', 'pos': 'ADJ', 'dep': 'conj', 'head': 'bautizo'}, {'token': 'bautizará', 'lemma': 'bautizar', 'pos': 'VERB', 'dep': 'advcl', 'head': 'bautizo'}, {'token': 'espíritu', 'lemma': 'espíritu', 'pos': 'NOUN', 'dep': 'obl', 'head': 'bautizará'}, {'token': 'santo', 'lemma': 'santo', 'pos': 'ADJ', 'dep': 'amod', 'head': 'espíritu'}, {'token': 'fuego', 'lemma': 'fuego', 'pos': 'NOUN', 'dep': 'conj', 'head': 'santo'}]\n",
      "[{'token': 'aventador', 'lemma': 'aventador', 'pos': 'NOUN', 'dep': 'nsubj', 'head': 'está'}, {'token': 'mano', 'lemma': 'manir', 'pos': 'NOUN', 'dep': 'obl', 'head': 'está'}, {'token': 'limpiará', 'lemma': 'limpiar', 'pos': 'VERB', 'dep': 'conj', 'head': 'está'}, {'token': 'recogerá', 'lemma': 'recoger', 'pos': 'VERB', 'dep': 'conj', 'head': 'limpiará'}, {'token': 'trigo', 'lemma': 'trigo', 'pos': 'NOUN', 'dep': 'obj', 'head': 'recogerá'}, {'token': 'granero', 'lemma': 'granero', 'pos': 'NOUN', 'dep': 'obl', 'head': 'recogerá'}, {'token': 'quemará', 'lemma': 'quemar', 'pos': 'VERB', 'dep': 'conj', 'head': 'recogerá'}, {'token': 'paja', 'lemma': 'paja', 'pos': 'NOUN', 'dep': 'obj', 'head': 'quemará'}, {'token': 'fuego', 'lemma': 'fuego', 'pos': 'NOUN', 'dep': 'nmod', 'head': 'paja'}, {'token': 'apagará', 'lemma': 'apagar', 'pos': 'VERB', 'dep': 'acl', 'head': 'paja'}]\n",
      "[{'token': 'bautismo', 'lemma': 'bautismo', 'pos': 'NOUN', 'dep': 'ROOT', 'head': 'bautismo'}, {'token': 'jesús', 'lemma': 'jesús', 'pos': 'NOUN', 'dep': 'nmod', 'head': 'bautismo'}]\n",
      "[]\n",
      "[]\n",
      "[{'token': '3.21', 'lemma': '3.21', 'pos': 'NOUN', 'dep': 'ROOT', 'head': '3.21'}]\n",
      "[{'token': 'jesús', 'lemma': 'jesús', 'pos': 'ADJ', 'dep': 'nsubj', 'head': 'vino'}, {'token': 'vino', 'lemma': 'venir', 'pos': 'AUX', 'dep': 'ROOT', 'head': 'vino'}, {'token': 'galilea', 'lemma': 'galileo', 'pos': 'NOUN', 'dep': 'nmod', 'head': 'vino'}, {'token': 'juan', 'lemma': 'juan', 'pos': 'NOUN', 'dep': 'obj', 'head': 'vino'}, {'token': 'jordán', 'lemma': 'jordán', 'pos': 'NOUN', 'dep': 'obj', 'head': 'vino'}, {'token': 'bautizado', 'lemma': 'bautizar', 'pos': 'VERB', 'dep': 'advcl', 'head': 'vino'}]\n",
      "[{'token': 'juan', 'lemma': 'juan', 'pos': 'VERB', 'dep': 'nsubj', 'head': 'oponía'}, {'token': 'oponía', 'lemma': 'oponer', 'pos': 'VERB', 'dep': 'ROOT', 'head': 'oponía'}, {'token': 'diciendo', 'lemma': 'decir', 'pos': 'AUX', 'dep': 'aux', 'head': 'bautizado'}, {'token': 'necesito', 'lemma': 'necesitar', 'pos': 'VERB', 'dep': 'aux', 'head': 'bautizado'}, {'token': 'bautizado', 'lemma': 'bautizar', 'pos': 'VERB', 'dep': 'advcl', 'head': 'oponía'}, {'token': 'vienes', 'lemma': 'venir', 'pos': 'NOUN', 'dep': 'conj', 'head': 'oponía'}]\n",
      "[{'token': 'jesús', 'lemma': 'jesús', 'pos': 'ADV', 'dep': 'conj', 'head': '15'}, {'token': 'respondió', 'lemma': 'responder', 'pos': 'VERB', 'dep': 'ROOT', 'head': 'respondió'}, {'token': 'deja', 'lemma': 'dejar', 'pos': 'VERB', 'dep': 'ccomp', 'head': 'respondió'}, {'token': 'conviene', 'lemma': 'convenir', 'pos': 'VERB', 'dep': 'advcl', 'head': 'deja'}, {'token': 'cumplamos', 'lemma': 'cumplir', 'pos': 'VERB', 'dep': 'ccomp', 'head': 'conviene'}, {'token': 'justicia', 'lemma': 'justicia', 'pos': 'NOUN', 'dep': 'obj', 'head': 'cumplamos'}]\n",
      "[]\n",
      "[{'token': 'jesús', 'lemma': 'jesús', 'pos': 'ADJ', 'dep': 'conj', 'head': '16'}, {'token': 'bautizado', 'lemma': 'bautizar', 'pos': 'VERB', 'dep': 'advcl', 'head': 'después'}, {'token': 'subió', 'lemma': 'subir', 'pos': 'VERB', 'dep': 'ROOT', 'head': 'subió'}, {'token': 'agua', 'lemma': 'aguar', 'pos': 'NOUN', 'dep': 'obj', 'head': 'subió'}, {'token': 'cielos', 'lemma': 'cielo', 'pos': 'NOUN', 'dep': 'nsubj', 'head': 'abiertos'}, {'token': 'abiertos', 'lemma': 'abrir', 'pos': 'VERB', 'dep': 'conj', 'head': 'subió'}, {'token': 'espíritu', 'lemma': 'espíritu', 'pos': 'NOUN', 'dep': 'obj', 'head': 'vio'}, {'token': 'dios', 'lemma': 'dios', 'pos': 'NOUN', 'dep': 'nmod', 'head': 'espíritu'}, {'token': 'descendía', 'lemma': 'descender', 'pos': 'VERB', 'dep': 'acl', 'head': 'dios'}, {'token': 'paloma', 'lemma': 'paloma', 'pos': 'NOUN', 'dep': 'obl', 'head': 'descendía'}, {'token': 'venía', 'lemma': 'venir', 'pos': 'VERB', 'dep': 'conj', 'head': 'vio'}]\n",
      "[{'token': 'cielos', 'lemma': 'cielo', 'pos': 'NOUN', 'dep': 'nmod', 'head': 'voz'}, {'token': 'decía', 'lemma': 'decir', 'pos': 'VERB', 'dep': 'acl', 'head': 'cielos'}, {'token': 'hijo', 'lemma': 'hijo', 'pos': 'NOUN', 'dep': 'ccomp', 'head': 'decía'}, {'token': 'amado', 'lemma': 'amar', 'pos': 'ADJ', 'dep': 'amod', 'head': 'hijo'}, {'token': 'complacencia', 'lemma': 'complacencia', 'pos': 'NOUN', 'dep': 'obj', 'head': 'tengo'}]\n",
      "[{'token': 'tentación', 'lemma': 'tentación', 'pos': 'NOUN', 'dep': 'ROOT', 'head': 'tentación'}, {'token': 'jesús', 'lemma': 'jesús', 'pos': 'NOUN', 'dep': 'nmod', 'head': 'tentación'}]\n",
      "[]\n",
      "[{'token': '1.12', 'lemma': '1.12', 'pos': 'NOUN', 'dep': 'ROOT', 'head': '1.12'}]\n",
      "[]\n",
      "[{'token': 'jesús', 'lemma': 'jesús', 'pos': 'ADJ', 'dep': 'nsubj', 'head': 'llevado'}, {'token': 'llevado', 'lemma': 'llevar', 'pos': 'VERB', 'dep': 'ROOT', 'head': 'llevado'}, {'token': 'espíritu', 'lemma': 'espíritu', 'pos': 'NOUN', 'dep': 'obj', 'head': 'llevado'}, {'token': 'desierto', 'lemma': 'desierto', 'pos': 'NOUN', 'dep': 'nmod', 'head': 'espíritu'}, {'token': 'tentado', 'lemma': 'tentar', 'pos': 'VERB', 'dep': 'advcl', 'head': 'llevado'}, {'token': 'diablo', 'lemma': 'diablo', 'pos': 'NOUN', 'dep': 'obj', 'head': 'tentado'}]\n",
      "[{'token': 'ayunado', 'lemma': 'ayunar', 'pos': 'VERB', 'dep': 'advcl', 'head': 'después'}, {'token': 'cuarenta', 'lemma': 'cuarenta', 'pos': 'NUM', 'dep': 'nummod', 'head': 'días'}, {'token': 'cuarenta', 'lemma': 'cuarenta', 'pos': 'NUM', 'dep': 'nummod', 'head': 'noches'}, {'token': 'noches', 'lemma': 'noche', 'pos': 'NOUN', 'dep': 'conj', 'head': 'días'}, {'token': 'hambre', 'lemma': 'hambre', 'pos': 'NOUN', 'dep': 'obj', 'head': 'tuvo'}]\n",
      "[{'token': 'vino', 'lemma': 'venir', 'pos': 'VERB', 'dep': 'conj', 'head': '3'}, {'token': 'tentador', 'lemma': 'tentador', 'pos': 'NOUN', 'dep': 'obj', 'head': 'vino'}, {'token': 'hijo', 'lemma': 'hijo', 'pos': 'NOUN', 'dep': 'ccomp', 'head': 'dijo'}, {'token': 'dios', 'lemma': 'dios', 'pos': 'NOUN', 'dep': 'nmod', 'head': 'hijo'}, {'token': 'piedras', 'lemma': 'piedra', 'pos': 'NOUN', 'dep': 'nsubj', 'head': 'conviertan'}, {'token': 'conviertan', 'lemma': 'convertir', 'pos': 'VERB', 'dep': 'ccomp', 'head': 'hijo'}]\n",
      "[{'token': 'respondió', 'lemma': 'responder', 'pos': 'VERB', 'dep': 'ROOT', 'head': 'respondió'}, {'token': 'escrito', 'lemma': 'escribir', 'pos': 'ADJ', 'dep': 'ccomp', 'head': 'dijo'}, {'token': 'vivirá', 'lemma': 'vivir', 'pos': 'VERB', 'dep': 'ccomp', 'head': 'está'}, {'token': 'hombre', 'lemma': 'hombre', 'pos': 'NOUN', 'dep': 'obj', 'head': 'vivirá'}, {'token': 'palabra', 'lemma': 'palabra', 'pos': 'NOUN', 'dep': 'conj', 'head': 'respondió'}, {'token': 'sale', 'lemma': 'salir', 'pos': 'VERB', 'dep': 'acl', 'head': 'palabra'}, {'token': 'boca', 'lemma': 'boca', 'pos': 'NOUN', 'dep': 'obl', 'head': 'sale'}, {'token': 'dios', 'lemma': 'dios', 'pos': 'NOUN', 'dep': 'nmod', 'head': 'boca'}]\n",
      "[{'token': 'diablo', 'lemma': 'diablo', 'pos': 'NOUN', 'dep': 'nsubj', 'head': 'llevó'}, {'token': 'llevó', 'lemma': 'llevar', 'pos': 'VERB', 'dep': 'ROOT', 'head': 'llevó'}, {'token': 'santa', 'lemma': 'santo', 'pos': 'ADJ', 'dep': 'amod', 'head': 'ciudad'}, {'token': 'ciudad', 'lemma': 'ciudad', 'pos': 'NOUN', 'dep': 'obl', 'head': 'llevó'}, {'token': 'puso', 'lemma': 'poner', 'pos': 'VERB', 'dep': 'conj', 'head': 'llevó'}, {'token': 'pináculo', 'lemma': 'pináculo', 'pos': 'NOUN', 'dep': 'obl', 'head': 'puso'}, {'token': 'templo', 'lemma': 'templar', 'pos': 'NOUN', 'dep': 'nmod', 'head': 'pináculo'}, {'token': 'hijo', 'lemma': 'hijo', 'pos': 'NOUN', 'dep': 'ccomp', 'head': 'dijo'}, {'token': 'dios', 'lemma': 'dios', 'pos': 'NOUN', 'dep': 'nmod', 'head': 'hijo'}, {'token': 'échate', 'lemma': 'échate', 'pos': 'NOUN', 'dep': 'conj', 'head': 'hijo'}, {'token': 'abajo', 'lemma': 'abajar', 'pos': 'ADV', 'dep': 'advmod', 'head': 'échate'}, {'token': 'escrito', 'lemma': 'escribir', 'pos': 'ADJ', 'dep': 'advcl', 'head': 'hijo'}]\n",
      "[{'token': 'ángeles', 'lemma': 'ángel', 'pos': 'NOUN', 'dep': 'obj', 'head': 'mandará'}, {'token': 'mandará', 'lemma': 'mandar', 'pos': 'VERB', 'dep': 'ROOT', 'head': 'mandará'}, {'token': 'acerca', 'lemma': 'acercar', 'pos': 'ADV', 'dep': 'case', 'head': 'ti'}]\n",
      "[]\n",
      "[{'token': 'manos', 'lemma': 'mano', 'pos': 'NOUN', 'dep': 'obl', 'head': 'sostendrán'}, {'token': 'sostendrán', 'lemma': 'sostener', 'pos': 'VERB', 'dep': 'ROOT', 'head': 'sostendrán'}]\n",
      "[{'token': 'tropieces', 'lemma': 'tropezar', 'pos': 'ADJ', 'dep': 'ROOT', 'head': 'tropieces'}, {'token': 'piedra', 'lemma': 'piedra', 'pos': 'NOUN', 'dep': 'nmod', 'head': 'pie'}]\n",
      "[{'token': 'jesús', 'lemma': 'jesús', 'pos': 'ADJ', 'dep': 'nsubj', 'head': 'dijo'}, {'token': 'escrito', 'lemma': 'escribir', 'pos': 'ADJ', 'dep': 'ccomp', 'head': 'dijo'}, {'token': 'tentarás', 'lemma': 'tentar', 'pos': 'VERB', 'dep': 'advcl', 'head': 'dijo'}, {'token': 'señor', 'lemma': 'señor', 'pos': 'NOUN', 'dep': 'obl', 'head': 'tentarás'}, {'token': 'dios', 'lemma': 'dios', 'pos': 'NOUN', 'dep': 'obj', 'head': 'tentarás'}]\n",
      "[{'token': 'llevó', 'lemma': 'llevar', 'pos': 'VERB', 'dep': 'ROOT', 'head': 'llevó'}, {'token': 'diablo', 'lemma': 'diablo', 'pos': 'NOUN', 'dep': 'nsubj', 'head': 'llevó'}, {'token': 'monte', 'lemma': 'montar', 'pos': 'NOUN', 'dep': 'obl', 'head': 'llevó'}, {'token': 'alto', 'lemma': 'alto', 'pos': 'ADJ', 'dep': 'amod', 'head': 'monte'}, {'token': 'mostró', 'lemma': 'mostrar', 'pos': 'VERB', 'dep': 'conj', 'head': 'llevó'}, {'token': 'reinos', 'lemma': 'reino', 'pos': 'NOUN', 'dep': 'obj', 'head': 'mostró'}, {'token': 'mundo', 'lemma': 'mundo', 'pos': 'NOUN', 'dep': 'nmod', 'head': 'reinos'}, {'token': 'gloria', 'lemma': 'gloria', 'pos': 'NOUN', 'dep': 'conj', 'head': 'reinos'}, {'token': 'daré', 'lemma': 'dar', 'pos': 'VERB', 'dep': 'ccomp', 'head': 'dijo'}, {'token': 'postrado', 'lemma': 'postrar', 'pos': 'ADJ', 'dep': 'advcl', 'head': 'daré'}, {'token': 'adorares', 'lemma': 'adorar', 'pos': 'NOUN', 'dep': 'obj', 'head': 'postrado'}]\n",
      "[{'token': 'jesús', 'lemma': 'jesús', 'pos': 'ADJ', 'dep': 'nsubj', 'head': 'dijo'}, {'token': 'vete', 'lemma': 'vetar', 'pos': 'NOUN', 'dep': 'obj', 'head': 'dijo'}, {'token': 'satanás', 'lemma': 'satanás', 'pos': 'ADJ', 'dep': 'conj', 'head': 'vete'}, {'token': 'escrito', 'lemma': 'escribir', 'pos': 'ADJ', 'dep': 'advcl', 'head': 'dijo'}, {'token': 'señor', 'lemma': 'señor', 'pos': 'NOUN', 'dep': 'advcl', 'head': 'dijo'}, {'token': 'dios', 'lemma': 'dios', 'pos': 'NOUN', 'dep': 'nsubj', 'head': 'señor'}, {'token': 'adorarás', 'lemma': 'adorar', 'pos': 'PROPN', 'dep': 'amod', 'head': 'dios'}, {'token': 'servirás', 'lemma': 'servir', 'pos': 'VERB', 'dep': 'amod', 'head': 'él'}]\n",
      "[{'token': 'diablo', 'lemma': 'diablo', 'pos': 'NOUN', 'dep': 'nsubj', 'head': 'dejó'}, {'token': 'vinieron', 'lemma': 'venir', 'pos': 'VERB', 'dep': 'conj', 'head': 'dejó'}, {'token': 'ángeles', 'lemma': 'ángel', 'pos': 'NOUN', 'dep': 'obj', 'head': 'vinieron'}, {'token': 'servían', 'lemma': 'servir', 'pos': 'VERB', 'dep': 'conj', 'head': 'vinieron'}]\n",
      "[{'token': 'jesús', 'lemma': 'jesús', 'pos': 'ADV', 'dep': 'amod', 'head': 'principia'}, {'token': 'principia', 'lemma': 'principiar', 'pos': 'NOUN', 'dep': 'ROOT', 'head': 'principia'}, {'token': 'ministerio', 'lemma': 'ministerio', 'pos': 'NOUN', 'dep': 'obj', 'head': 'principia'}]\n",
      "[]\n",
      "[{'token': '1.14', 'lemma': '1.14', 'pos': 'NOUN', 'dep': 'nmod', 'head': 'lc'}]\n",
      "[{'token': '4.14', 'lemma': '4.14', 'pos': 'NUM', 'dep': 'nmod', 'head': '5.1'}, {'token': '6.17', 'lemma': '6.17', 'pos': 'NUM', 'dep': 'conj', 'head': '11'}]\n",
      "[{'token': 'jesús', 'lemma': 'jesús', 'pos': 'ADV', 'dep': 'nsubj', 'head': 'oyó'}, {'token': 'juan', 'lemma': 'juan', 'pos': 'VERB', 'dep': 'nsubj', 'head': 'preso'}, {'token': 'preso', 'lemma': 'preso', 'pos': 'ADJ', 'dep': 'ccomp', 'head': 'oyó'}, {'token': 'volvió', 'lemma': 'volver', 'pos': 'AUX', 'dep': 'aux', 'head': 'galilea'}, {'token': 'galilea', 'lemma': 'galileo', 'pos': 'NOUN', 'dep': 'ROOT', 'head': 'galilea'}, {'token': 'dejando', 'lemma': 'dejar', 'pos': 'VERB', 'dep': 'conj', 'head': '13'}, {'token': 'nazaret', 'lemma': 'nazaret', 'pos': 'NOUN', 'dep': 'obj', 'head': 'dejando'}, {'token': 'vino', 'lemma': 'venir', 'pos': 'NOUN', 'dep': 'obj', 'head': 'galilea'}, {'token': 'habitó', 'lemma': 'habitar', 'pos': 'VERB', 'dep': 'conj', 'head': 'galilea'}, {'token': 'capernaum', 'lemma': 'capernaum', 'pos': 'NOUN', 'dep': 'obl', 'head': 'habitó'}, {'token': 'ciudad', 'lemma': 'ciudad', 'pos': 'NOUN', 'dep': 'conj', 'head': 'capernaum'}, {'token': 'marítima', 'lemma': 'marítimo', 'pos': 'ADJ', 'dep': 'amod', 'head': 'ciudad'}, {'token': 'región', 'lemma': 'región', 'pos': 'NOUN', 'dep': 'obl', 'head': 'habitó'}, {'token': 'zabulón', 'lemma': 'zabulón', 'pos': 'NOUN', 'dep': 'nmod', 'head': 'región'}, {'token': 'neftalí', 'lemma': 'neftalí', 'pos': 'NOUN', 'dep': 'conj', 'head': 'zabulón'}, {'token': 'cumpliese', 'lemma': 'cumplir', 'pos': 'VERB', 'dep': 'advcl', 'head': '14'}, {'token': 'profeta', 'lemma': 'profeta', 'pos': 'NOUN', 'dep': 'obj', 'head': 'dicho'}, {'token': 'isaías', 'lemma': 'isaías', 'pos': 'NOUN', 'dep': 'amod', 'head': 'profeta'}]\n",
      "[{'token': 'tierra', 'lemma': 'tierra', 'pos': 'NOUN', 'dep': 'ROOT', 'head': 'tierra'}, {'token': 'zabulón', 'lemma': 'zabulón', 'pos': 'NOUN', 'dep': 'nmod', 'head': 'tierra'}, {'token': 'tierra', 'lemma': 'tierra', 'pos': 'NOUN', 'dep': 'conj', 'head': 'zabulón'}, {'token': 'neftalí', 'lemma': 'neftalí', 'pos': 'NOUN', 'dep': 'nmod', 'head': 'tierra'}]\n",
      "[{'token': 'camino', 'lemma': 'caminar', 'pos': 'NOUN', 'dep': 'ROOT', 'head': 'camino'}, {'token': 'jordán', 'lemma': 'jordán', 'pos': 'NOUN', 'dep': 'nmod', 'head': 'lado'}]\n",
      "[{'token': 'galilea', 'lemma': 'galileo', 'pos': 'NOUN', 'dep': 'ROOT', 'head': 'galilea'}, {'token': 'gentiles', 'lemma': 'gentil', 'pos': 'NOUN', 'dep': 'obj', 'head': 'galilea'}]\n",
      "[{'token': 'pueblo', 'lemma': 'poblar', 'pos': 'NOUN', 'dep': 'nsubj', 'head': 'vio'}, {'token': 'asentado', 'lemma': 'asentar', 'pos': 'ADJ', 'dep': 'amod', 'head': 'pueblo'}, {'token': 'tinieblas', 'lemma': 'tiniebla', 'pos': 'NOUN', 'dep': 'obl', 'head': 'asentado'}]\n",
      "[{'token': 'asentados', 'lemma': 'asentar', 'pos': 'ADJ', 'dep': 'ROOT', 'head': 'asentados'}, {'token': 'región', 'lemma': 'región', 'pos': 'NOUN', 'dep': 'obl', 'head': 'asentados'}, {'token': 'sombra', 'lemma': 'sombrar', 'pos': 'NOUN', 'dep': 'nmod', 'head': 'región'}, {'token': 'muerte', 'lemma': 'muerte', 'pos': 'NOUN', 'dep': 'nmod', 'head': 'sombra'}]\n",
      "[{'token': 'resplandeció', 'lemma': 'resplandecer', 'pos': 'VERB', 'dep': 'ROOT', 'head': 'resplandeció'}]\n",
      "[{'token': 'comenzó', 'lemma': 'comenzar', 'pos': 'VERB', 'dep': 'ROOT', 'head': 'comenzó'}, {'token': 'jesús', 'lemma': 'jesús', 'pos': 'ADV', 'dep': 'obj', 'head': 'comenzó'}, {'token': 'predicar', 'lemma': 'predicar', 'pos': 'VERB', 'dep': 'acl', 'head': 'jesús'}, {'token': 'arrepentíos', 'lemma': 'arrepentíos', 'pos': 'NOUN', 'dep': 'conj', 'head': 'comenzó'}, {'token': 'reino', 'lemma': 'reinar', 'pos': 'NOUN', 'dep': 'nsubj', 'head': 'acercado'}, {'token': 'cielos', 'lemma': 'cielo', 'pos': 'NOUN', 'dep': 'nmod', 'head': 'reino'}, {'token': 'acercado', 'lemma': 'acercar', 'pos': 'VERB', 'dep': 'advcl', 'head': 'comenzó'}]\n",
      "[{'token': 'andando', 'lemma': 'andar', 'pos': 'VERB', 'dep': 'advcl', 'head': 'vio'}, {'token': 'jesús', 'lemma': 'jesús', 'pos': 'ADV', 'dep': 'obj', 'head': 'andando'}, {'token': 'galilea', 'lemma': 'galileo', 'pos': 'NOUN', 'dep': 'nmod', 'head': 'mar'}, {'token': 'hermanos', 'lemma': 'hermano', 'pos': 'NOUN', 'dep': 'obj', 'head': 'vio'}, {'token': 'simón', 'lemma': 'simón', 'pos': 'NOUN', 'dep': 'conj', 'head': 'hermanos'}, {'token': 'llamado', 'lemma': 'llamar', 'pos': 'ADJ', 'dep': 'amod', 'head': 'hermanos'}, {'token': 'pedro', 'lemma': 'pedro', 'pos': 'NOUN', 'dep': 'obj', 'head': 'llamado'}, {'token': 'andrés', 'lemma': 'andrés', 'pos': 'VERB', 'dep': 'conj', 'head': 'hermanos'}, {'token': 'hermano', 'lemma': 'hermanar', 'pos': 'NOUN', 'dep': 'obj', 'head': 'andrés'}, {'token': 'echaban', 'lemma': 'echar', 'pos': 'VERB', 'dep': 'acl', 'head': 'hermano'}, {'token': 'pescadores', 'lemma': 'pescador', 'pos': 'NOUN', 'dep': 'advcl', 'head': 'vio'}]\n",
      "[{'token': 'venid', 'lemma': 'venir', 'pos': 'VERB', 'dep': 'ccomp', 'head': 'dijo'}, {'token': 'haré', 'lemma': 'hacer', 'pos': 'DET', 'dep': 'conj', 'head': 'venid'}, {'token': 'pescadores', 'lemma': 'pescador', 'pos': 'NOUN', 'dep': 'obj', 'head': 'haré'}, {'token': 'hombres', 'lemma': 'hombre', 'pos': 'NOUN', 'dep': 'nmod', 'head': 'pescadores'}]\n",
      "[{'token': 'dejando', 'lemma': 'dejar', 'pos': 'VERB', 'dep': 'advcl', 'head': 'siguieron'}, {'token': 'instante', 'lemma': 'instante', 'pos': 'NOUN', 'dep': 'fixed', 'head': 'al'}, {'token': 'redes', 'lemma': 'redar', 'pos': 'NOUN', 'dep': 'obj', 'head': 'dejando'}, {'token': 'siguieron', 'lemma': 'seguir', 'pos': 'VERB', 'dep': 'ROOT', 'head': 'siguieron'}]\n",
      "[{'token': 'pasando', 'lemma': 'pasar', 'pos': 'VERB', 'dep': 'advcl', 'head': 'vio'}, {'token': 'hermanos', 'lemma': 'hermano', 'pos': 'NOUN', 'dep': 'obj', 'head': 'vio'}, {'token': 'jacobo', 'lemma': 'jacobo', 'pos': 'NOUN', 'dep': 'amod', 'head': 'hijo'}, {'token': 'hijo', 'lemma': 'hijo', 'pos': 'ADJ', 'dep': 'appos', 'head': 'hermanos'}, {'token': 'zebedeo', 'lemma': 'zebedeo', 'pos': 'NOUN', 'dep': 'nmod', 'head': 'hijo'}, {'token': 'juan', 'lemma': 'juan', 'pos': 'VERB', 'dep': 'conj', 'head': 'vio'}, {'token': 'hermano', 'lemma': 'hermanar', 'pos': 'NOUN', 'dep': 'obj', 'head': 'juan'}, {'token': 'barca', 'lemma': 'barca', 'pos': 'NOUN', 'dep': 'obl', 'head': 'vio'}, {'token': 'zebedeo', 'lemma': 'zebedeo', 'pos': 'NOUN', 'dep': 'nmod', 'head': 'barca'}, {'token': 'padre', 'lemma': 'padre', 'pos': 'NOUN', 'dep': 'nsubj', 'head': 'barca'}, {'token': 'remendaban', 'lemma': 'remendar', 'pos': 'VERB', 'dep': 'acl', 'head': 'padre'}, {'token': 'redes', 'lemma': 'redar', 'pos': 'NOUN', 'dep': 'obj', 'head': 'remendaban'}, {'token': 'llamó', 'lemma': 'llamar', 'pos': 'VERB', 'dep': 'conj', 'head': 'vio'}]\n",
      "[{'token': 'dejando', 'lemma': 'dejar', 'pos': 'VERB', 'dep': 'advcl', 'head': 'siguieron'}, {'token': 'instante', 'lemma': 'instante', 'pos': 'NOUN', 'dep': 'fixed', 'head': 'al'}, {'token': 'barca', 'lemma': 'barca', 'pos': 'ADJ', 'dep': 'obj', 'head': 'dejando'}, {'token': 'padre', 'lemma': 'padre', 'pos': 'NOUN', 'dep': 'conj', 'head': 'barca'}, {'token': 'siguieron', 'lemma': 'seguir', 'pos': 'VERB', 'dep': 'ROOT', 'head': 'siguieron'}]\n",
      "[{'token': 'recorrió', 'lemma': 'recorrer', 'pos': 'VERB', 'dep': 'conj', 'head': '23'}, {'token': 'jesús', 'lemma': 'jesús', 'pos': 'ADV', 'dep': 'obj', 'head': 'recorrió'}, {'token': 'galilea', 'lemma': 'galileo', 'pos': 'NOUN', 'dep': 'obj', 'head': 'recorrió'}, {'token': 'enseñando', 'lemma': 'enseñar', 'pos': 'VERB', 'dep': 'ROOT', 'head': 'enseñando'}, {'token': 'sinagogas', 'lemma': 'sinagoga', 'pos': 'NOUN', 'dep': 'obl', 'head': 'enseñando'}, {'token': 'predicando', 'lemma': 'predicar', 'pos': 'VERB', 'dep': 'conj', 'head': 'enseñando'}, {'token': 'evangelio', 'lemma': 'evangelio', 'pos': 'NOUN', 'dep': 'obj', 'head': 'predicando'}, {'token': 'reino', 'lemma': 'reinar', 'pos': 'NOUN', 'dep': 'nmod', 'head': 'evangelio'}, {'token': 'sanando', 'lemma': 'sanar', 'pos': 'VERB', 'dep': 'conj', 'head': 'predicando'}, {'token': 'enfermedad', 'lemma': 'enfermedad', 'pos': 'NOUN', 'dep': 'obj', 'head': 'sanando'}, {'token': 'dolencia', 'lemma': 'dolencia', 'pos': 'NOUN', 'dep': 'conj', 'head': 'enfermedad'}, {'token': 'pueblo', 'lemma': 'poblar', 'pos': 'NOUN', 'dep': 'obl', 'head': 'sanando'}]\n",
      "[{'token': 'difundió', 'lemma': 'difundir', 'pos': 'VERB', 'dep': 'conj', 'head': '24'}, {'token': 'fama', 'lemma': 'fama', 'pos': 'NOUN', 'dep': 'nsubj', 'head': 'difundió'}, {'token': 'siria', 'lemma': 'sirio', 'pos': 'ADJ', 'dep': 'obl', 'head': 'difundió'}, {'token': 'trajeron', 'lemma': 'traer', 'pos': 'VERB', 'dep': 'conj', 'head': '24'}, {'token': 'tenían', 'lemma': 'tener', 'pos': 'VERB', 'dep': 'csubj', 'head': 'trajeron'}, {'token': 'dolencias', 'lemma': 'dolencia', 'pos': 'NOUN', 'dep': 'obj', 'head': 'tenían'}, {'token': 'afligidos', 'lemma': 'afligir', 'pos': 'NOUN', 'dep': 'appos', 'head': 'dolencias'}, {'token': 'diversas', 'lemma': 'diverso', 'pos': 'DET', 'dep': 'det', 'head': 'enfermedades'}, {'token': 'enfermedades', 'lemma': 'enfermedad', 'pos': 'NOUN', 'dep': 'nmod', 'head': 'dolencias'}, {'token': 'tormentos', 'lemma': 'tormento', 'pos': 'NOUN', 'dep': 'conj', 'head': 'enfermedades'}, {'token': 'endemoniados', 'lemma': 'endemoniar', 'pos': 'NOUN', 'dep': 'appos', 'head': 'dolencias'}, {'token': 'lunáticos', 'lemma': 'lunático', 'pos': 'ADJ', 'dep': 'conj', 'head': 'dolencias'}, {'token': 'paralíticos', 'lemma': 'paralítico', 'pos': 'ADJ', 'dep': 'conj', 'head': 'dolencias'}, {'token': 'sanó', 'lemma': 'sanar', 'pos': 'VERB', 'dep': 'conj', 'head': '24'}]\n",
      "[{'token': 'siguió', 'lemma': 'seguir', 'pos': 'VERB', 'dep': 'conj', 'head': '25'}, {'token': 'gente', 'lemma': 'gente', 'pos': 'NOUN', 'dep': 'nsubj', 'head': 'siguió'}, {'token': 'galilea', 'lemma': 'galileo', 'pos': 'NOUN', 'dep': 'nmod', 'head': 'gente'}, {'token': 'decápolis', 'lemma': 'decápolis', 'pos': 'NOUN', 'dep': 'conj', 'head': 'galilea'}, {'token': 'jerusalén', 'lemma': 'jerusalén', 'pos': 'NOUN', 'dep': 'conj', 'head': 'galilea'}, {'token': 'judea', 'lemma': 'judea', 'pos': 'NOUN', 'dep': 'nmod', 'head': 'gente'}, {'token': 'jordán', 'lemma': 'jordán', 'pos': 'NOUN', 'dep': 'nmod', 'head': 'lado'}]\n",
      "[{'token': 'sermón', 'lemma': 'sermón', 'pos': 'NOUN', 'dep': 'ROOT', 'head': 'sermón'}, {'token': 'monte', 'lemma': 'montar', 'pos': 'NOUN', 'dep': 'nmod', 'head': 'sermón'}, {'token': 'bienaventuranzas', 'lemma': 'bienaventuranza', 'pos': 'NOUN', 'dep': 'appos', 'head': 'sermón'}]\n",
      "[]\n",
      "[{'token': '6.20', 'lemma': '6.20', 'pos': 'NOUN', 'dep': 'ROOT', 'head': '6.20'}]\n",
      "[{'token': 'viendo', 'lemma': 'ver', 'pos': 'VERB', 'dep': 'advcl', 'head': 'vinieron'}, {'token': 'multitud', 'lemma': 'multitud', 'pos': 'NOUN', 'dep': 'obj', 'head': 'viendo'}, {'token': 'subió', 'lemma': 'subir', 'pos': 'VERB', 'dep': 'advcl', 'head': 'viendo'}, {'token': 'monte', 'lemma': 'montar', 'pos': 'NOUN', 'dep': 'obl', 'head': 'subió'}, {'token': 'sentándose', 'lemma': 'sentándose', 'pos': 'VERB', 'dep': 'conj', 'head': 'viendo'}, {'token': 'vinieron', 'lemma': 'venir', 'pos': 'VERB', 'dep': 'ROOT', 'head': 'vinieron'}, {'token': 'discípulos', 'lemma': 'discípulo', 'pos': 'NOUN', 'dep': 'obj', 'head': 'vinieron'}]\n",
      "[{'token': 'abriendo', 'lemma': 'abrir', 'pos': 'VERB', 'dep': 'advcl', 'head': 'enseñaba'}, {'token': 'boca', 'lemma': 'boca', 'pos': 'NOUN', 'dep': 'obj', 'head': 'abriendo'}, {'token': 'enseñaba', 'lemma': 'enseñar', 'pos': 'VERB', 'dep': 'ROOT', 'head': 'enseñaba'}, {'token': 'diciendo', 'lemma': 'decir', 'pos': 'AUX', 'dep': 'advcl', 'head': 'enseñaba'}]\n",
      "[{'token': 'bienaventurados', 'lemma': 'bienaventurado', 'pos': 'ADJ', 'dep': 'ROOT', 'head': 'bienaventurados'}, {'token': 'pobres', 'lemma': 'pobre', 'pos': 'NOUN', 'dep': 'nsubj', 'head': 'bienaventurados'}, {'token': 'espíritu', 'lemma': 'espíritu', 'pos': 'NOUN', 'dep': 'nmod', 'head': 'pobres'}, {'token': 'reino', 'lemma': 'reinar', 'pos': 'NOUN', 'dep': 'advcl', 'head': 'bienaventurados'}, {'token': 'cielos', 'lemma': 'cielo', 'pos': 'NOUN', 'dep': 'nmod', 'head': 'reino'}]\n",
      "[{'token': 'bienaventurados', 'lemma': 'bienaventurado', 'pos': 'ADJ', 'dep': 'ROOT', 'head': 'bienaventurados'}, {'token': 'lloran', 'lemma': 'llorar', 'pos': 'VERB', 'dep': 'ccomp', 'head': 'bienaventurados'}, {'token': 'recibirán', 'lemma': 'recibir', 'pos': 'VERB', 'dep': 'advcl', 'head': 'lloran'}, {'token': 'consolación', 'lemma': 'consolación', 'pos': 'NOUN', 'dep': 'obj', 'head': 'recibirán'}]\n",
      "[{'token': 'bienaventurados', 'lemma': 'bienaventurado', 'pos': 'ADJ', 'dep': 'ROOT', 'head': 'bienaventurados'}, {'token': 'mansos', 'lemma': 'manso', 'pos': 'NOUN', 'dep': 'nsubj', 'head': 'bienaventurados'}, {'token': 'recibirán', 'lemma': 'recibir', 'pos': 'VERB', 'dep': 'advcl', 'head': 'bienaventurados'}, {'token': 'tierra', 'lemma': 'tierra', 'pos': 'NOUN', 'dep': 'obj', 'head': 'recibirán'}, {'token': 'heredad', 'lemma': 'heredar', 'pos': 'NOUN', 'dep': 'obl', 'head': 'recibirán'}]\n",
      "[{'token': 'bienaventurados', 'lemma': 'bienaventurado', 'pos': 'ADJ', 'dep': 'ROOT', 'head': 'bienaventurados'}, {'token': 'hambre', 'lemma': 'hambre', 'pos': 'NOUN', 'dep': 'obj', 'head': 'tienen'}, {'token': 'justicia', 'lemma': 'justicia', 'pos': 'NOUN', 'dep': 'nmod', 'head': 'hambre'}, {'token': 'saciados', 'lemma': 'saciar', 'pos': 'VERB', 'dep': 'advcl', 'head': 'tienen'}]\n",
      "[{'token': 'bienaventurados', 'lemma': 'bienaventurado', 'pos': 'ADJ', 'dep': 'ROOT', 'head': 'bienaventurados'}, {'token': 'misericordiosos', 'lemma': 'misericordioso', 'pos': 'NOUN', 'dep': 'nsubj', 'head': 'bienaventurados'}, {'token': 'alcanzarán', 'lemma': 'alcanzar', 'pos': 'VERB', 'dep': 'advcl', 'head': 'bienaventurados'}, {'token': 'misericordia', 'lemma': 'misericordia', 'pos': 'NOUN', 'dep': 'obj', 'head': 'alcanzarán'}]\n",
      "[{'token': 'bienaventurados', 'lemma': 'bienaventurado', 'pos': 'ADJ', 'dep': 'ROOT', 'head': 'bienaventurados'}, {'token': 'limpio', 'lemma': 'limpiar', 'pos': 'DET', 'dep': 'amod', 'head': 'corazón'}, {'token': 'corazón', 'lemma': 'corazón', 'pos': 'NOUN', 'dep': 'nsubj', 'head': 'los'}, {'token': 'verán', 'lemma': 'ver', 'pos': 'VERB', 'dep': 'advcl', 'head': 'bienaventurados'}, {'token': 'dios', 'lemma': 'dios', 'pos': 'NOUN', 'dep': 'obj', 'head': 'verán'}]\n",
      "[{'token': 'bienaventurados', 'lemma': 'bienaventurado', 'pos': 'ADJ', 'dep': 'ROOT', 'head': 'bienaventurados'}, {'token': 'pacificadores', 'lemma': 'pacificador', 'pos': 'NOUN', 'dep': 'nsubj', 'head': 'bienaventurados'}, {'token': 'llamados', 'lemma': 'llamar', 'pos': 'VERB', 'dep': 'advcl', 'head': 'bienaventurados'}, {'token': 'hijos', 'lemma': 'hijo', 'pos': 'NOUN', 'dep': 'obj', 'head': 'llamados'}, {'token': 'dios', 'lemma': 'dios', 'pos': 'NOUN', 'dep': 'nmod', 'head': 'hijos'}]\n",
      "[{'token': 'bienaventurados', 'lemma': 'bienaventurado', 'pos': 'ADJ', 'dep': 'ROOT', 'head': 'bienaventurados'}, {'token': 'padecen', 'lemma': 'padecer', 'pos': 'VERB', 'dep': 'ccomp', 'head': 'bienaventurados'}, {'token': 'persecución', 'lemma': 'persecución', 'pos': 'NOUN', 'dep': 'obj', 'head': 'padecen'}, {'token': 'causa', 'lemma': 'causar', 'pos': 'NOUN', 'dep': 'fixed', 'head': 'por'}, {'token': 'justicia', 'lemma': 'justicia', 'pos': 'NOUN', 'dep': 'obl', 'head': 'padecen'}, {'token': 'reino', 'lemma': 'reinar', 'pos': 'NOUN', 'dep': 'advcl', 'head': 'bienaventurados'}, {'token': 'cielos', 'lemma': 'cielo', 'pos': 'NOUN', 'dep': 'nmod', 'head': 'reino'}]\n",
      "[{'token': 'bienaventurados', 'lemma': 'bienaventurado', 'pos': 'ADJ', 'dep': 'nsubj', 'head': 'sois'}, {'token': 'causa', 'lemma': 'causar', 'pos': 'NOUN', 'dep': 'obl', 'head': 'vituperen'}, {'token': 'vituperen', 'lemma': 'vituperar', 'pos': 'VERB', 'dep': 'advcl', 'head': 'sois'}, {'token': 'persigan', 'lemma': 'perseguir', 'pos': 'VERB', 'dep': 'conj', 'head': 'vituperen'}, {'token': 'digan', 'lemma': 'decir', 'pos': 'VERB', 'dep': 'conj', 'head': 'sois'}, {'token': 'clase', 'lemma': 'clase', 'pos': 'NOUN', 'dep': 'obj', 'head': 'digan'}, {'token': 'mintiendo', 'lemma': 'mentir', 'pos': 'VERB', 'dep': 'advcl', 'head': 'digan'}]\n",
      "[{'token': 'gozaos', 'lemma': 'gozaos', 'pos': 'NOUN', 'dep': 'ROOT', 'head': 'gozaos'}, {'token': 'alegraos', 'lemma': 'alegraos', 'pos': 'NOUN', 'dep': 'conj', 'head': 'gozaos'}, {'token': 'galardón', 'lemma': 'galardón', 'pos': 'NOUN', 'dep': 'nsubj', 'head': 'grande'}, {'token': 'grande', 'lemma': 'grande', 'pos': 'ADJ', 'dep': 'acl', 'head': 'gozaos'}, {'token': 'cielos', 'lemma': 'cielo', 'pos': 'NOUN', 'dep': 'obl', 'head': 'grande'}, {'token': 'persiguieron', 'lemma': 'perseguir', 'pos': 'VERB', 'dep': 'advcl', 'head': 'grande'}, {'token': 'profetas', 'lemma': 'profeta', 'pos': 'NOUN', 'dep': 'obj', 'head': 'persiguieron'}]\n",
      "[{'token': 'tierra', 'lemma': 'tierra', 'pos': 'NOUN', 'dep': 'nmod', 'head': 'sal'}]\n",
      "[{'token': 'tierra', 'lemma': 'tierra', 'pos': 'NOUN', 'dep': 'nmod', 'head': 'sal'}, {'token': 'desvaneciere', 'lemma': 'desvanecer', 'pos': 'VERB', 'dep': 'advcl', 'head': 'salada'}, {'token': 'salada', 'lemma': 'salar', 'pos': 'VERB', 'dep': 'conj', 'head': 'sois'}]\n",
      "[{'token': 'sirve', 'lemma': 'servir', 'pos': 'VERB', 'dep': 'ROOT', 'head': 'sirve'}, {'token': 'echada', 'lemma': 'echar', 'pos': 'VERB', 'dep': 'advcl', 'head': 'sino'}, {'token': 'hollada', 'lemma': 'hollar', 'pos': 'ADJ', 'dep': 'conj', 'head': 'fuera'}, {'token': 'hombres', 'lemma': 'hombre', 'pos': 'NOUN', 'dep': 'obj', 'head': 'echada'}]\n",
      "[{'token': 'mundo', 'lemma': 'mundo', 'pos': 'NOUN', 'dep': 'nmod', 'head': 'luz'}]\n",
      "[{'token': 'mundo', 'lemma': 'mundo', 'pos': 'NOUN', 'dep': 'nmod', 'head': 'luz'}, {'token': 'ciudad', 'lemma': 'ciudad', 'pos': 'NOUN', 'dep': 'nsubj', 'head': 'esconder'}, {'token': 'asentada', 'lemma': 'asentar', 'pos': 'ADJ', 'dep': 'amod', 'head': 'ciudad'}, {'token': 'monte', 'lemma': 'montar', 'pos': 'NOUN', 'dep': 'obj', 'head': 'asentada'}, {'token': 'esconder', 'lemma': 'esconder', 'pos': 'VERB', 'dep': 'advcl', 'head': 'sois'}]\n",
      "[{'token': 'enciende', 'lemma': 'encender', 'pos': 'VERB', 'dep': 'conj', 'head': '15'}, {'token': 'pone', 'lemma': 'poner', 'pos': 'VERB', 'dep': 'conj', 'head': '15'}, {'token': 'almud', 'lemma': 'almud', 'pos': 'NOUN', 'dep': 'obj', 'head': 'pone'}, {'token': 'candelero', 'lemma': 'candelero', 'pos': 'NOUN', 'dep': 'conj', 'head': 'almud'}, {'token': 'alumbra', 'lemma': 'alumbrar', 'pos': 'NOUN', 'dep': 'conj', 'head': 'candelero'}, {'token': 'casa', 'lemma': 'casar', 'pos': 'NOUN', 'dep': 'obl', 'head': 'pone'}]\n",
      "[{'token': 'alumbre', 'lemma': 'alumbrar', 'pos': 'NOUN', 'dep': 'ROOT', 'head': 'alumbre'}, {'token': 'hombres', 'lemma': 'hombre', 'pos': 'NOUN', 'dep': 'obl', 'head': 'delante'}, {'token': 'vean', 'lemma': 'ver', 'pos': 'VERB', 'dep': 'advcl', 'head': 'alumbre'}, {'token': 'obras', 'lemma': 'obrar', 'pos': 'NOUN', 'dep': 'obj', 'head': 'vean'}, {'token': 'glorifiquen', 'lemma': 'glorificar', 'pos': 'VERB', 'dep': 'conj', 'head': 'alumbre'}, {'token': 'padre', 'lemma': 'padre', 'pos': 'NOUN', 'dep': 'obj', 'head': 'glorifiquen'}, {'token': 'cielos', 'lemma': 'cielo', 'pos': 'NOUN', 'dep': 'obl', 'head': 'está'}]\n",
      "[{'token': 'jesús', 'lemma': 'jesús', 'pos': 'ADJ', 'dep': 'ROOT', 'head': 'jesús'}]\n",
      "[{'token': 'penséis', 'lemma': 'pensar', 'pos': 'VERB', 'dep': 'ROOT', 'head': 'penséis'}, {'token': 'venido', 'lemma': 'venir', 'pos': 'VERB', 'dep': 'ccomp', 'head': 'penséis'}, {'token': 'abrogar', 'lemma': 'abrogar', 'pos': 'VERB', 'dep': 'advcl', 'head': 'venido'}, {'token': 'profetas', 'lemma': 'profeta', 'pos': 'NOUN', 'dep': 'conj', 'head': 'ley'}, {'token': 'venido', 'lemma': 'venir', 'pos': 'VERB', 'dep': 'advcl', 'head': 'penséis'}, {'token': 'abrogar', 'lemma': 'abrogar', 'pos': 'VERB', 'dep': 'advcl', 'head': 'venido'}, {'token': 'cumplir', 'lemma': 'cumplir', 'pos': 'VERB', 'dep': 'conj', 'head': 'venido'}]\n",
      "[{'token': 'digo', 'lemma': 'decir', 'pos': 'VERB', 'dep': 'ROOT', 'head': 'digo'}, {'token': 'pasen', 'lemma': 'pasar', 'pos': 'VERB', 'dep': 'advcl', 'head': 'pasará'}, {'token': 'cielo', 'lemma': 'cielo', 'pos': 'NOUN', 'dep': 'obj', 'head': 'pasen'}, {'token': 'tierra', 'lemma': 'tierra', 'pos': 'NOUN', 'dep': 'conj', 'head': 'cielo'}, {'token': 'jota', 'lemma': 'jota', 'pos': 'NOUN', 'dep': 'nsubj', 'head': 'pasará'}, {'token': 'tilde', 'lemma': 'tildar', 'pos': 'NOUN', 'dep': 'conj', 'head': 'jota'}, {'token': 'pasará', 'lemma': 'pasar', 'pos': 'VERB', 'dep': 'ccomp', 'head': 'digo'}, {'token': 'cumplido', 'lemma': 'cumplir', 'pos': 'VERB', 'dep': 'advcl', 'head': 'pasará'}]\n",
      "[{'token': 'cualquiera', 'lemma': 'cualquiera', 'pos': 'PRON', 'dep': 'obj', 'head': '19'}, {'token': 'quebrante', 'lemma': 'quebrantar', 'pos': 'VERB', 'dep': 'nmod', 'head': 'uno'}, {'token': 'mandamientos', 'lemma': 'mandamiento', 'pos': 'NOUN', 'dep': 'nmod', 'head': 'uno'}, {'token': 'pequeños', 'lemma': 'pequeño', 'pos': 'ADJ', 'dep': 'amod', 'head': 'mandamientos'}, {'token': 'enseñe', 'lemma': 'enseñar', 'pos': 'VERB', 'dep': 'conj', 'head': 'uno'}, {'token': 'hombres', 'lemma': 'hombre', 'pos': 'NOUN', 'dep': 'obj', 'head': 'enseñe'}, {'token': 'pequeño', 'lemma': 'pequeño', 'pos': 'ADJ', 'dep': 'amod', 'head': 'hombres'}, {'token': 'llamado', 'lemma': 'llamar', 'pos': 'VERB', 'dep': 'acl', 'head': 'cualquiera'}, {'token': 'reino', 'lemma': 'reinar', 'pos': 'NOUN', 'dep': 'obl', 'head': 'llamado'}, {'token': 'cielos', 'lemma': 'cielo', 'pos': 'NOUN', 'dep': 'nmod', 'head': 'reino'}, {'token': 'cualquiera', 'lemma': 'cualquiera', 'pos': 'PRON', 'dep': 'obj', 'head': 'llamado'}, {'token': 'haga', 'lemma': 'hacer', 'pos': 'VERB', 'dep': 'acl', 'head': 'cualquiera'}, {'token': 'enseñe', 'lemma': 'enseñar', 'pos': 'VERB', 'dep': 'conj', 'head': 'cualquiera'}, {'token': 'llamado', 'lemma': 'llamar', 'pos': 'VERB', 'dep': 'ROOT', 'head': 'llamado'}, {'token': 'grande', 'lemma': 'grande', 'pos': 'ADJ', 'dep': 'obj', 'head': 'llamado'}, {'token': 'reino', 'lemma': 'reinar', 'pos': 'NOUN', 'dep': 'obl', 'head': 'llamado'}, {'token': 'cielos', 'lemma': 'cielo', 'pos': 'NOUN', 'dep': 'nmod', 'head': 'reino'}]\n",
      "[{'token': 'digo', 'lemma': 'decir', 'pos': 'VERB', 'dep': 'advcl', 'head': '20'}, {'token': 'justicia', 'lemma': 'justicia', 'pos': 'NOUN', 'dep': 'nsubj', 'head': 'fuere'}, {'token': 'fuere', 'lemma': 'ser', 'pos': 'VERB', 'dep': 'advcl', 'head': 'entraréis'}, {'token': 'escribas', 'lemma': 'escribir', 'pos': 'NOUN', 'dep': 'appos', 'head': 'la'}, {'token': 'fariseos', 'lemma': 'fariseo', 'pos': 'NOUN', 'dep': 'conj', 'head': 'escribas'}, {'token': 'entraréis', 'lemma': 'entrar', 'pos': 'VERB', 'dep': 'ccomp', 'head': 'digo'}, {'token': 'reino', 'lemma': 'reinar', 'pos': 'NOUN', 'dep': 'obl', 'head': 'entraréis'}, {'token': 'cielos', 'lemma': 'cielo', 'pos': 'NOUN', 'dep': 'nmod', 'head': 'reino'}]\n",
      "[{'token': 'jesús', 'lemma': 'jesús', 'pos': 'ADJ', 'dep': 'ROOT', 'head': 'jesús'}]\n",
      "[]\n",
      "[{'token': '12.57', 'lemma': '12.57', 'pos': 'NUM', 'dep': 'ROOT', 'head': '12.57'}]\n",
      "[{'token': 'oísteis', 'lemma': 'oír', 'pos': 'NUM', 'dep': 'ROOT', 'head': 'oísteis'}, {'token': 'antiguos', 'lemma': 'antiguo', 'pos': 'ADJ', 'dep': 'obj', 'head': 'dicho'}, {'token': 'matarás', 'lemma': 'matar', 'pos': 'VERB', 'dep': 'appos', 'head': 'oísteis'}, {'token': 'cualquiera', 'lemma': 'cualquiera', 'pos': 'PRON', 'dep': 'nsubj', 'head': 'culpable'}, {'token': 'matare', 'lemma': 'matar', 'pos': 'VERB', 'dep': 'acl', 'head': 'cualquiera'}, {'token': 'culpable', 'lemma': 'culpable', 'pos': 'ADJ', 'dep': 'conj', 'head': 'matarás'}, {'token': 'juicio', 'lemma': 'juicio', 'pos': 'NOUN', 'dep': 'nmod', 'head': 'culpable'}]\n",
      "[{'token': 'digo', 'lemma': 'decir', 'pos': 'VERB', 'dep': 'conj', 'head': '22'}, {'token': 'cualquiera', 'lemma': 'cualquiera', 'pos': 'PRON', 'dep': 'nsubj', 'head': 'culpable'}, {'token': 'enoje', 'lemma': 'enojar', 'pos': 'VERB', 'dep': 'acl', 'head': 'cualquiera'}, {'token': 'hermano', 'lemma': 'hermanar', 'pos': 'NOUN', 'dep': 'obl', 'head': 'enoje'}, {'token': 'culpable', 'lemma': 'culpable', 'pos': 'ADJ', 'dep': 'ccomp', 'head': 'digo'}, {'token': 'juicio', 'lemma': 'juicio', 'pos': 'NOUN', 'dep': 'nmod', 'head': 'culpable'}, {'token': 'cualquiera', 'lemma': 'cualquiera', 'pos': 'PRON', 'dep': 'nsubj', 'head': 'culpable'}, {'token': 'diga', 'lemma': 'decir', 'pos': 'VERB', 'dep': 'acl', 'head': 'cualquiera'}, {'token': 'necio', 'lemma': 'necio', 'pos': 'NOUN', 'dep': 'nsubj', 'head': 'culpable'}, {'token': 'hermano', 'lemma': 'hermanar', 'pos': 'NOUN', 'dep': 'nmod', 'head': 'necio'}, {'token': 'culpable', 'lemma': 'culpable', 'pos': 'ADJ', 'dep': 'conj', 'head': '22'}, {'token': 'concilio', 'lemma': 'conciliar', 'pos': 'NOUN', 'dep': 'nmod', 'head': 'culpable'}, {'token': 'cualquiera', 'lemma': 'cualquiera', 'pos': 'PRON', 'dep': 'nsubj', 'head': 'quedará'}, {'token': 'diga', 'lemma': 'decir', 'pos': 'VERB', 'dep': 'acl', 'head': 'cualquiera'}, {'token': 'fatuo', 'lemma': 'fatuo', 'pos': 'NOUN', 'dep': 'amod', 'head': 'cualquiera'}, {'token': 'quedará', 'lemma': 'quedar', 'pos': 'VERB', 'dep': 'conj', 'head': 'culpable'}, {'token': 'expuesto', 'lemma': 'exponer', 'pos': 'ADJ', 'dep': 'obj', 'head': 'quedará'}, {'token': 'infierno', 'lemma': 'infierno', 'pos': 'NOUN', 'dep': 'nmod', 'head': 'expuesto'}, {'token': 'fuego', 'lemma': 'fuego', 'pos': 'NOUN', 'dep': 'nmod', 'head': 'infierno'}]\n",
      "[{'token': 'traes', 'lemma': 'traer', 'pos': 'VERB', 'dep': 'advcl', 'head': 'deja'}, {'token': 'ofrenda', 'lemma': 'ofrendar', 'pos': 'NOUN', 'dep': 'obj', 'head': 'traes'}, {'token': 'altar', 'lemma': 'altar', 'pos': 'NOUN', 'dep': 'obj', 'head': 'traes'}, {'token': 'acuerdas', 'lemma': 'acordar', 'pos': 'VERB', 'dep': 'conj', 'head': 'traes'}, {'token': 'hermano', 'lemma': 'hermanar', 'pos': 'NOUN', 'dep': 'nsubj', 'head': 'tiene'}, {'token': 'deja', 'lemma': 'dejar', 'pos': 'VERB', 'dep': 'ROOT', 'head': 'deja'}, {'token': 'ofrenda', 'lemma': 'ofrendar', 'pos': 'VERB', 'dep': 'amod', 'head': 'tu'}, {'token': 'altar', 'lemma': 'altar', 'pos': 'NOUN', 'dep': 'obl', 'head': 'delante'}, {'token': 'anda', 'lemma': 'andar', 'pos': 'VERB', 'dep': 'conj', 'head': 'ofrenda'}, {'token': 'reconcíliate', 'lemma': 'reconcíliate', 'pos': 'NOUN', 'dep': 'obj', 'head': 'deja'}, {'token': 'hermano', 'lemma': 'hermanar', 'pos': 'NOUN', 'dep': 'obj', 'head': 'reconcíliate'}, {'token': 'presenta', 'lemma': 'presentar', 'pos': 'VERB', 'dep': 'conj', 'head': 'ven'}, {'token': 'ofrenda', 'lemma': 'ofrendar', 'pos': 'NOUN', 'dep': 'obj', 'head': 'presenta'}]\n",
      "[{'token': 'ponte', 'lemma': 'ponte', 'pos': 'ADJ', 'dep': 'ROOT', 'head': 'ponte'}, {'token': 'adversario', 'lemma': 'adversario', 'pos': 'NOUN', 'dep': 'nmod', 'head': 'ponte'}, {'token': 'estás', 'lemma': 'estar', 'pos': 'VERB', 'dep': 'parataxis', 'head': 'entre'}, {'token': 'camino', 'lemma': 'caminar', 'pos': 'NOUN', 'dep': 'obl', 'head': 'estás'}, {'token': 'adversario', 'lemma': 'adversario', 'pos': 'NOUN', 'dep': 'nsubj', 'head': 'entregue'}, {'token': 'entregue', 'lemma': 'entregar', 'pos': 'VERB', 'dep': 'ccomp', 'head': 'sea'}, {'token': 'juez', 'lemma': 'juez', 'pos': 'NOUN', 'dep': 'obj', 'head': 'entregue'}, {'token': 'juez', 'lemma': 'juez', 'pos': 'NOUN', 'dep': 'conj', 'head': 'juez'}, {'token': 'alguacil', 'lemma': 'alguacil', 'pos': 'ADJ', 'dep': 'nmod', 'head': 'juez'}, {'token': 'seas', 'lemma': 'ser', 'pos': 'NOUN', 'dep': 'conj', 'head': 'sea'}, {'token': 'echado', 'lemma': 'echar', 'pos': 'ADJ', 'dep': 'amod', 'head': 'seas'}, {'token': 'cárcel', 'lemma': 'cárcel', 'pos': 'NOUN', 'dep': 'obl', 'head': 'echado'}]\n",
      "[{'token': 'digo', 'lemma': 'decir', 'pos': 'VERB', 'dep': 'ROOT', 'head': 'digo'}, {'token': 'saldrás', 'lemma': 'salir', 'pos': 'NOUN', 'dep': 'ccomp', 'head': 'digo'}, {'token': 'pagues', 'lemma': 'pagar', 'pos': 'NOUN', 'dep': 'advcl', 'head': 'digo'}, {'token': 'cuadrante', 'lemma': 'cuadrante', 'pos': 'NOUN', 'dep': 'obj', 'head': 'pagues'}]\n",
      "[{'token': 'jesús', 'lemma': 'jesús', 'pos': 'ADJ', 'dep': 'ROOT', 'head': 'jesús'}, {'token': 'adulterio', 'lemma': 'adulterio', 'pos': 'NOUN', 'dep': 'conj', 'head': 'jesús'}]\n",
      "[{'token': 'oísteis', 'lemma': 'oír', 'pos': 'NUM', 'dep': 'ROOT', 'head': 'oísteis'}, {'token': 'cometerás', 'lemma': 'cometer', 'pos': 'ADP', 'dep': 'advcl', 'head': 'dicho'}, {'token': 'adulterio', 'lemma': 'adulterio', 'pos': 'NOUN', 'dep': 'obj', 'head': 'cometerás'}]\n",
      "[{'token': 'digo', 'lemma': 'decir', 'pos': 'VERB', 'dep': 'conj', 'head': '28'}, {'token': 'cualquiera', 'lemma': 'cualquiera', 'pos': 'PRON', 'dep': 'nsubj', 'head': 'adulteró'}, {'token': 'mira', 'lemma': 'mirar', 'pos': 'VERB', 'dep': 'acl', 'head': 'cualquiera'}, {'token': 'mujer', 'lemma': 'mujer', 'pos': 'NOUN', 'dep': 'obj', 'head': 'mira'}, {'token': 'codiciarla', 'lemma': 'codiciarla', 'pos': 'NOUN', 'dep': 'obl', 'head': 'mira'}, {'token': 'adulteró', 'lemma': 'adulterar', 'pos': 'VERB', 'dep': 'ccomp', 'head': 'digo'}, {'token': 'corazón', 'lemma': 'corazón', 'pos': 'NOUN', 'dep': 'obl', 'head': 'adulteró'}]\n",
      "[{'token': 'derecho', 'lemma': 'derecho', 'pos': 'ADJ', 'dep': 'amod', 'head': 'ojo'}, {'token': 'ocasión', 'lemma': 'ocasión', 'pos': 'NOUN', 'dep': 'advcl', 'head': '29'}, {'token': 'caer', 'lemma': 'caer', 'pos': 'VERB', 'dep': 'acl', 'head': 'ocasión'}, {'token': 'sácalo', 'lemma': 'sácalo', 'pos': 'NOUN', 'dep': 'obl', 'head': 'caer'}, {'token': 'échalo', 'lemma': 'échalo', 'pos': 'NOUN', 'dep': 'conj', 'head': 'ocasión'}, {'token': 'pierda', 'lemma': 'perder', 'pos': 'VERB', 'dep': 'ccomp', 'head': 'es'}, {'token': 'miembros', 'lemma': 'miembro', 'pos': 'NOUN', 'dep': 'nmod', 'head': 'uno'}, {'token': 'cuerpo', 'lemma': 'cuerpo', 'pos': 'NOUN', 'dep': 'nsubj', 'head': 'echado'}, {'token': 'echado', 'lemma': 'echar', 'pos': 'VERB', 'dep': 'conj', 'head': 'pierda'}, {'token': 'infierno', 'lemma': 'infierno', 'pos': 'NOUN', 'dep': 'obl', 'head': 'echado'}]\n",
      "[{'token': 'mano', 'lemma': 'manir', 'pos': 'NOUN', 'dep': 'nsubj', 'head': 'ocasión'}, {'token': 'derecha', 'lemma': 'derecho', 'pos': 'ADJ', 'dep': 'amod', 'head': 'mano'}, {'token': 'ocasión', 'lemma': 'ocasión', 'pos': 'NOUN', 'dep': 'conj', 'head': '30'}, {'token': 'caer', 'lemma': 'caer', 'pos': 'VERB', 'dep': 'acl', 'head': 'ocasión'}, {'token': 'córtala', 'lemma': 'córtala', 'pos': 'NOUN', 'dep': 'advcl', 'head': 'ocasión'}, {'token': 'échala', 'lemma': 'échala', 'pos': 'NOUN', 'dep': 'conj', 'head': 'ocasión'}, {'token': 'pierda', 'lemma': 'perder', 'pos': 'VERB', 'dep': 'ccomp', 'head': 'es'}, {'token': 'miembros', 'lemma': 'miembro', 'pos': 'NOUN', 'dep': 'nmod', 'head': 'uno'}, {'token': 'cuerpo', 'lemma': 'cuerpo', 'pos': 'NOUN', 'dep': 'nsubj', 'head': 'echado'}, {'token': 'echado', 'lemma': 'echar', 'pos': 'VERB', 'dep': 'conj', 'head': 'es'}, {'token': 'infierno', 'lemma': 'infierno', 'pos': 'NOUN', 'dep': 'obl', 'head': 'echado'}]\n",
      "[{'token': 'jesús', 'lemma': 'jesús', 'pos': 'ADJ', 'dep': 'ROOT', 'head': 'jesús'}, {'token': 'divorcio', 'lemma': 'divorciar', 'pos': 'NOUN', 'dep': 'conj', 'head': 'jesús'}]\n",
      "[{'token': 'cualquiera', 'lemma': 'cualquiera', 'pos': 'PRON', 'dep': 'nsubj', 'head': 'dele'}, {'token': 'repudie', 'lemma': 'repudiar', 'pos': 'VERB', 'dep': 'acl', 'head': 'cualquiera'}, {'token': 'mujer', 'lemma': 'mujer', 'pos': 'NOUN', 'dep': 'nmod', 'head': 'repudie'}, {'token': 'dele', 'lemma': 'dele', 'pos': 'VERB', 'dep': 'advcl', 'head': 'dicho'}, {'token': 'carta', 'lemma': 'carta', 'pos': 'NOUN', 'dep': 'obj', 'head': 'dele'}, {'token': 'divorcio', 'lemma': 'divorciar', 'pos': 'NOUN', 'dep': 'nmod', 'head': 'carta'}]\n",
      "[{'token': 'digo', 'lemma': 'decir', 'pos': 'VERB', 'dep': 'conj', 'head': '32'}, {'token': 'repudia', 'lemma': 'repudiar', 'pos': 'VERB', 'dep': 'ccomp', 'head': 'digo'}, {'token': 'mujer', 'lemma': 'mujer', 'pos': 'NOUN', 'dep': 'obj', 'head': 'repudia'}, {'token': 'causa', 'lemma': 'causar', 'pos': 'NOUN', 'dep': 'fixed', 'head': 'por'}, {'token': 'fornicación', 'lemma': 'fornicación', 'pos': 'NOUN', 'dep': 'obl', 'head': 'ser'}, {'token': 'adultere', 'lemma': 'adulterar', 'pos': 'VERB', 'dep': 'ccomp', 'head': 'hace'}, {'token': 'casa', 'lemma': 'casar', 'pos': 'VERB', 'dep': 'conj', 'head': 'hace'}, {'token': 'repudiada', 'lemma': 'repudiar', 'pos': 'ADJ', 'dep': 'obl', 'head': 'casa'}, {'token': 'comete', 'lemma': 'cometer', 'pos': 'NOUN', 'dep': 'appos', 'head': 'repudiada'}, {'token': 'adulterio', 'lemma': 'adulterio', 'pos': 'ADJ', 'dep': 'amod', 'head': 'comete'}]\n",
      "[{'token': 'jesús', 'lemma': 'jesús', 'pos': 'ADJ', 'dep': 'ROOT', 'head': 'jesús'}, {'token': 'juramentos', 'lemma': 'juramento', 'pos': 'NOUN', 'dep': 'conj', 'head': 'jesús'}]\n",
      "[{'token': 'habéis', 'lemma': 'haber', 'pos': 'AUX', 'dep': 'aux', 'head': 'oído'}, {'token': 'oído', 'lemma': 'oír', 'pos': 'VERB', 'dep': 'ROOT', 'head': 'oído'}, {'token': 'antiguos', 'lemma': 'antiguo', 'pos': 'ADJ', 'dep': 'obj', 'head': 'dicho'}, {'token': 'perjurarás', 'lemma': 'perjurar', 'pos': 'VERB', 'dep': 'advcl', 'head': 'oído'}, {'token': 'cumplirás', 'lemma': 'cumplir', 'pos': 'NOUN', 'dep': 'conj', 'head': 'perjurarás'}, {'token': 'señor', 'lemma': 'señor', 'pos': 'NOUN', 'dep': 'nmod', 'head': 'cumplirás'}, {'token': 'juramentos', 'lemma': 'juramento', 'pos': 'ADJ', 'dep': 'nmod', 'head': 'cumplirás'}]\n",
      "[{'token': 'digo', 'lemma': 'decir', 'pos': 'VERB', 'dep': 'conj', 'head': '34'}, {'token': 'juréis', 'lemma': 'jurar', 'pos': 'VERB', 'dep': 'ccomp', 'head': 'digo'}, {'token': 'cielo', 'lemma': 'cielo', 'pos': 'NOUN', 'dep': 'conj', 'head': '34'}, {'token': 'trono', 'lemma': 'trono', 'pos': 'NOUN', 'dep': 'advcl', 'head': '34'}, {'token': 'dios', 'lemma': 'dios', 'pos': 'NOUN', 'dep': 'nmod', 'head': 'trono'}, {'token': 'tierra', 'lemma': 'tierra', 'pos': 'NOUN', 'dep': 'conj', 'head': '35'}, {'token': 'estrado', 'lemma': 'estrado', 'pos': 'NOUN', 'dep': 'advcl', 'head': '35'}, {'token': 'pies', 'lemma': 'pie', 'pos': 'NOUN', 'dep': 'nmod', 'head': 'estrado'}, {'token': 'jerusalén', 'lemma': 'jerusalén', 'pos': 'NOUN', 'dep': 'conj', 'head': '35'}, {'token': 'ciudad', 'lemma': 'ciudad', 'pos': 'NOUN', 'dep': 'advcl', 'head': '34'}]\n",
      "[{'token': 'cabeza', 'lemma': 'cabeza', 'pos': 'NOUN', 'dep': 'conj', 'head': '36'}, {'token': 'jurarás', 'lemma': 'jurar', 'pos': 'NOUN', 'dep': 'ROOT', 'head': 'jurarás'}, {'token': 'puedes', 'lemma': 'poder', 'pos': 'AUX', 'dep': 'aux', 'head': 'hacer'}, {'token': 'blanco', 'lemma': 'blanco', 'pos': 'ADJ', 'dep': 'obj', 'head': 'hacer'}, {'token': 'negro', 'lemma': 'negro', 'pos': 'NOUN', 'dep': 'conj', 'head': 'blanco'}, {'token': 'cabello', 'lemma': 'cabellar', 'pos': 'NOUN', 'dep': 'obj', 'head': 'hacer'}]\n",
      "[{'token': 'hablar', 'lemma': 'hablar', 'pos': 'VERB', 'dep': 'csubj', 'head': 'vuestro'}, {'token': 'procede', 'lemma': 'proceder', 'pos': 'VERB', 'dep': 'advcl', 'head': '37'}]\n",
      "[{'token': 'amor', 'lemma': 'amor', 'pos': 'NOUN', 'dep': 'ROOT', 'head': 'amor'}, {'token': 'enemigos', 'lemma': 'enemigo', 'pos': 'NOUN', 'dep': 'nmod', 'head': 'amor'}]\n",
      "[]\n",
      "[{'token': '6.27', 'lemma': '6.27', 'pos': 'NOUN', 'dep': 'ROOT', 'head': '6.27'}]\n",
      "[{'token': 'oísteis', 'lemma': 'oír', 'pos': 'NUM', 'dep': 'ROOT', 'head': 'oísteis'}, {'token': 'diente', 'lemma': 'dentar', 'pos': 'ADJ', 'dep': 'conj', 'head': 'ojo'}, {'token': 'diente', 'lemma': 'dentar', 'pos': 'NOUN', 'dep': 'nmod', 'head': 'diente'}]\n",
      "[{'token': 'digo', 'lemma': 'decir', 'pos': 'VERB', 'dep': 'conj', 'head': '39'}, {'token': 'resistáis', 'lemma': 'resistir', 'pos': 'ADJ', 'dep': 'advcl', 'head': '39'}, {'token': 'malo', 'lemma': 'malo', 'pos': 'ADJ', 'dep': 'ccomp', 'head': 'resistáis'}, {'token': 'cualquiera', 'lemma': 'cualquiera', 'pos': 'PRON', 'dep': 'obl', 'head': 'vuélvele'}, {'token': 'hiera', 'lemma': 'herir', 'pos': 'VERB', 'dep': 'acl', 'head': 'cualquiera'}, {'token': 'mejilla', 'lemma': 'mejilla', 'pos': 'NOUN', 'dep': 'obl', 'head': 'hiera'}, {'token': 'derecha', 'lemma': 'derecho', 'pos': 'ADJ', 'dep': 'amod', 'head': 'mejilla'}, {'token': 'vuélvele', 'lemma': 'vuélvele', 'pos': 'VERB', 'dep': 'advcl', 'head': '39'}, {'token': 'quiera', 'lemma': 'querer', 'pos': 'VERB', 'dep': 'conj', 'head': '40'}, {'token': 'ponerte', 'lemma': 'ponerte', 'pos': 'NOUN', 'dep': 'obj', 'head': 'quiera'}, {'token': 'pleito', 'lemma': 'pleito', 'pos': 'NOUN', 'dep': 'obj', 'head': 'ponerte'}, {'token': 'quitarte', 'lemma': 'quitarte', 'pos': 'ADV', 'dep': 'conj', 'head': 'ponerte'}, {'token': 'túnica', 'lemma': 'túnica', 'pos': 'NOUN', 'dep': 'obj', 'head': 'quitarte'}, {'token': 'déjale', 'lemma': 'déjale', 'pos': 'CONJ', 'dep': 'ROOT', 'head': 'déjale'}, {'token': 'capa', 'lemma': 'capar', 'pos': 'NOUN', 'dep': 'obj', 'head': 'déjale'}, {'token': 'cualquiera', 'lemma': 'cualquiera', 'pos': 'PRON', 'dep': 'conj', 'head': '41'}, {'token': 'obligue', 'lemma': 'obligar', 'pos': 'VERB', 'dep': 'acl', 'head': 'cualquiera'}, {'token': 'carga', 'lemma': 'cargar', 'pos': 'NOUN', 'dep': 'obj', 'head': 'llevar'}, {'token': 'milla', 'lemma': 'milla', 'pos': 'NOUN', 'dep': 'obl', 'head': 'llevar'}]\n",
      "[{'token': 'pida', 'lemma': 'pedir', 'pos': 'VERB', 'dep': 'acl', 'head': '42'}, {'token': 'dale', 'lemma': 'dale', 'pos': 'ADJ', 'dep': 'advcl', 'head': '42'}, {'token': 'quiera', 'lemma': 'querer', 'pos': 'VERB', 'dep': 'aux', 'head': 'tomar'}, {'token': 'tomar', 'lemma': 'tomar', 'pos': 'VERB', 'dep': 'advcl', 'head': 'se'}, {'token': 'prestado', 'lemma': 'prestar', 'pos': 'ADJ', 'dep': 'amod', 'head': 'ti'}, {'token': 'rehúses', 'lemma': 'rehusar', 'pos': 'ADJ', 'dep': 'nsubj', 'head': 'se'}]\n",
      "[{'token': 'oísteis', 'lemma': 'oír', 'pos': 'NUM', 'dep': 'ROOT', 'head': 'oísteis'}, {'token': 'amarás', 'lemma': 'amar', 'pos': 'ADV', 'dep': 'acl', 'head': 'oísteis'}, {'token': 'prójimo', 'lemma': 'prójimo', 'pos': 'NOUN', 'dep': 'nmod', 'head': 'amarás'}, {'token': 'aborrecerás', 'lemma': 'aborrecer', 'pos': 'VERB', 'dep': 'conj', 'head': 'amarás'}, {'token': 'enemigo', 'lemma': 'enemigo', 'pos': 'ADJ', 'dep': 'nmod', 'head': 'aborrecerás'}]\n",
      "[{'token': 'digo', 'lemma': 'decir', 'pos': 'VERB', 'dep': 'conj', 'head': '44'}, {'token': 'amad', 'lemma': 'amar', 'pos': 'NOUN', 'dep': 'ccomp', 'head': 'digo'}, {'token': 'enemigos', 'lemma': 'enemigo', 'pos': 'NOUN', 'dep': 'amod', 'head': 'vuestros'}, {'token': 'bendecid', 'lemma': 'bendecir', 'pos': 'NOUN', 'dep': 'amod', 'head': 'vuestros'}, {'token': 'maldicen', 'lemma': 'maldecir', 'pos': 'VERB', 'dep': 'acl', 'head': 'bendecid'}, {'token': 'haced', 'lemma': 'hacer', 'pos': 'VERB', 'dep': 'ROOT', 'head': 'haced'}, {'token': 'aborrecen', 'lemma': 'aborrecer', 'pos': 'VERB', 'dep': 'ccomp', 'head': 'haced'}, {'token': 'orad', 'lemma': 'orar', 'pos': 'VERB', 'dep': 'conj', 'head': 'haced'}, {'token': 'ultrajan', 'lemma': 'ultrajar', 'pos': 'VERB', 'dep': 'ccomp', 'head': 'orad'}, {'token': 'persiguen', 'lemma': 'perseguir', 'pos': 'VERB', 'dep': 'conj', 'head': 'ultrajan'}, {'token': 'seáis', 'lemma': 'ser', 'pos': 'VERB', 'dep': 'acl', 'head': '45'}, {'token': 'hijos', 'lemma': 'hijo', 'pos': 'NOUN', 'dep': 'obj', 'head': 'seáis'}, {'token': 'padre', 'lemma': 'padre', 'pos': 'NOUN', 'dep': 'nmod', 'head': 'hijos'}, {'token': 'cielos', 'lemma': 'cielo', 'pos': 'NOUN', 'dep': 'obl', 'head': 'está'}, {'token': 'salir', 'lemma': 'salir', 'pos': 'VERB', 'dep': 'acl', 'head': 'hijos'}, {'token': 'malos', 'lemma': 'malo', 'pos': 'NOUN', 'dep': 'nmod', 'head': 'sol'}, {'token': 'llover', 'lemma': 'llover', 'pos': 'VERB', 'dep': 'conj', 'head': 'salir'}, {'token': 'justos', 'lemma': 'justo', 'pos': 'ADJ', 'dep': 'obl', 'head': 'llover'}, {'token': 'injustos', 'lemma': 'injusto', 'pos': 'NOUN', 'dep': 'conj', 'head': 'justos'}]\n",
      "[{'token': 'amáis', 'lemma': 'amar', 'pos': 'VERB', 'dep': 'advcl', 'head': 'recompensa'}, {'token': 'aman', 'lemma': 'amar', 'pos': 'VERB', 'dep': 'ccomp', 'head': 'amáis'}, {'token': 'recompensa', 'lemma': 'recompensar', 'pos': 'VERB', 'dep': 'advcl', 'head': '46'}, {'token': 'tendréis', 'lemma': 'tener', 'pos': 'VERB', 'dep': 'obj', 'head': 'recompensa'}]\n",
      "[{'token': 'publicanos', 'lemma': 'publicano', 'pos': 'NOUN', 'dep': 'nsubj', 'head': 'hacen'}]\n",
      "[{'token': 'saludáis', 'lemma': 'saludar', 'pos': 'VERB', 'dep': 'conj', 'head': '47'}, {'token': 'hermanos', 'lemma': 'hermano', 'pos': 'NOUN', 'dep': 'amod', 'head': 'vuestros'}, {'token': 'hacéis', 'lemma': 'hacer', 'pos': 'NOUN', 'dep': 'ROOT', 'head': 'hacéis'}]\n",
      "[{'token': 'gentiles', 'lemma': 'gentil', 'pos': 'NOUN', 'dep': 'nsubj', 'head': 'hacen'}]\n",
      "[{'token': 'perfectos', 'lemma': 'perfecto', 'pos': 'ADJ', 'dep': 'nsubj', 'head': 'perfecto'}, {'token': 'padre', 'lemma': 'padre', 'pos': 'NOUN', 'dep': 'nmod', 'head': 'perfectos'}, {'token': 'cielos', 'lemma': 'cielo', 'pos': 'NOUN', 'dep': 'obl', 'head': 'está'}, {'token': 'perfecto', 'lemma': 'perfecto', 'pos': 'ADJ', 'dep': 'acl', 'head': 'sed'}]\n",
      "[{'token': 'jesús', 'lemma': 'jesús', 'pos': 'ADJ', 'dep': 'ROOT', 'head': 'jesús'}, {'token': 'limosna', 'lemma': 'limosna', 'pos': 'NOUN', 'dep': 'conj', 'head': 'jesús'}]\n",
      "[{'token': 'guardaos', 'lemma': 'guardaos', 'pos': 'NOUN', 'dep': 'ROOT', 'head': 'guardaos'}, {'token': 'justicia', 'lemma': 'justicia', 'pos': 'NOUN', 'dep': 'obj', 'head': 'hacer'}, {'token': 'hombres', 'lemma': 'hombre', 'pos': 'NOUN', 'dep': 'obl', 'head': 'delante'}, {'token': 'vistos', 'lemma': 'ver', 'pos': 'NOUN', 'dep': 'acl', 'head': 'guardaos'}, {'token': 'tendréis', 'lemma': 'tener', 'pos': 'VERB', 'dep': 'acl', 'head': 'guardaos'}, {'token': 'recompensa', 'lemma': 'recompensar', 'pos': 'NOUN', 'dep': 'obj', 'head': 'tendréis'}, {'token': 'padre', 'lemma': 'padre', 'pos': 'NOUN', 'dep': 'nmod', 'head': 'recompensa'}, {'token': 'cielos', 'lemma': 'cielo', 'pos': 'NOUN', 'dep': 'obl', 'head': 'está'}]\n",
      "[{'token': 'limosna', 'lemma': 'limosna', 'pos': 'NOUN', 'dep': 'advcl', 'head': 'hagas'}, {'token': 'hagas', 'lemma': 'hacer', 'pos': 'NOUN', 'dep': 'advcl', 'head': 'digo'}, {'token': 'tocar', 'lemma': 'tocar', 'pos': 'VERB', 'dep': 'csubj', 'head': 'hagas'}, {'token': 'trompeta', 'lemma': 'trompeta', 'pos': 'VERB', 'dep': 'obj', 'head': 'tocar'}, {'token': 'hipócritas', 'lemma': 'hipócrita', 'pos': 'NOUN', 'dep': 'nsubj', 'head': 'hacen'}, {'token': 'sinagogas', 'lemma': 'sinagoga', 'pos': 'NOUN', 'dep': 'obl', 'head': 'hacen'}, {'token': 'calles', 'lemma': 'calle', 'pos': 'NOUN', 'dep': 'conj', 'head': 'sinagogas'}, {'token': 'alabados', 'lemma': 'alabar', 'pos': 'VERB', 'dep': 'advcl', 'head': 'hagas'}, {'token': 'hombres', 'lemma': 'hombre', 'pos': 'NOUN', 'dep': 'obj', 'head': 'alabados'}, {'token': 'digo', 'lemma': 'decir', 'pos': 'VERB', 'dep': 'ROOT', 'head': 'digo'}, {'token': 'recompensa', 'lemma': 'recompensar', 'pos': 'NOUN', 'dep': 'obj', 'head': 'tienen'}]\n",
      "[{'token': 'limosna', 'lemma': 'limosna', 'pos': 'NOUN', 'dep': 'ROOT', 'head': 'limosna'}, {'token': 'sepa', 'lemma': 'saber', 'pos': 'PROPN', 'dep': 'advcl', 'head': 'limosna'}, {'token': 'izquierda', 'lemma': 'izquierdo', 'pos': 'NOUN', 'dep': 'obj', 'head': 'sepa'}, {'token': 'derecha', 'lemma': 'derecho', 'pos': 'NOUN', 'dep': 'obj', 'head': 'hace'}, {'token': 'limosna', 'lemma': 'limosna', 'pos': 'NOUN', 'dep': 'conj', 'head': 'limosna'}, {'token': 'secreto', 'lemma': 'secretar', 'pos': 'NOUN', 'dep': 'obl', 'head': 'limosna'}, {'token': 'padre', 'lemma': 'padre', 'pos': 'NOUN', 'dep': 'nsubj', 'head': 'recompensará'}, {'token': 'secreto', 'lemma': 'secretar', 'pos': 'VERB', 'dep': 'obl', 'head': 've'}, {'token': 'recompensará', 'lemma': 'recompensar', 'pos': 'VERB', 'dep': 'conj', 'head': 'limosna'}, {'token': 'público', 'lemma': 'público', 'pos': 'NOUN', 'dep': 'fixed', 'head': 'en'}]\n",
      "[{'token': 'jesús', 'lemma': 'jesús', 'pos': 'ADJ', 'dep': 'ROOT', 'head': 'jesús'}, {'token': 'oración', 'lemma': 'oración', 'pos': 'NOUN', 'dep': 'conj', 'head': 'jesús'}]\n",
      "[]\n",
      "[{'token': '11.2', 'lemma': '11.2', 'pos': 'NUM', 'dep': 'ROOT', 'head': '11.2'}]\n",
      "[{'token': 'ores', 'lemma': 'orar', 'pos': 'NOUN', 'dep': 'conj', 'head': '5'}, {'token': 'seas', 'lemma': 'ser', 'pos': 'AUX', 'dep': 'conj', 'head': '5'}, {'token': 'hipócritas', 'lemma': 'hipócrita', 'pos': 'NOUN', 'dep': 'nmod', 'head': 'seas'}, {'token': 'aman', 'lemma': 'amar', 'pos': 'VERB', 'dep': 'advcl', 'head': '5'}, {'token': 'orar', 'lemma': 'orar', 'pos': 'VERB', 'dep': 'xcomp', 'head': 'aman'}, {'token': 'sinagogas', 'lemma': 'sinagoga', 'pos': 'NOUN', 'dep': 'obl', 'head': 'orar'}, {'token': 'esquinas', 'lemma': 'esquinar', 'pos': 'NOUN', 'dep': 'conj', 'head': 'sinagogas'}, {'token': 'calles', 'lemma': 'calle', 'pos': 'NOUN', 'dep': 'nmod', 'head': 'esquinas'}, {'token': 'vistos', 'lemma': 'ver', 'pos': 'NOUN', 'dep': 'advcl', 'head': 'aman'}, {'token': 'hombres', 'lemma': 'hombre', 'pos': 'NOUN', 'dep': 'obj', 'head': 'vistos'}, {'token': 'digo', 'lemma': 'decir', 'pos': 'VERB', 'dep': 'advcl', 'head': 'aman'}, {'token': 'recompensa', 'lemma': 'recompensar', 'pos': 'NOUN', 'dep': 'obj', 'head': 'tienen'}]\n",
      "[{'token': 'ores', 'lemma': 'orar', 'pos': 'NOUN', 'dep': 'nmod', 'head': 'tú'}, {'token': 'entra', 'lemma': 'entrar', 'pos': 'VERB', 'dep': 'ROOT', 'head': 'entra'}, {'token': 'aposento', 'lemma': 'aposentar', 'pos': 'NOUN', 'dep': 'obl', 'head': 'entra'}, {'token': 'cerrada', 'lemma': 'cerrar', 'pos': 'ADJ', 'dep': 'conj', 'head': 'entra'}, {'token': 'puerta', 'lemma': 'puerta', 'pos': 'NOUN', 'dep': 'obj', 'head': 'cerrada'}, {'token': 'padre', 'lemma': 'padre', 'pos': 'NOUN', 'dep': 'iobj', 'head': 'ora'}, {'token': 'secreto', 'lemma': 'secretar', 'pos': 'NOUN', 'dep': 'acl', 'head': 'padre'}, {'token': 'padre', 'lemma': 'padre', 'pos': 'NOUN', 'dep': 'nsubj', 'head': 'recompensará'}, {'token': 'secreto', 'lemma': 'secretar', 'pos': 'VERB', 'dep': 'obl', 'head': 've'}, {'token': 'recompensará', 'lemma': 'recompensar', 'pos': 'VERB', 'dep': 'conj', 'head': 'entra'}, {'token': 'público', 'lemma': 'público', 'pos': 'NOUN', 'dep': 'fixed', 'head': 'en'}]\n",
      "[{'token': 'orando', 'lemma': 'orar', 'pos': 'VERB', 'dep': 'conj', 'head': '7'}, {'token': 'uséis', 'lemma': 'usar', 'pos': 'VERB', 'dep': 'advcl', 'head': '7'}, {'token': 'vanas', 'lemma': 'vano', 'pos': 'ADJ', 'dep': 'obj', 'head': 'uséis'}, {'token': 'repeticiones', 'lemma': 'repetición', 'pos': 'NOUN', 'dep': 'amod', 'head': 'vanas'}, {'token': 'gentiles', 'lemma': 'gentil', 'pos': 'NOUN', 'dep': 'obl', 'head': 'uséis'}, {'token': 'piensan', 'lemma': 'pensar', 'pos': 'VERB', 'dep': 'acl', 'head': 'gentiles'}, {'token': 'palabrería', 'lemma': 'palabrería', 'pos': 'NOUN', 'dep': 'obl', 'head': 'oídos'}, {'token': 'oídos', 'lemma': 'oír', 'pos': 'NOUN', 'dep': 'ccomp', 'head': 'piensan'}]\n",
      "[{'token': 'hagáis', 'lemma': 'hacer', 'pos': 'VERB', 'dep': 'ROOT', 'head': 'hagáis'}, {'token': 'semejantes', 'lemma': 'semejante', 'pos': 'ADJ', 'dep': 'advmod', 'head': 'pues'}, {'token': 'padre', 'lemma': 'padre', 'pos': 'NOUN', 'dep': 'nsubj', 'head': 'sabe'}, {'token': 'tenéis', 'lemma': 'tener', 'pos': 'ADJ', 'dep': 'det', 'head': 'necesidad'}, {'token': 'necesidad', 'lemma': 'necesidad', 'pos': 'NOUN', 'dep': 'obj', 'head': 'sabe'}, {'token': 'pidáis', 'lemma': 'pedir', 'pos': 'VERB', 'dep': 'advcl', 'head': 'antes'}]\n",
      "[{'token': 'oraréis', 'lemma': 'orar', 'pos': 'VERB', 'dep': 'ROOT', 'head': 'oraréis'}, {'token': 'padre', 'lemma': 'padre', 'pos': 'NOUN', 'dep': 'obj', 'head': 'oraréis'}, {'token': 'estás', 'lemma': 'estar', 'pos': 'VERB', 'dep': 'acl', 'head': 'padre'}, {'token': 'cielos', 'lemma': 'cielo', 'pos': 'NOUN', 'dep': 'obl', 'head': 'estás'}, {'token': 'santificado', 'lemma': 'santificar', 'pos': 'ADJ', 'dep': 'amod', 'head': 'padre'}, {'token': 'nombre', 'lemma': 'nombrar', 'pos': 'NOUN', 'dep': 'conj', 'head': 'padre'}]\n",
      "[{'token': 'venga', 'lemma': 'venir', 'pos': 'VERB', 'dep': 'ROOT', 'head': 'venga'}, {'token': 'reino', 'lemma': 'reinar', 'pos': 'NOUN', 'dep': 'obj', 'head': 'venga'}]\n",
      "[{'token': 'hágase', 'lemma': 'hágase', 'pos': 'VERB', 'dep': 'ROOT', 'head': 'hágase'}, {'token': 'voluntad', 'lemma': 'voluntad', 'pos': 'NOUN', 'dep': 'obj', 'head': 'hágase'}, {'token': 'cielo', 'lemma': 'cielo', 'pos': 'NOUN', 'dep': 'obl', 'head': 'hágase'}, {'token': 'tierra', 'lemma': 'tierra', 'pos': 'NOUN', 'dep': 'obl', 'head': 'hágase'}]\n",
      "[{'token': 'dánoslo', 'lemma': 'dánoslo', 'pos': 'VERB', 'dep': 'appos', 'head': 'pan'}]\n",
      "[{'token': 'perdónanos', 'lemma': 'perdónanos', 'pos': 'NOUN', 'dep': 'conj', 'head': '12'}, {'token': 'deudas', 'lemma': 'deuda', 'pos': 'NOUN', 'dep': 'conj', 'head': '12'}, {'token': 'perdonamos', 'lemma': 'perdonar', 'pos': 'VERB', 'dep': 'advcl', 'head': '12'}, {'token': 'deudores', 'lemma': 'deudor', 'pos': 'NOUN', 'dep': 'obj', 'head': 'perdonamos'}]\n",
      "[{'token': 'metas', 'lemma': 'meter', 'pos': 'NOUN', 'dep': 'conj', 'head': '13'}, {'token': 'tentación', 'lemma': 'tentación', 'pos': 'NOUN', 'dep': 'nmod', 'head': 'metas'}, {'token': 'líbranos', 'lemma': 'líbranos', 'pos': 'ADJ', 'dep': 'appos', 'head': '13'}, {'token': 'reino', 'lemma': 'reinar', 'pos': 'NOUN', 'dep': 'advcl', 'head': '13'}, {'token': 'gloria', 'lemma': 'gloria', 'pos': 'NOUN', 'dep': 'conj', 'head': 'reino'}, {'token': 'siglos', 'lemma': 'siglo', 'pos': 'NOUN', 'dep': 'nmod', 'head': 'gloria'}]\n",
      "[{'token': 'amén', 'lemma': 'amén', 'pos': 'ADV', 'dep': 'ROOT', 'head': 'amén'}]\n",
      "[{'token': 'perdonáis', 'lemma': 'perdonar', 'pos': 'AUX', 'dep': 'advcl', 'head': 'perdonará'}, {'token': 'hombres', 'lemma': 'hombre', 'pos': 'NOUN', 'dep': 'obj', 'head': 'perdonáis'}, {'token': 'ofensas', 'lemma': 'ofensa', 'pos': 'NOUN', 'dep': 'obj', 'head': 'perdonáis'}, {'token': 'perdonará', 'lemma': 'perdonar', 'pos': 'VERB', 'dep': 'advcl', 'head': 'perdonáis'}, {'token': 'padre', 'lemma': 'padre', 'pos': 'NOUN', 'dep': 'appos', 'head': 'vosotros'}, {'token': 'celestial', 'lemma': 'celestial', 'pos': 'ADJ', 'dep': 'amod', 'head': 'padre'}, {'token': 'perdonáis', 'lemma': 'perdonar', 'pos': 'AUX', 'dep': 'ROOT', 'head': 'perdonáis'}, {'token': 'hombres', 'lemma': 'hombre', 'pos': 'NOUN', 'dep': 'obj', 'head': 'perdonáis'}, {'token': 'ofensas', 'lemma': 'ofensa', 'pos': 'NOUN', 'dep': 'obj', 'head': 'perdonáis'}, {'token': 'padre', 'lemma': 'padre', 'pos': 'NOUN', 'dep': 'nsubj', 'head': 'perdonará'}, {'token': 'perdonará', 'lemma': 'perdonar', 'pos': 'VERB', 'dep': 'advcl', 'head': 'perdonáis'}, {'token': 'ofensas', 'lemma': 'ofensa', 'pos': 'ADJ', 'dep': 'obj', 'head': 'perdonará'}]\n",
      "[{'token': 'jesús', 'lemma': 'jesús', 'pos': 'ADJ', 'dep': 'ROOT', 'head': 'jesús'}, {'token': 'ayuno', 'lemma': 'ayunar', 'pos': 'NOUN', 'dep': 'conj', 'head': 'jesús'}]\n",
      "[{'token': 'ayunéis', 'lemma': 'ayunar', 'pos': 'VERB', 'dep': 'advcl', 'head': 'seáis'}, {'token': 'seáis', 'lemma': 'ser', 'pos': 'VERB', 'dep': 'ROOT', 'head': 'seáis'}, {'token': 'austeros', 'lemma': 'austero', 'pos': 'NOUN', 'dep': 'obj', 'head': 'seáis'}, {'token': 'hipócritas', 'lemma': 'hipócrita', 'pos': 'NOUN', 'dep': 'obl', 'head': 'seáis'}, {'token': 'demudan', 'lemma': 'demudar', 'pos': 'VERB', 'dep': 'advcl', 'head': 'seáis'}, {'token': 'rostros', 'lemma': 'rostro', 'pos': 'NOUN', 'dep': 'obj', 'head': 'demudan'}, {'token': 'mostrar', 'lemma': 'mostrar', 'pos': 'VERB', 'dep': 'advcl', 'head': 'demudan'}, {'token': 'hombres', 'lemma': 'hombre', 'pos': 'NOUN', 'dep': 'obj', 'head': 'mostrar'}, {'token': 'ayunan', 'lemma': 'ayunar', 'pos': 'VERB', 'dep': 'acl', 'head': 'hombres'}, {'token': 'digo', 'lemma': 'decir', 'pos': 'VERB', 'dep': 'advcl', 'head': 'demudan'}, {'token': 'recompensa', 'lemma': 'recompensar', 'pos': 'NOUN', 'dep': 'obj', 'head': 'tienen'}]\n",
      "[{'token': 'ayunes', 'lemma': 'ayunar', 'pos': 'NOUN', 'dep': 'nmod', 'head': 'tú'}, {'token': 'unge', 'lemma': 'ungir', 'pos': 'ADJ', 'dep': 'ROOT', 'head': 'unge'}, {'token': 'cabeza', 'lemma': 'cabeza', 'pos': 'NOUN', 'dep': 'obj', 'head': 'unge'}, {'token': 'lava', 'lemma': 'lavar', 'pos': 'ADJ', 'dep': 'conj', 'head': 'unge'}, {'token': 'rostro', 'lemma': 'rostro', 'pos': 'NOUN', 'dep': 'obj', 'head': 'lava'}, {'token': 'mostrar', 'lemma': 'mostrar', 'pos': 'VERB', 'dep': 'acl', 'head': '18'}, {'token': 'hombres', 'lemma': 'hombre', 'pos': 'NOUN', 'dep': 'obj', 'head': 'mostrar'}, {'token': 'ayunas', 'lemma': 'ayuno', 'pos': 'ADJ', 'dep': 'acl', 'head': 'hombres'}, {'token': 'padre', 'lemma': 'padre', 'pos': 'NOUN', 'dep': 'conj', 'head': 'unge'}, {'token': 'secreto', 'lemma': 'secretar', 'pos': 'NOUN', 'dep': 'acl', 'head': 'padre'}, {'token': 'padre', 'lemma': 'padre', 'pos': 'NOUN', 'dep': 'nsubj', 'head': 'recompensará'}, {'token': 'secreto', 'lemma': 'secretar', 'pos': 'VERB', 'dep': 'obl', 'head': 've'}, {'token': 'recompensará', 'lemma': 'recompensar', 'pos': 'VERB', 'dep': 'conj', 'head': 'unge'}, {'token': 'público', 'lemma': 'público', 'pos': 'NOUN', 'dep': 'fixed', 'head': 'en'}]\n"
     ]
    }
   ],
   "source": [
    "def conll_iterator(file):\n",
    "    \"\"\" contextualiza datos recientemente creados\"\"\"\n",
    "    context = []\n",
    "    with open(file, \"r\", encoding=\"utf-8\") as fh:\n",
    "        for line in fh:\n",
    "            if line.strip() == \"\":\n",
    "                yield context\n",
    "                context = []\n",
    "            elif line.strip() == (\"=\" * 80):\n",
    "                continue\n",
    "            else:\n",
    "                (token, lemma, pos, dep, head) = line.strip().split()\n",
    "                context.append({\n",
    "                    \"token\": token,\n",
    "                    \"lemma\": lemma,\n",
    "                    \"pos\": pos,\n",
    "                    \"dep\": dep,\n",
    "                    \"head\": head\n",
    "                })\n",
    "                \n",
    "for word in conll_iterator(\"santabiblia.conll\"):\n",
    "    words = word\n",
    "    print(word)\n"
   ]
  },
  {
   "cell_type": "code",
   "execution_count": 33,
   "metadata": {},
   "outputs": [
    {
     "data": {
      "text/html": [
       "<div>\n",
       "<style scoped>\n",
       "    .dataframe tbody tr th:only-of-type {\n",
       "        vertical-align: middle;\n",
       "    }\n",
       "\n",
       "    .dataframe tbody tr th {\n",
       "        vertical-align: top;\n",
       "    }\n",
       "\n",
       "    .dataframe thead th {\n",
       "        text-align: right;\n",
       "    }\n",
       "</style>\n",
       "<table border=\"1\" class=\"dataframe\">\n",
       "  <thead>\n",
       "    <tr style=\"text-align: right;\">\n",
       "      <th></th>\n",
       "      <th>dep</th>\n",
       "      <th>head</th>\n",
       "      <th>lemma</th>\n",
       "      <th>pos</th>\n",
       "      <th>token</th>\n",
       "    </tr>\n",
       "  </thead>\n",
       "  <tbody>\n",
       "    <tr>\n",
       "      <th>0</th>\n",
       "      <td>nmod</td>\n",
       "      <td>tú</td>\n",
       "      <td>ayunar</td>\n",
       "      <td>NOUN</td>\n",
       "      <td>ayunes</td>\n",
       "    </tr>\n",
       "    <tr>\n",
       "      <th>1</th>\n",
       "      <td>ROOT</td>\n",
       "      <td>unge</td>\n",
       "      <td>ungir</td>\n",
       "      <td>ADJ</td>\n",
       "      <td>unge</td>\n",
       "    </tr>\n",
       "    <tr>\n",
       "      <th>2</th>\n",
       "      <td>obj</td>\n",
       "      <td>unge</td>\n",
       "      <td>cabeza</td>\n",
       "      <td>NOUN</td>\n",
       "      <td>cabeza</td>\n",
       "    </tr>\n",
       "    <tr>\n",
       "      <th>3</th>\n",
       "      <td>conj</td>\n",
       "      <td>unge</td>\n",
       "      <td>lavar</td>\n",
       "      <td>ADJ</td>\n",
       "      <td>lava</td>\n",
       "    </tr>\n",
       "    <tr>\n",
       "      <th>4</th>\n",
       "      <td>obj</td>\n",
       "      <td>lava</td>\n",
       "      <td>rostro</td>\n",
       "      <td>NOUN</td>\n",
       "      <td>rostro</td>\n",
       "    </tr>\n",
       "    <tr>\n",
       "      <th>5</th>\n",
       "      <td>acl</td>\n",
       "      <td>18</td>\n",
       "      <td>mostrar</td>\n",
       "      <td>VERB</td>\n",
       "      <td>mostrar</td>\n",
       "    </tr>\n",
       "    <tr>\n",
       "      <th>6</th>\n",
       "      <td>obj</td>\n",
       "      <td>mostrar</td>\n",
       "      <td>hombre</td>\n",
       "      <td>NOUN</td>\n",
       "      <td>hombres</td>\n",
       "    </tr>\n",
       "    <tr>\n",
       "      <th>7</th>\n",
       "      <td>acl</td>\n",
       "      <td>hombres</td>\n",
       "      <td>ayuno</td>\n",
       "      <td>ADJ</td>\n",
       "      <td>ayunas</td>\n",
       "    </tr>\n",
       "    <tr>\n",
       "      <th>8</th>\n",
       "      <td>conj</td>\n",
       "      <td>unge</td>\n",
       "      <td>padre</td>\n",
       "      <td>NOUN</td>\n",
       "      <td>padre</td>\n",
       "    </tr>\n",
       "    <tr>\n",
       "      <th>9</th>\n",
       "      <td>acl</td>\n",
       "      <td>padre</td>\n",
       "      <td>secretar</td>\n",
       "      <td>NOUN</td>\n",
       "      <td>secreto</td>\n",
       "    </tr>\n",
       "    <tr>\n",
       "      <th>10</th>\n",
       "      <td>nsubj</td>\n",
       "      <td>recompensará</td>\n",
       "      <td>padre</td>\n",
       "      <td>NOUN</td>\n",
       "      <td>padre</td>\n",
       "    </tr>\n",
       "    <tr>\n",
       "      <th>11</th>\n",
       "      <td>obl</td>\n",
       "      <td>ve</td>\n",
       "      <td>secretar</td>\n",
       "      <td>VERB</td>\n",
       "      <td>secreto</td>\n",
       "    </tr>\n",
       "    <tr>\n",
       "      <th>12</th>\n",
       "      <td>conj</td>\n",
       "      <td>unge</td>\n",
       "      <td>recompensar</td>\n",
       "      <td>VERB</td>\n",
       "      <td>recompensará</td>\n",
       "    </tr>\n",
       "    <tr>\n",
       "      <th>13</th>\n",
       "      <td>fixed</td>\n",
       "      <td>en</td>\n",
       "      <td>público</td>\n",
       "      <td>NOUN</td>\n",
       "      <td>público</td>\n",
       "    </tr>\n",
       "  </tbody>\n",
       "</table>\n",
       "</div>"
      ],
      "text/plain": [
       "      dep          head        lemma   pos         token\n",
       "0    nmod            tú       ayunar  NOUN        ayunes\n",
       "1    ROOT          unge        ungir   ADJ          unge\n",
       "2     obj          unge       cabeza  NOUN        cabeza\n",
       "3    conj          unge        lavar   ADJ          lava\n",
       "4     obj          lava       rostro  NOUN        rostro\n",
       "5     acl            18      mostrar  VERB       mostrar\n",
       "6     obj       mostrar       hombre  NOUN       hombres\n",
       "7     acl       hombres        ayuno   ADJ        ayunas\n",
       "8    conj          unge        padre  NOUN         padre\n",
       "9     acl         padre     secretar  NOUN       secreto\n",
       "10  nsubj  recompensará        padre  NOUN         padre\n",
       "11    obl            ve     secretar  VERB       secreto\n",
       "12   conj          unge  recompensar  VERB  recompensará\n",
       "13  fixed            en      público  NOUN       público"
      ]
     },
     "execution_count": 33,
     "metadata": {},
     "output_type": "execute_result"
    }
   ],
   "source": [
    "pd.DataFrame(word)"
   ]
  },
  {
   "cell_type": "markdown",
   "metadata": {},
   "source": [
    "### Creamos diccionario de caracteristiscas."
   ]
  },
  {
   "cell_type": "code",
   "execution_count": 34,
   "metadata": {},
   "outputs": [],
   "source": [
    "words_features = {}\n",
    "\n",
    "for context in conll_iterator(\"./santabiblia.conll\"):\n",
    "    for idx, word in enumerate(context):\n",
    "        lemma = word[\"lemma\"]\n",
    "        if lemma in words_features:\n",
    "              word_features = words_features[lemma]\n",
    "        else:\n",
    "              word_features = {}\n",
    "\n",
    "        features = [\n",
    "            \"token__{}\".format(word[\"token\"]),\n",
    "            \"pos__{}\".format(word[\"pos\"]),\n",
    "            \"dep__{}__{}\".format(word[\"dep\"], word[\"head\"])\n",
    "        ]\n",
    "\n",
    "        for feature in features:\n",
    "            if feature not in word_features:\n",
    "                word_features[feature] = 0\n",
    "            word_features[feature] += 1\n",
    "\n",
    "        if idx > 0:\n",
    "            previous_word = context[idx-1]\n",
    "            previous_word_lemma = context[idx-1][\"lemma\"]\n",
    "            features = [\n",
    "            \"previous_token__{}\".format(previous_word[\"token\"]),\n",
    "            \"previous_pos__{}\".format(previous_word[\"pos\"]),\n",
    "            \"previous_lemma__{}\".format(previous_word_lemma)\n",
    "            ]\n",
    "\n",
    "            for feature in features:\n",
    "                if feature not in word_features:\n",
    "                      word_features[feature] = 0\n",
    "                word_features[feature] += 1\n",
    "\n",
    "        if idx < len(context) - 1:\n",
    "            next_word = context[idx+1]\n",
    "            next_word_lemma = context[idx-1][\"lemma\"]\n",
    "            features = [\n",
    "            \"next_token__{}\".format(next_word[\"token\"]),\n",
    "            \"next_pos__{}\".format(next_word[\"pos\"]),\n",
    "            \"next_lemma__{}\".format(next_word_lemma)\n",
    "            ]\n",
    "\n",
    "        for feature in features:\n",
    "            if feature not in word_features:\n",
    "                word_features[feature] = 0\n",
    "            word_features[feature] += 1\n",
    "\n",
    "        words_features[lemma] = word_features"
   ]
  },
  {
   "cell_type": "code",
   "execution_count": 35,
   "metadata": {},
   "outputs": [
    {
     "name": "stdout",
     "output_type": "stream",
     "text": [
      "{'1.12': 0, '1.14': 1, '1.19': 2, '11.2': 3, '12.57': 4, '3.21': 5, '3.23': 6, '4.14': 7, '6.17': 8, '6.20': 9, '6.27': 10, 'abajar': 11, 'abiud': 12, 'aborrecer': 13, 'abraham': 14, 'abrir': 15, 'abrogar': 16, 'abías': 17, 'acaz': 18, 'acercar': 19, 'acontecer': 20, 'acordar': 21, 'adorar': 22, 'adorarle': 23, 'adulterar': 24, 'adulterio': 25, 'adversario': 26, 'afligir': 27, 'aguar': 28, 'alabar': 29, 'alcanzar': 30, 'alegraos': 31, 'alguacil': 32, 'allá': 33, 'almud': 34, 'alrededor': 35, 'altar': 36, 'alto': 37, 'alumbrar': 38, 'amar': 39, 'aminadab': 40, 'amor': 41, 'amén': 42, 'amón': 43, 'andar': 44, 'andrés': 45, 'antiguo': 46, 'apacentar': 47, 'apagar': 48, 'aparecer': 49, 'aparición': 50, 'aposentar': 51, 'aquim': 52, 'aram': 53, 'arquelao': 54, 'arrepentimiento': 55, 'arrepentíos': 56, 'asentar': 57, 'austero': 58, 'aventador': 59, 'averiguar': 60, 'avisar': 61, 'ayunar': 62, 'ayuno': 63, 'azor': 64, 'año': 65, 'babilonio': 66, 'barca': 67, 'bautismo': 68, 'bautista': 69, 'bautizar': 70, 'belén': 71, 'bendecir': 72, 'biblia': 73, 'bienaventurado': 74, 'bienaventuranza': 75, 'blanco': 76, 'boca': 77, 'booz': 78, 'burlar': 79, 'buscar': 80, 'cabellar': 81, 'cabeza': 82, 'caer': 83, 'calle': 84, 'calzar': 85, 'camello': 86, 'caminar': 87, 'candelero': 88, 'capar': 89, 'capernaum': 90, 'cargar': 91, 'carta': 92, 'casar': 93, 'casiodoro': 94, 'catorce': 95, 'causar': 96, 'celestial': 97, 'cerrar': 98, 'cielo': 99, 'cintar': 100, 'cipriano': 101, 'ciudad': 102, 'clamar': 103, 'clase': 104, 'codiciarla': 105, 'comenzar': 106, 'comer': 107, 'cometer': 108, 'complacencia': 109, 'concebir': 110, 'conciliar': 111, 'confesar': 112, 'conformar': 113, 'conocer': 114, 'consolación': 115, 'consolar': 116, 'convenir': 117, 'convertir': 118, 'convocar': 119, 'corazón': 120, 'cortar': 121, 'cristo': 122, 'cuadrante': 123, 'cualquiera': 124, 'cuarenta': 125, 'cuero': 126, 'cuerpo': 127, 'culpable': 128, 'cumplir': 129, 'cuyo': 130, 'cárcel': 131, 'córtala': 132, 'dale': 133, 'dar': 134, 'david': 135, 'decir': 136, 'decápolis': 137, 'dejar': 138, 'dejarla': 139, 'dele': 140, 'demudar': 141, 'dentar': 142, 'deportación': 143, 'derecho': 144, 'descender': 145, 'desierto': 146, 'despertar': 147, 'desposar': 148, 'desvanecer': 149, 'detener': 150, 'deuda': 151, 'deudor': 152, 'diablo': 153, 'difundir': 154, 'dignar': 155, 'digno': 156, 'diligenciar': 157, 'diligentemente': 158, 'dios': 159, 'discípulo': 160, 'diverso': 161, 'divorciar': 162, 'dolencia': 163, 'dánoslo': 164, 'déjale': 165, 'echar': 166, 'egipto': 167, 'eleazar': 168, 'eliaquim': 169, 'eliud': 170, 'emanuel': 171, 'encender': 172, 'endemoniar': 173, 'enderezar': 174, 'enemigo': 175, 'enfermedad': 176, 'engendrar': 177, 'enojar': 178, 'enseñar': 179, 'entrar': 180, 'entregar': 181, 'enviándolos': 182, 'esconder': 183, 'escribir': 184, 'espíritu': 185, 'esquinar': 186, 'esrom': 187, 'estar': 188, 'estrado': 189, 'estrellar': 190, 'evangelio': 191, 'exponer': 192, 'ezequías': 193, 'fama': 194, 'fares': 195, 'fariseo': 196, 'fatuo': 197, 'fornicación': 198, 'fruto': 199, 'fuego': 200, 'galardón': 201, 'galileo': 202, 'gemir': 203, 'genealogía': 204, 'generación': 205, 'gente': 206, 'gentil': 207, 'gloria': 208, 'glorificar': 209, 'gozaos': 210, 'gozar': 211, 'gracia': 212, 'grande': 213, 'granero': 214, 'guardaos': 215, 'guiador': 216, 'haber': 217, 'habitar': 218, 'hablar': 219, 'hacer': 220, 'hachar': 221, 'hacédmelo': 222, 'hallar': 223, 'hambre': 224, 'heredar': 225, 'herir': 226, 'hermanar': 227, 'hermano': 228, 'herodes': 229, 'hijo': 230, 'hipócrita': 231, 'hollar': 232, 'hombre': 233, 'huir': 234, 'hágase': 235, 'incensar': 236, 'incluir': 237, 'indagar': 238, 'infamarla': 239, 'infierno': 240, 'injusto': 241, 'inquirir': 242, 'instante': 243, 'isaac': 244, 'isaí': 245, 'isaías': 246, 'israel': 247, 'izquierdo': 248, 'jacob': 249, 'jacobo': 250, 'jeconías': 251, 'jeremías': 252, 'jerusalén': 253, 'jesucristo': 254, 'jesús': 255, 'joram': 256, 'jordán': 257, 'josafat': 258, 'josé': 259, 'josías': 260, 'jota': 261, 'jotam': 262, 'juan': 263, 'judea': 264, 'judá': 265, 'judío': 266, 'juez': 267, 'juicio': 268, 'juntar': 269, 'juramento': 270, 'jurar': 271, 'justar': 272, 'justicia': 273, 'justo': 274, 'lamentación': 275, 'langosta': 276, 'lavar': 277, 'levantar': 278, 'levántate': 279, 'librar': 280, 'libro': 281, 'limosna': 282, 'limpiar': 283, 'llamar': 284, 'llegar': 285, 'llevar': 286, 'llorar': 287, 'llover': 288, 'lomo': 289, 'lunático': 290, 'líbranos': 291, 'madre': 292, 'mago': 293, 'maldecir': 294, 'malo': 295, 'manasés': 296, 'mandamiento': 297, 'mandar': 298, 'manir': 299, 'mano': 300, 'manso': 301, 'maridar': 302, 'maría': 303, 'marítimo': 304, 'matanza': 305, 'matar': 306, 'matarlo': 307, 'matear': 308, 'matán': 309, 'mejilla': 310, 'menor': 311, 'mentir': 312, 'meter': 313, 'miel': 314, 'miembro': 315, 'milla': 316, 'ministerio': 317, 'mirar': 318, 'mirra': 319, 'misericordia': 320, 'misericordioso': 321, 'montar': 322, 'morir': 323, 'mostrar': 324, 'muerte': 325, 'mujer': 326, 'multitud': 327, 'mundo': 328, 'naasón': 329, 'nacer': 330, 'nacimiento': 331, 'nazareno': 332, 'nazaret': 333, 'necesidad': 334, 'necesitar': 335, 'necio': 336, 'neftalí': 337, 'negro': 338, 'niño': 339, 'noche': 340, 'nombrar': 341, 'obed': 342, 'obligar': 343, 'obrar': 344, 'ocasión': 345, 'ofensa': 346, 'ofrecer': 347, 'ofrendar': 348, 'oponer': 349, 'oración': 350, 'orar': 351, 'orientar': 352, 'oír': 353, 'pacificador': 354, 'padecer': 355, 'padre': 356, 'pagar': 357, 'paja': 358, 'palabra': 359, 'palabrería': 360, 'paloma': 361, 'paralítico': 362, 'partir': 363, 'pasar': 364, 'pecar': 365, 'pedir': 366, 'pedro': 367, 'pelar': 368, 'pensar': 369, 'pequeño': 370, 'perder': 371, 'perdonar': 372, 'perdónanos': 373, 'perecer': 374, 'perfecto': 375, 'perjurar': 376, 'permanecer': 377, 'persecución': 378, 'perseguir': 379, 'pescador': 380, 'pie': 381, 'piedra': 382, 'pináculo': 383, 'pleito': 384, 'poblar': 385, 'pobre': 386, 'poder': 387, 'poderoso': 388, 'poner': 389, 'ponerte': 390, 'ponte': 391, 'postrar': 392, 'postrándose': 393, 'predicación': 394, 'predicar': 395, 'preguntar': 396, 'preparar': 397, 'presentar': 398, 'presente': 399, 'preso': 400, 'prestar': 401, 'primogénito': 402, 'principal': 403, 'principiar': 404, 'proceder': 405, 'procurar': 406, 'profeta': 407, 'provincia': 408, 'príncipe': 409, 'prójimo': 410, 'publicano': 411, 'puerta': 412, 'público': 413, 'quebrantar': 414, 'quedar': 415, 'quemar': 416, 'querer': 417, 'quitarte': 418, 'rahab': 419, 'ramá': 420, 'raquel': 421, 'raíz': 422, 'recibir': 423, 'recoger': 424, 'recompensar': 425, 'reconcíliate': 426, 'recorrer': 427, 'redar': 428, 'región': 429, 'regocijar': 430, 'regresar': 431, 'rehusar': 432, 'reinar': 433, 'reino': 434, 'remendar': 435, 'repetición': 436, 'repudiar': 437, 'resistir': 438, 'resplandecer': 439, 'responder': 440, 'revelación': 441, 'revisar': 442, 'revisión': 443, 'roboam': 444, 'rostro': 445, 'saber': 446, 'sacerdote': 447, 'saciar': 448, 'sadoc': 449, 'saduceo': 450, 'salar': 451, 'salatiel': 452, 'salir': 453, 'salmón': 454, 'salomón': 455, 'saludar': 456, 'salvar': 457, 'sanar': 458, 'santificar': 459, 'santo': 460, 'satanás': 461, 'secretamente': 462, 'secretar': 463, 'seguir': 464, 'semejante': 465, 'sendos': 466, 'sentándose': 467, 'ser': 468, 'sermón': 469, 'servir': 470, 'señor': 471, 'siglo': 472, 'silvestre': 473, 'simón': 474, 'sinagoga': 475, 'sirio': 476, 'sombrar': 477, 'sostener': 478, 'soñar': 479, 'subir': 480, 'sueño': 481, 'sácalo': 482, 'tamar': 483, 'temer': 484, 'temor': 485, 'templar': 486, 'tener': 487, 'tentación': 488, 'tentador': 489, 'tentar': 490, 'tesoro': 491, 'testamento': 492, 'tierra': 493, 'tildar': 494, 'tiniebla': 495, 'tocar': 496, 'tomar': 497, 'tormento': 498, 'traducir': 499, 'traer': 500, 'trigo': 501, 'trompeta': 502, 'trono': 503, 'tropezar': 504, 'turbar': 505, 'túnica': 506, 'ultrajar': 507, 'ungir': 508, 'urías': 509, 'usar': 510, 'uzías': 511, 'valera': 512, 'vano': 513, 'venidero': 514, 'venir': 515, 'ver': 516, 'versión': 517, 'vestir': 518, 'vetar': 519, 'virgen': 520, 'visitar': 521, 'vituperar': 522, 'vivir': 523, 'voluntad': 524, 'volver': 525, 'vuélvele': 526, 'víbora': 527, 'zabulón': 528, 'zara': 529, 'zebedeo': 530, 'zorobabel': 531, 'ángel': 532, 'árbol': 533, 'échala': 534, 'échalo': 535, 'échate': 536}\n"
     ]
    }
   ],
   "source": [
    "word_to_index = {word: idx for idx, word in enumerate(sorted(words_features.keys()))}\n",
    "word_features_list = [words_features[w] for w in sorted(words_features.keys())]\n",
    "print(word_to_index)\n",
    "#word_features_list"
   ]
  },
  {
   "cell_type": "code",
   "execution_count": 36,
   "metadata": {},
   "outputs": [
    {
     "name": "stdout",
     "output_type": "stream",
     "text": [
      "[[2. 0. 0. ... 0. 0. 0.]\n",
      " [0. 0. 0. ... 0. 0. 0.]\n",
      " [0. 0. 0. ... 0. 0. 0.]\n",
      " ...\n",
      " [0. 0. 0. ... 1. 0. 0.]\n",
      " [0. 0. 0. ... 0. 1. 0.]\n",
      " [0. 0. 0. ... 0. 0. 1.]]\n"
     ]
    }
   ],
   "source": [
    "from sklearn.feature_extraction import DictVectorizer\n",
    "\n",
    "vectorizer = DictVectorizer()\n",
    "words_matrix = vectorizer.fit_transform(word_features_list)\n",
    "dense = DictVectorizer(sparse = False)\n",
    "word_matrix = dense.fit_transform(word_features_list)\n",
    "\n",
    "print(word_matrix)"
   ]
  },
  {
   "cell_type": "code",
   "execution_count": 37,
   "metadata": {},
   "outputs": [
    {
     "data": {
      "text/plain": [
       "['dep__ROOT__1.12',\n",
       " 'dep__ROOT__11.2',\n",
       " 'dep__ROOT__12.57',\n",
       " 'dep__ROOT__3.21',\n",
       " 'dep__ROOT__3.23',\n",
       " 'dep__ROOT__6.20',\n",
       " 'dep__ROOT__6.27',\n",
       " 'dep__ROOT__abraham',\n",
       " 'dep__ROOT__aconteció',\n",
       " 'dep__ROOT__alumbre']"
      ]
     },
     "execution_count": 37,
     "metadata": {},
     "output_type": "execute_result"
    }
   ],
   "source": [
    "vectorizer.feature_names_[:10]\n"
   ]
  },
  {
   "cell_type": "code",
   "execution_count": 38,
   "metadata": {},
   "outputs": [
    {
     "name": "stdout",
     "output_type": "stream",
     "text": [
      "(537, 3776)\n"
     ]
    }
   ],
   "source": [
    "print(word_matrix.shape)\n"
   ]
  },
  {
   "cell_type": "markdown",
   "metadata": {},
   "source": [
    "# Uso de sklearn "
   ]
  },
  {
   "cell_type": "code",
   "execution_count": 39,
   "metadata": {},
   "outputs": [],
   "source": [
    "from sklearn.cluster import KMeans\n",
    "\n",
    "model = KMeans(n_clusters=20)\n",
    "clusters = model.fit(word_matrix)\n"
   ]
  },
  {
   "cell_type": "code",
   "execution_count": 40,
   "metadata": {},
   "outputs": [],
   "source": [
    "matrix_normed = word_matrix / word_matrix.max(axis=0)\n",
    "variances = np.square(matrix_normed).mean(axis=0) - np.square(matrix_normed.mean(axis=0))\n",
    "threshold_v = 0.001\n",
    "red_matrix = np.delete(matrix_normed, np.where(variances < threshold_v), axis=1)"
   ]
  },
  {
   "cell_type": "code",
   "execution_count": 41,
   "metadata": {},
   "outputs": [
    {
     "data": {
      "text/plain": [
       "[('1.12', 7),\n",
       " ('1.14', 7),\n",
       " ('1.19', 7),\n",
       " ('11.2', 7),\n",
       " ('12.57', 7),\n",
       " ('3.21', 7),\n",
       " ('3.23', 7),\n",
       " ('4.14', 7),\n",
       " ('6.17', 7),\n",
       " ('6.20', 7)]"
      ]
     },
     "execution_count": 41,
     "metadata": {},
     "output_type": "execute_result"
    }
   ],
   "source": [
    "clusters_per_word = list(zip(sorted(word_to_index.keys()), clusters.labels_))\n",
    "clusters_per_word[:10]\n"
   ]
  },
  {
   "cell_type": "markdown",
   "metadata": {},
   "source": [
    "# Viendo Clustering "
   ]
  },
  {
   "cell_type": "code",
   "execution_count": 42,
   "metadata": {},
   "outputs": [
    {
     "data": {
      "text/plain": [
       "['hombre']"
      ]
     },
     "execution_count": 42,
     "metadata": {},
     "output_type": "execute_result"
    }
   ],
   "source": [
    "printer = [w for w, c in clusters_per_word if c == 11]\n",
    "printer\n"
   ]
  },
  {
   "cell_type": "code",
   "execution_count": 49,
   "metadata": {},
   "outputs": [
    {
     "data": {
      "text/plain": [
       "['profeta', 'reinar']"
      ]
     },
     "execution_count": 49,
     "metadata": {},
     "output_type": "execute_result"
    }
   ],
   "source": [
    "printer = [w for w, c in clusters_per_word if c == 2]\n",
    "printer\n"
   ]
  },
  {
   "cell_type": "code",
   "execution_count": 43,
   "metadata": {},
   "outputs": [
    {
     "data": {
      "text/plain": [
       "['abraham',\n",
       " 'abrir',\n",
       " 'acercar',\n",
       " 'adorar',\n",
       " 'adulterar',\n",
       " 'amar',\n",
       " 'aparecer',\n",
       " 'ayunar',\n",
       " 'bautizar',\n",
       " 'caer',\n",
       " 'dar',\n",
       " 'dejar',\n",
       " 'echar',\n",
       " 'enseñar',\n",
       " 'entrar',\n",
       " 'estar',\n",
       " 'habitar',\n",
       " 'juan',\n",
       " 'llevar',\n",
       " 'mandar',\n",
       " 'maría',\n",
       " 'matar',\n",
       " 'mostrar',\n",
       " 'nacer',\n",
       " 'orar',\n",
       " 'oír',\n",
       " 'pasar',\n",
       " 'pensar',\n",
       " 'perder',\n",
       " 'perdonar',\n",
       " 'perseguir',\n",
       " 'poner',\n",
       " 'predicar',\n",
       " 'querer',\n",
       " 'recibir',\n",
       " 'repudiar',\n",
       " 'salir',\n",
       " 'seguir',\n",
       " 'ser',\n",
       " 'servir',\n",
       " 'subir',\n",
       " 'tener',\n",
       " 'tentar',\n",
       " 'tomar',\n",
       " 'ver',\n",
       " 'vestir']"
      ]
     },
     "execution_count": 43,
     "metadata": {},
     "output_type": "execute_result"
    }
   ],
   "source": [
    "printer = [w for w, c in clusters_per_word if c == 1]\n",
    "printer\n"
   ]
  },
  {
   "cell_type": "code",
   "execution_count": 44,
   "metadata": {},
   "outputs": [
    {
     "data": {
      "text/plain": [
       "array([[1.30104261e-18, 1.30104261e-18, 1.30104261e-18, ...,\n",
       "        6.50521303e-19, 6.50521303e-19, 6.50521303e-19],\n",
       "       [2.16840434e-18, 2.16840434e-18, 2.16840434e-18, ...,\n",
       "        1.08420217e-18, 1.08420217e-18, 1.08420217e-18],\n",
       "       [0.00000000e+00, 0.00000000e+00, 0.00000000e+00, ...,\n",
       "        0.00000000e+00, 0.00000000e+00, 0.00000000e+00],\n",
       "       ...,\n",
       "       [0.00000000e+00, 0.00000000e+00, 0.00000000e+00, ...,\n",
       "        0.00000000e+00, 0.00000000e+00, 0.00000000e+00],\n",
       "       [0.00000000e+00, 0.00000000e+00, 0.00000000e+00, ...,\n",
       "        0.00000000e+00, 0.00000000e+00, 0.00000000e+00],\n",
       "       [0.00000000e+00, 0.00000000e+00, 0.00000000e+00, ...,\n",
       "        0.00000000e+00, 0.00000000e+00, 0.00000000e+00]])"
      ]
     },
     "execution_count": 44,
     "metadata": {},
     "output_type": "execute_result"
    }
   ],
   "source": [
    "clusters.cluster_centers_"
   ]
  },
  {
   "cell_type": "markdown",
   "metadata": {},
   "source": [
    "# visualizando "
   ]
  },
  {
   "cell_type": "code",
   "execution_count": 45,
   "metadata": {},
   "outputs": [],
   "source": [
    "import sklearn.manifold\n",
    "\n",
    "tsne = sklearn.manifold.TSNE(n_components=2, metric='cosine', init='pca', random_state=123)\n",
    "matrix_dicc2d = tsne.fit_transform(red_matrix)"
   ]
  },
  {
   "cell_type": "code",
   "execution_count": 46,
   "metadata": {},
   "outputs": [
    {
     "data": {
      "image/png": "[encoded data removed]",
      "text/plain": [
       "<Figure size 720x720 with 1 Axes>"
      ]
     },
     "metadata": {
      "needs_background": "light"
     },
     "output_type": "display_data"
    },
    {
     "data": {
      "text/plain": [
       "<Figure size 432x288 with 0 Axes>"
      ]
     },
     "metadata": {},
     "output_type": "display_data"
    }
   ],
   "source": [
    "plt.figure(figsize=(10,10)) \n",
    "\n",
    "plt.scatter(matrix_dicc2d[:, 0], matrix_dicc2d[:, 1], s=2, c='g')\n",
    "plt.title(\"Visualización a 2 dimensiones con t-SNE\")\n",
    "plt.axis('tight')\n",
    "plt.show()\n",
    "plt.savefig(\"t-sne.png\")"
   ]
  },
  {
   "cell_type": "code",
   "execution_count": 47,
   "metadata": {},
   "outputs": [],
   "source": [
    "pointsspacy = pd.DataFrame(\n",
    "    [\n",
    "        (word, coords[0], coords[1])\n",
    "        for word, coords in [\n",
    "            (word, matrix_dicc2d[word_to_index[word]])\n",
    "            for word in word_to_index\n",
    "        ]\n",
    "    ],\n",
    "    columns=[\"word\", \"x\", \"y\"]\n",
    ")"
   ]
  },
  {
   "cell_type": "code",
   "execution_count": 48,
   "metadata": {},
   "outputs": [
    {
     "data": {
      "text/plain": [
       "<matplotlib.axes._subplots.AxesSubplot at 0xe4f8d36c>"
      ]
     },
     "execution_count": 48,
     "metadata": {},
     "output_type": "execute_result"
    },
    {
     "data": {
      "image/png": "[encoded data removed]",
      "text/plain": [
       "<Figure size 1440x864 with 1 Axes>"
      ]
     },
     "metadata": {
      "needs_background": "light"
     },
     "output_type": "display_data"
    }
   ],
   "source": [
    "pointsspacy.plot.scatter(\"x\", \"y\", s=10, figsize=(20, 12))"
   ]
  }
 ],
 "metadata": {
  "kernelspec": {
   "display_name": "Python 3",
   "language": "python",
   "name": "python3"
  },
  "language_info": {
   "codemirror_mode": {
    "name": "ipython",
    "version": 3
   },
   "file_extension": ".py",
   "mimetype": "text/x-python",
   "name": "python",
   "nbconvert_exporter": "python",
   "pygments_lexer": "ipython3",
   "version": "3.7.1"
  }
 },
 "nbformat": 4,
 "nbformat_minor": 2
}
