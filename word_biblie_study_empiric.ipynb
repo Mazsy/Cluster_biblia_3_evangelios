{
 "cells": [
  {
   "cell_type": "markdown",
   "metadata": {},
   "source": [
    "# Analizando la biblia:\n",
    "## 3 evangelios."
   ]
  },
  {
   "cell_type": "code",
   "execution_count": 6,
   "metadata": {},
   "outputs": [],
   "source": [
    "\"\"\"Importamos librerias\"\"\"\n",
    "#%matplotlib inline\n",
    "from spacy import displacy\n",
    "import nltk\n",
    "import numpy as np\n",
    "import pandas as pd\n",
    "import spacy\n",
    "import sys\n",
    "import re\n",
    "from collections import defaultdict\n",
    "from nltk.cluster import kmeans, cosine_distance\n",
    "import matplotlib.pyplot as plt\n",
    "from sklearn.manifold import TSNE\n",
    "from sklearn.cluster import KMeans\n",
    "import collections\n",
    "import numpy\n",
    "#nltk.download(\"punkt\")"
   ]
  },
  {
   "cell_type": "code",
   "execution_count": 7,
   "metadata": {},
   "outputs": [],
   "source": [
    "def read_array():\n",
    "    \"\"\"leemos el texto a analizar. En este caso los 3 primeros evangelios.\"\"\"\n",
    "    corpus_filename = \"bibliamarcada.txt\"\n",
    "    file = open(corpus_filename, \"r\", encoding=\"utf8\")\n",
    "    text = file.read()\n",
    "    return text\n",
    "#print (read_array())"
   ]
  },
  {
   "cell_type": "code",
   "execution_count": 8,
   "metadata": {},
   "outputs": [
    {
     "name": "stdout",
     "output_type": "stream",
     "text": [
      "       Palabras  Frecuencias\n",
      "0         Jesús          397\n",
      "1          Dios          103\n",
      "2      espíritu           28\n",
      "3  misericordia           22\n",
      "4         Santo           17\n",
      "5        pecado            4\n",
      "6          amor            4\n"
     ]
    }
   ],
   "source": [
    "def concurrence_of_words_custom(text):\n",
    "    \"\"\"dato que puede ser útil, es ver las cooncurrencias relativamente de ciertas palabras\"\"\"\n",
    "    book =  text.split()\n",
    "    cnt = collections.Counter()\n",
    "    word_cocurrence = [\"espíritu\", \"Santo\",\"Dios\", \"Jesús\", \"pecado\", \"misericordia\", \"amor\", \"odio\"]\n",
    "    for i in word_cocurrence:\n",
    "        for word in book:\n",
    "            if i==word:\n",
    "                cnt[word] +=1 \n",
    "    return (cnt)\n",
    "\n",
    "def should_count():\n",
    "    word_more_import = concurrence_of_words_custom(read_array())\n",
    "    Conteo = pd.DataFrame.from_dict(dict(word_more_import), orient='index')\n",
    "    Conteo = Conteo.sort_values(by=0, ascending=False)\n",
    "    Conteo = Conteo.reset_index().rename(columns={'index':'Palabras', 0:'Frecuencias'})\n",
    "    print(Conteo)\n",
    "\n",
    "should_count()"
   ]
  },
  {
   "cell_type": "code",
   "execution_count": 9,
   "metadata": {},
   "outputs": [],
   "source": [
    "#---\"\"\"modelo en español de la libreria spacy\"\"\"\n",
    "nlp = spacy.load(\"es_core_news_sm\")\n",
    "#nlp = spacy.load(\"es\")"
   ]
  },
  {
   "cell_type": "code",
   "execution_count": 10,
   "metadata": {
    "scrolled": true
   },
   "outputs": [
    {
     "data": {
      "text/html": [
       "<svg xmlns=\"http://www.w3.org/2000/svg\" xmlns:xlink=\"http://www.w3.org/1999/xlink\" id=\"0\" class=\"displacy\" width=\"680\" height=\"272.0\" style=\"max-width: none; height: 272.0px; color: #000000; background: #ffffff; font-family: Arial\">\n",
       "<text class=\"displacy-token\" fill=\"currentColor\" text-anchor=\"middle\" y=\"182.0\">\n",
       "    <tspan class=\"displacy-word\" fill=\"currentColor\" x=\"50\">Bienaventurados</tspan>\n",
       "    <tspan class=\"displacy-tag\" dy=\"2em\" fill=\"currentColor\" x=\"50\">ADJ</tspan>\n",
       "</text>\n",
       "\n",
       "<text class=\"displacy-token\" fill=\"currentColor\" text-anchor=\"middle\" y=\"182.0\">\n",
       "    <tspan class=\"displacy-word\" fill=\"currentColor\" x=\"140\">los</tspan>\n",
       "    <tspan class=\"displacy-tag\" dy=\"2em\" fill=\"currentColor\" x=\"140\">DET</tspan>\n",
       "</text>\n",
       "\n",
       "<text class=\"displacy-token\" fill=\"currentColor\" text-anchor=\"middle\" y=\"182.0\">\n",
       "    <tspan class=\"displacy-word\" fill=\"currentColor\" x=\"230\">misericordiosos,</tspan>\n",
       "    <tspan class=\"displacy-tag\" dy=\"2em\" fill=\"currentColor\" x=\"230\">NOUN</tspan>\n",
       "</text>\n",
       "\n",
       "<text class=\"displacy-token\" fill=\"currentColor\" text-anchor=\"middle\" y=\"182.0\">\n",
       "    <tspan class=\"displacy-word\" fill=\"currentColor\" x=\"320\">porque</tspan>\n",
       "    <tspan class=\"displacy-tag\" dy=\"2em\" fill=\"currentColor\" x=\"320\">SCONJ</tspan>\n",
       "</text>\n",
       "\n",
       "<text class=\"displacy-token\" fill=\"currentColor\" text-anchor=\"middle\" y=\"182.0\">\n",
       "    <tspan class=\"displacy-word\" fill=\"currentColor\" x=\"410\">ellos</tspan>\n",
       "    <tspan class=\"displacy-tag\" dy=\"2em\" fill=\"currentColor\" x=\"410\">PRON</tspan>\n",
       "</text>\n",
       "\n",
       "<text class=\"displacy-token\" fill=\"currentColor\" text-anchor=\"middle\" y=\"182.0\">\n",
       "    <tspan class=\"displacy-word\" fill=\"currentColor\" x=\"500\">alcanzarán</tspan>\n",
       "    <tspan class=\"displacy-tag\" dy=\"2em\" fill=\"currentColor\" x=\"500\">VERB</tspan>\n",
       "</text>\n",
       "\n",
       "<text class=\"displacy-token\" fill=\"currentColor\" text-anchor=\"middle\" y=\"182.0\">\n",
       "    <tspan class=\"displacy-word\" fill=\"currentColor\" x=\"590\">misericordia.</tspan>\n",
       "    <tspan class=\"displacy-tag\" dy=\"2em\" fill=\"currentColor\" x=\"590\">NOUN</tspan>\n",
       "</text>\n",
       "\n",
       "<g class=\"displacy-arrow\">\n",
       "    <path class=\"displacy-arc\" id=\"arrow-0-0\" stroke-width=\"2px\" d=\"M160,137.0 C160,92.0 220.0,92.0 220.0,137.0\" fill=\"none\" stroke=\"currentColor\"/>\n",
       "    <text dy=\"1.25em\" style=\"font-size: 0.8em; letter-spacing: 1px\">\n",
       "        <textPath xlink:href=\"#arrow-0-0\" class=\"displacy-label\" startOffset=\"50%\" fill=\"currentColor\" text-anchor=\"middle\">det</textPath>\n",
       "    </text>\n",
       "    <path class=\"displacy-arrowhead\" d=\"M160,139.0 L152,127.0 168,127.0\" fill=\"currentColor\"/>\n",
       "</g>\n",
       "\n",
       "<g class=\"displacy-arrow\">\n",
       "    <path class=\"displacy-arc\" id=\"arrow-0-1\" stroke-width=\"2px\" d=\"M70,137.0 C70,47.0 225.0,47.0 225.0,137.0\" fill=\"none\" stroke=\"currentColor\"/>\n",
       "    <text dy=\"1.25em\" style=\"font-size: 0.8em; letter-spacing: 1px\">\n",
       "        <textPath xlink:href=\"#arrow-0-1\" class=\"displacy-label\" startOffset=\"50%\" fill=\"currentColor\" text-anchor=\"middle\">nsubj</textPath>\n",
       "    </text>\n",
       "    <path class=\"displacy-arrowhead\" d=\"M225.0,139.0 L233.0,127.0 217.0,127.0\" fill=\"currentColor\"/>\n",
       "</g>\n",
       "\n",
       "<g class=\"displacy-arrow\">\n",
       "    <path class=\"displacy-arc\" id=\"arrow-0-2\" stroke-width=\"2px\" d=\"M340,137.0 C340,47.0 495.0,47.0 495.0,137.0\" fill=\"none\" stroke=\"currentColor\"/>\n",
       "    <text dy=\"1.25em\" style=\"font-size: 0.8em; letter-spacing: 1px\">\n",
       "        <textPath xlink:href=\"#arrow-0-2\" class=\"displacy-label\" startOffset=\"50%\" fill=\"currentColor\" text-anchor=\"middle\">mark</textPath>\n",
       "    </text>\n",
       "    <path class=\"displacy-arrowhead\" d=\"M340,139.0 L332,127.0 348,127.0\" fill=\"currentColor\"/>\n",
       "</g>\n",
       "\n",
       "<g class=\"displacy-arrow\">\n",
       "    <path class=\"displacy-arc\" id=\"arrow-0-3\" stroke-width=\"2px\" d=\"M430,137.0 C430,92.0 490.0,92.0 490.0,137.0\" fill=\"none\" stroke=\"currentColor\"/>\n",
       "    <text dy=\"1.25em\" style=\"font-size: 0.8em; letter-spacing: 1px\">\n",
       "        <textPath xlink:href=\"#arrow-0-3\" class=\"displacy-label\" startOffset=\"50%\" fill=\"currentColor\" text-anchor=\"middle\">nsubj</textPath>\n",
       "    </text>\n",
       "    <path class=\"displacy-arrowhead\" d=\"M430,139.0 L422,127.0 438,127.0\" fill=\"currentColor\"/>\n",
       "</g>\n",
       "\n",
       "<g class=\"displacy-arrow\">\n",
       "    <path class=\"displacy-arc\" id=\"arrow-0-4\" stroke-width=\"2px\" d=\"M70,137.0 C70,2.0 500.0,2.0 500.0,137.0\" fill=\"none\" stroke=\"currentColor\"/>\n",
       "    <text dy=\"1.25em\" style=\"font-size: 0.8em; letter-spacing: 1px\">\n",
       "        <textPath xlink:href=\"#arrow-0-4\" class=\"displacy-label\" startOffset=\"50%\" fill=\"currentColor\" text-anchor=\"middle\">advcl</textPath>\n",
       "    </text>\n",
       "    <path class=\"displacy-arrowhead\" d=\"M500.0,139.0 L508.0,127.0 492.0,127.0\" fill=\"currentColor\"/>\n",
       "</g>\n",
       "\n",
       "<g class=\"displacy-arrow\">\n",
       "    <path class=\"displacy-arc\" id=\"arrow-0-5\" stroke-width=\"2px\" d=\"M520,137.0 C520,92.0 580.0,92.0 580.0,137.0\" fill=\"none\" stroke=\"currentColor\"/>\n",
       "    <text dy=\"1.25em\" style=\"font-size: 0.8em; letter-spacing: 1px\">\n",
       "        <textPath xlink:href=\"#arrow-0-5\" class=\"displacy-label\" startOffset=\"50%\" fill=\"currentColor\" text-anchor=\"middle\">obj</textPath>\n",
       "    </text>\n",
       "    <path class=\"displacy-arrowhead\" d=\"M580.0,139.0 L588.0,127.0 572.0,127.0\" fill=\"currentColor\"/>\n",
       "</g>\n",
       "</svg>"
      ],
      "text/plain": [
       "<IPython.core.display.HTML object>"
      ]
     },
     "metadata": {},
     "output_type": "display_data"
    }
   ],
   "source": [
    "versiculo =\"Bienaventurados los misericordiosos, porque ellos alcanzarán misericordia.\"\n",
    "doc= nlp(versiculo)\n",
    "displacy.render(doc, style=\"dep\", jupyter=True, options={'distance':90})"
   ]
  },
  {
   "cell_type": "code",
   "execution_count": 12,
   "metadata": {},
   "outputs": [],
   "source": [
    "def procingtext():\n",
    "    \"\"\"cargamos el cuerpo de datos. Dividimos por titulo y cuerpo, en este caso \n",
    "    por capitulos de la biblia\"\"\"\n",
    "\n",
    "    document = {\n",
    "        \"title\": None,\n",
    "        \"body\": None\n",
    "    }    \n",
    "    new_document = False\n",
    "    text = read_array()\n",
    "    text = text.lower()\n",
    "    new_chapter=False\n",
    "    text =  re.split(\"\\n\", text)\n",
    "    for line in text:\n",
    "        if line.strip() == \"-\":\n",
    "            new_document = True\n",
    "            document = {\n",
    "                \"title\": None,\n",
    "                \"body\": None\n",
    "            }\n",
    "            \n",
    "        elif line.strip() == \"\":\n",
    "            continue\n",
    "        elif new_document:\n",
    "            document[\"title\"] = line.strip()\n",
    "            new_document = False\n",
    "        else:\n",
    "            document[\"body\"] = line.strip()\n",
    "            yield(document)\n"
   ]
  },
  {
   "cell_type": "markdown",
   "metadata": {},
   "source": [
    "### Guardamos en archivo el texto procesado. Hacemos token a cada palabra del cuerpo  "
   ]
  },
  {
   "cell_type": "code",
   "execution_count": 13,
   "metadata": {},
   "outputs": [],
   "source": [
    "def save_in_file(file):\n",
    "    \"\"\"Elimino articulos, numeros, y palabras de longitud menor a 4\"\"\"\n",
    "    with open(file, \"w\", encoding=\"utf-8\") as fh:\n",
    "         for idx, document in enumerate(procingtext()):\n",
    "            for sentence in nltk.sent_tokenize(document[\"body\"], language=\"spanish\"):\n",
    "                for token in nlp(sentence):\n",
    "                        if not ((token.is_stop) or (token.text.isdigit()) or len(token)<4) :\n",
    "                            print(token.text, token.lemma_, token.pos_, token.dep_, token.head,\n",
    "                               file=fh)\n",
    "                            continue\n",
    "                print(file=fh)\n",
    "            print(\"=\"*80, file=fh)\n",
    "            if idx > 100:\n",
    "                break\n",
    "save_in_file(\"santabiblia.conll\")"
   ]
  },
  {
   "cell_type": "code",
   "execution_count": 40,
   "metadata": {},
   "outputs": [],
   "source": [
    "def conll_iterator(file):\n",
    "    \"\"\" contextualiza datos recientemente creados\"\"\"\n",
    "    context = []\n",
    "    with open(file, \"r\", encoding=\"utf-8\") as fh:\n",
    "        for line in fh:\n",
    "            if line.strip() == \"\":\n",
    "                yield context\n",
    "                context = []\n",
    "            elif line.strip() == (\"=\" * 80):\n",
    "                continue\n",
    "            else:\n",
    "                (token, lemma, pos, dep, head) = line.strip().split()\n",
    "                context.append({\n",
    "                    \"token\": token,\n",
    "                    \"lemma\": lemma,\n",
    "                    \"pos\": pos,\n",
    "                    \"dep\": dep,\n",
    "                    \"head\": head\n",
    "                })\n",
    "                \n",
    "for word in conll_iterator(\"santabiblia.conll\"):\n",
    "    words = word\n",
    "    #print(word)\n"
   ]
  },
  {
   "cell_type": "code",
   "execution_count": 41,
   "metadata": {},
   "outputs": [
    {
     "data": {
      "text/html": [
       "<div>\n",
       "<style scoped>\n",
       "    .dataframe tbody tr th:only-of-type {\n",
       "        vertical-align: middle;\n",
       "    }\n",
       "\n",
       "    .dataframe tbody tr th {\n",
       "        vertical-align: top;\n",
       "    }\n",
       "\n",
       "    .dataframe thead th {\n",
       "        text-align: right;\n",
       "    }\n",
       "</style>\n",
       "<table border=\"1\" class=\"dataframe\">\n",
       "  <thead>\n",
       "    <tr style=\"text-align: right;\">\n",
       "      <th></th>\n",
       "      <th>dep</th>\n",
       "      <th>head</th>\n",
       "      <th>lemma</th>\n",
       "      <th>pos</th>\n",
       "      <th>token</th>\n",
       "    </tr>\n",
       "  </thead>\n",
       "  <tbody>\n",
       "    <tr>\n",
       "      <th>0</th>\n",
       "      <td>nmod</td>\n",
       "      <td>tú</td>\n",
       "      <td>ayunar</td>\n",
       "      <td>NOUN</td>\n",
       "      <td>ayunes</td>\n",
       "    </tr>\n",
       "    <tr>\n",
       "      <th>1</th>\n",
       "      <td>ROOT</td>\n",
       "      <td>unge</td>\n",
       "      <td>ungir</td>\n",
       "      <td>ADJ</td>\n",
       "      <td>unge</td>\n",
       "    </tr>\n",
       "    <tr>\n",
       "      <th>2</th>\n",
       "      <td>obj</td>\n",
       "      <td>unge</td>\n",
       "      <td>cabeza</td>\n",
       "      <td>NOUN</td>\n",
       "      <td>cabeza</td>\n",
       "    </tr>\n",
       "    <tr>\n",
       "      <th>3</th>\n",
       "      <td>conj</td>\n",
       "      <td>unge</td>\n",
       "      <td>lavar</td>\n",
       "      <td>ADJ</td>\n",
       "      <td>lava</td>\n",
       "    </tr>\n",
       "    <tr>\n",
       "      <th>4</th>\n",
       "      <td>obj</td>\n",
       "      <td>lava</td>\n",
       "      <td>rostro</td>\n",
       "      <td>NOUN</td>\n",
       "      <td>rostro</td>\n",
       "    </tr>\n",
       "    <tr>\n",
       "      <th>5</th>\n",
       "      <td>acl</td>\n",
       "      <td>18</td>\n",
       "      <td>mostrar</td>\n",
       "      <td>VERB</td>\n",
       "      <td>mostrar</td>\n",
       "    </tr>\n",
       "    <tr>\n",
       "      <th>6</th>\n",
       "      <td>obj</td>\n",
       "      <td>mostrar</td>\n",
       "      <td>hombre</td>\n",
       "      <td>NOUN</td>\n",
       "      <td>hombres</td>\n",
       "    </tr>\n",
       "    <tr>\n",
       "      <th>7</th>\n",
       "      <td>acl</td>\n",
       "      <td>hombres</td>\n",
       "      <td>ayuno</td>\n",
       "      <td>ADJ</td>\n",
       "      <td>ayunas</td>\n",
       "    </tr>\n",
       "    <tr>\n",
       "      <th>8</th>\n",
       "      <td>conj</td>\n",
       "      <td>unge</td>\n",
       "      <td>padre</td>\n",
       "      <td>NOUN</td>\n",
       "      <td>padre</td>\n",
       "    </tr>\n",
       "    <tr>\n",
       "      <th>9</th>\n",
       "      <td>acl</td>\n",
       "      <td>padre</td>\n",
       "      <td>secretar</td>\n",
       "      <td>NOUN</td>\n",
       "      <td>secreto</td>\n",
       "    </tr>\n",
       "    <tr>\n",
       "      <th>10</th>\n",
       "      <td>nsubj</td>\n",
       "      <td>recompensará</td>\n",
       "      <td>padre</td>\n",
       "      <td>NOUN</td>\n",
       "      <td>padre</td>\n",
       "    </tr>\n",
       "    <tr>\n",
       "      <th>11</th>\n",
       "      <td>obl</td>\n",
       "      <td>ve</td>\n",
       "      <td>secretar</td>\n",
       "      <td>VERB</td>\n",
       "      <td>secreto</td>\n",
       "    </tr>\n",
       "    <tr>\n",
       "      <th>12</th>\n",
       "      <td>conj</td>\n",
       "      <td>unge</td>\n",
       "      <td>recompensar</td>\n",
       "      <td>VERB</td>\n",
       "      <td>recompensará</td>\n",
       "    </tr>\n",
       "    <tr>\n",
       "      <th>13</th>\n",
       "      <td>fixed</td>\n",
       "      <td>en</td>\n",
       "      <td>público</td>\n",
       "      <td>NOUN</td>\n",
       "      <td>público</td>\n",
       "    </tr>\n",
       "  </tbody>\n",
       "</table>\n",
       "</div>"
      ],
      "text/plain": [
       "      dep          head        lemma   pos         token\n",
       "0    nmod            tú       ayunar  NOUN        ayunes\n",
       "1    ROOT          unge        ungir   ADJ          unge\n",
       "2     obj          unge       cabeza  NOUN        cabeza\n",
       "3    conj          unge        lavar   ADJ          lava\n",
       "4     obj          lava       rostro  NOUN        rostro\n",
       "5     acl            18      mostrar  VERB       mostrar\n",
       "6     obj       mostrar       hombre  NOUN       hombres\n",
       "7     acl       hombres        ayuno   ADJ        ayunas\n",
       "8    conj          unge        padre  NOUN         padre\n",
       "9     acl         padre     secretar  NOUN       secreto\n",
       "10  nsubj  recompensará        padre  NOUN         padre\n",
       "11    obl            ve     secretar  VERB       secreto\n",
       "12   conj          unge  recompensar  VERB  recompensará\n",
       "13  fixed            en      público  NOUN       público"
      ]
     },
     "execution_count": 41,
     "metadata": {},
     "output_type": "execute_result"
    }
   ],
   "source": [
    "pd.DataFrame(word)"
   ]
  },
  {
   "cell_type": "markdown",
   "metadata": {},
   "source": [
    "### Creamos diccionario de caracteristiscas."
   ]
  },
  {
   "cell_type": "code",
   "execution_count": 19,
   "metadata": {},
   "outputs": [],
   "source": [
    "words_features = {}\n",
    "\n",
    "for context in conll_iterator(\"./santabiblia.conll\"):\n",
    "    for idx, word in enumerate(context):\n",
    "        lemma = word[\"lemma\"]\n",
    "        if lemma in words_features:\n",
    "              word_features = words_features[lemma]\n",
    "        else:\n",
    "              word_features = {}\n",
    "\n",
    "        features = [\n",
    "            \"token__{}\".format(word[\"token\"]),\n",
    "            \"pos__{}\".format(word[\"pos\"]),\n",
    "            \"dep__{}__{}\".format(word[\"dep\"], word[\"head\"])\n",
    "        ]\n",
    "\n",
    "        for feature in features:\n",
    "            if feature not in word_features:\n",
    "                word_features[feature] = 0\n",
    "            word_features[feature] += 1\n",
    "\n",
    "        if idx > 0:\n",
    "            previous_word = context[idx-1]\n",
    "            previous_word_lemma = context[idx-1][\"lemma\"]\n",
    "            features = [\n",
    "            \"previous_token__{}\".format(previous_word[\"token\"]),\n",
    "            \"previous_pos__{}\".format(previous_word[\"pos\"]),\n",
    "            \"previous_lemma__{}\".format(previous_word_lemma)\n",
    "            ]\n",
    "\n",
    "            for feature in features:\n",
    "                if feature not in word_features:\n",
    "                      word_features[feature] = 0\n",
    "                word_features[feature] += 1\n",
    "\n",
    "        if idx < len(context) - 1:\n",
    "            next_word = context[idx+1]\n",
    "            next_word_lemma = context[idx-1][\"lemma\"]\n",
    "            features = [\n",
    "            \"next_token__{}\".format(next_word[\"token\"]),\n",
    "            \"next_pos__{}\".format(next_word[\"pos\"]),\n",
    "            \"next_lemma__{}\".format(next_word_lemma)\n",
    "            ]\n",
    "\n",
    "        for feature in features:\n",
    "            if feature not in word_features:\n",
    "                word_features[feature] = 0\n",
    "            word_features[feature] += 1\n",
    "\n",
    "        words_features[lemma] = word_features"
   ]
  },
  {
   "cell_type": "code",
   "execution_count": 20,
   "metadata": {},
   "outputs": [
    {
     "name": "stdout",
     "output_type": "stream",
     "text": [
      "{'1.12': 0, '1.14': 1, '1.19': 2, '11.2': 3, '12.57': 4, '3.21': 5, '3.23': 6, '4.14': 7, '6.17': 8, '6.20': 9, '6.27': 10, 'abajar': 11, 'abiud': 12, 'aborrecer': 13, 'abraham': 14, 'abrir': 15, 'abrogar': 16, 'abías': 17, 'acaz': 18, 'acercar': 19, 'acontecer': 20, 'acordar': 21, 'adorar': 22, 'adorarle': 23, 'adulterar': 24, 'adulterio': 25, 'adversario': 26, 'afligir': 27, 'aguar': 28, 'alabar': 29, 'alcanzar': 30, 'alegraos': 31, 'alguacil': 32, 'allá': 33, 'almud': 34, 'alrededor': 35, 'altar': 36, 'alto': 37, 'alumbrar': 38, 'amar': 39, 'aminadab': 40, 'amor': 41, 'amén': 42, 'amón': 43, 'andar': 44, 'andrés': 45, 'antiguo': 46, 'apacentar': 47, 'apagar': 48, 'aparecer': 49, 'aparición': 50, 'aposentar': 51, 'aquim': 52, 'aram': 53, 'arquelao': 54, 'arrepentimiento': 55, 'arrepentíos': 56, 'asentar': 57, 'austero': 58, 'aventador': 59, 'averiguar': 60, 'avisar': 61, 'ayunar': 62, 'ayuno': 63, 'azor': 64, 'año': 65, 'babilonio': 66, 'barca': 67, 'bautismo': 68, 'bautista': 69, 'bautizar': 70, 'belén': 71, 'bendecir': 72, 'biblia': 73, 'bienaventurado': 74, 'bienaventuranza': 75, 'blanco': 76, 'boca': 77, 'booz': 78, 'burlar': 79, 'buscar': 80, 'cabellar': 81, 'cabeza': 82, 'caer': 83, 'calle': 84, 'calzar': 85, 'camello': 86, 'caminar': 87, 'candelero': 88, 'capar': 89, 'capernaum': 90, 'cargar': 91, 'carta': 92, 'casar': 93, 'casiodoro': 94, 'catorce': 95, 'causar': 96, 'celestial': 97, 'cerrar': 98, 'cielo': 99, 'cintar': 100, 'cipriano': 101, 'ciudad': 102, 'clamar': 103, 'clase': 104, 'codiciarla': 105, 'comenzar': 106, 'comer': 107, 'cometer': 108, 'complacencia': 109, 'concebir': 110, 'conciliar': 111, 'confesar': 112, 'conformar': 113, 'conocer': 114, 'consolación': 115, 'consolar': 116, 'convenir': 117, 'convertir': 118, 'convocar': 119, 'corazón': 120, 'cortar': 121, 'cristo': 122, 'cuadrante': 123, 'cualquiera': 124, 'cuarenta': 125, 'cuero': 126, 'cuerpo': 127, 'culpable': 128, 'cumplir': 129, 'cuyo': 130, 'cárcel': 131, 'córtala': 132, 'dale': 133, 'dar': 134, 'david': 135, 'decir': 136, 'decápolis': 137, 'dejar': 138, 'dejarla': 139, 'dele': 140, 'demudar': 141, 'dentar': 142, 'deportación': 143, 'derecho': 144, 'descender': 145, 'desierto': 146, 'despertar': 147, 'desposar': 148, 'desvanecer': 149, 'detener': 150, 'deuda': 151, 'deudor': 152, 'diablo': 153, 'difundir': 154, 'dignar': 155, 'digno': 156, 'diligenciar': 157, 'diligentemente': 158, 'dios': 159, 'discípulo': 160, 'diverso': 161, 'divorciar': 162, 'dolencia': 163, 'dánoslo': 164, 'déjale': 165, 'echar': 166, 'egipto': 167, 'eleazar': 168, 'eliaquim': 169, 'eliud': 170, 'emanuel': 171, 'encender': 172, 'endemoniar': 173, 'enderezar': 174, 'enemigo': 175, 'enfermedad': 176, 'engendrar': 177, 'enojar': 178, 'enseñar': 179, 'entrar': 180, 'entregar': 181, 'enviándolos': 182, 'esconder': 183, 'escribir': 184, 'espíritu': 185, 'esquinar': 186, 'esrom': 187, 'estar': 188, 'estrado': 189, 'estrellar': 190, 'evangelio': 191, 'exponer': 192, 'ezequías': 193, 'fama': 194, 'fares': 195, 'fariseo': 196, 'fatuo': 197, 'fornicación': 198, 'fruto': 199, 'fuego': 200, 'galardón': 201, 'galileo': 202, 'gemir': 203, 'genealogía': 204, 'generación': 205, 'gente': 206, 'gentil': 207, 'gloria': 208, 'glorificar': 209, 'gozaos': 210, 'gozar': 211, 'gracia': 212, 'grande': 213, 'granero': 214, 'guardaos': 215, 'guiador': 216, 'haber': 217, 'habitar': 218, 'hablar': 219, 'hacer': 220, 'hachar': 221, 'hacédmelo': 222, 'hallar': 223, 'hambre': 224, 'heredar': 225, 'herir': 226, 'hermanar': 227, 'hermano': 228, 'herodes': 229, 'hijo': 230, 'hipócrita': 231, 'hollar': 232, 'hombre': 233, 'huir': 234, 'hágase': 235, 'incensar': 236, 'incluir': 237, 'indagar': 238, 'infamarla': 239, 'infierno': 240, 'injusto': 241, 'inquirir': 242, 'instante': 243, 'isaac': 244, 'isaí': 245, 'isaías': 246, 'israel': 247, 'izquierdo': 248, 'jacob': 249, 'jacobo': 250, 'jeconías': 251, 'jeremías': 252, 'jerusalén': 253, 'jesucristo': 254, 'jesús': 255, 'joram': 256, 'jordán': 257, 'josafat': 258, 'josé': 259, 'josías': 260, 'jota': 261, 'jotam': 262, 'juan': 263, 'judea': 264, 'judá': 265, 'judío': 266, 'juez': 267, 'juicio': 268, 'juntar': 269, 'juramento': 270, 'jurar': 271, 'justar': 272, 'justicia': 273, 'justo': 274, 'lamentación': 275, 'langosta': 276, 'lavar': 277, 'levantar': 278, 'levántate': 279, 'librar': 280, 'libro': 281, 'limosna': 282, 'limpiar': 283, 'llamar': 284, 'llegar': 285, 'llevar': 286, 'llorar': 287, 'llover': 288, 'lomo': 289, 'lunático': 290, 'líbranos': 291, 'madre': 292, 'mago': 293, 'maldecir': 294, 'malo': 295, 'manasés': 296, 'mandamiento': 297, 'mandar': 298, 'manir': 299, 'mano': 300, 'manso': 301, 'maridar': 302, 'maría': 303, 'marítimo': 304, 'matanza': 305, 'matar': 306, 'matarlo': 307, 'matear': 308, 'matán': 309, 'mejilla': 310, 'menor': 311, 'mentir': 312, 'meter': 313, 'miel': 314, 'miembro': 315, 'milla': 316, 'ministerio': 317, 'mirar': 318, 'mirra': 319, 'misericordia': 320, 'misericordioso': 321, 'montar': 322, 'morir': 323, 'mostrar': 324, 'muerte': 325, 'mujer': 326, 'multitud': 327, 'mundo': 328, 'naasón': 329, 'nacer': 330, 'nacimiento': 331, 'nazareno': 332, 'nazaret': 333, 'necesidad': 334, 'necesitar': 335, 'necio': 336, 'neftalí': 337, 'negro': 338, 'niño': 339, 'noche': 340, 'nombrar': 341, 'obed': 342, 'obligar': 343, 'obrar': 344, 'ocasión': 345, 'ofensa': 346, 'ofrecer': 347, 'ofrendar': 348, 'oponer': 349, 'oración': 350, 'orar': 351, 'orientar': 352, 'oír': 353, 'pacificador': 354, 'padecer': 355, 'padre': 356, 'pagar': 357, 'paja': 358, 'palabra': 359, 'palabrería': 360, 'paloma': 361, 'paralítico': 362, 'partir': 363, 'pasar': 364, 'pecar': 365, 'pedir': 366, 'pedro': 367, 'pelar': 368, 'pensar': 369, 'pequeño': 370, 'perder': 371, 'perdonar': 372, 'perdónanos': 373, 'perecer': 374, 'perfecto': 375, 'perjurar': 376, 'permanecer': 377, 'persecución': 378, 'perseguir': 379, 'pescador': 380, 'pie': 381, 'piedra': 382, 'pináculo': 383, 'pleito': 384, 'poblar': 385, 'pobre': 386, 'poder': 387, 'poderoso': 388, 'poner': 389, 'ponerte': 390, 'ponte': 391, 'postrar': 392, 'postrándose': 393, 'predicación': 394, 'predicar': 395, 'preguntar': 396, 'preparar': 397, 'presentar': 398, 'presente': 399, 'preso': 400, 'prestar': 401, 'primogénito': 402, 'principal': 403, 'principiar': 404, 'proceder': 405, 'procurar': 406, 'profeta': 407, 'provincia': 408, 'príncipe': 409, 'prójimo': 410, 'publicano': 411, 'puerta': 412, 'público': 413, 'quebrantar': 414, 'quedar': 415, 'quemar': 416, 'querer': 417, 'quitarte': 418, 'rahab': 419, 'ramá': 420, 'raquel': 421, 'raíz': 422, 'recibir': 423, 'recoger': 424, 'recompensar': 425, 'reconcíliate': 426, 'recorrer': 427, 'redar': 428, 'región': 429, 'regocijar': 430, 'regresar': 431, 'rehusar': 432, 'reinar': 433, 'reino': 434, 'remendar': 435, 'repetición': 436, 'repudiar': 437, 'resistir': 438, 'resplandecer': 439, 'responder': 440, 'revelación': 441, 'revisar': 442, 'revisión': 443, 'roboam': 444, 'rostro': 445, 'saber': 446, 'sacerdote': 447, 'saciar': 448, 'sadoc': 449, 'saduceo': 450, 'salar': 451, 'salatiel': 452, 'salir': 453, 'salmón': 454, 'salomón': 455, 'saludar': 456, 'salvar': 457, 'sanar': 458, 'santificar': 459, 'santo': 460, 'satanás': 461, 'secretamente': 462, 'secretar': 463, 'seguir': 464, 'semejante': 465, 'sendos': 466, 'sentándose': 467, 'ser': 468, 'sermón': 469, 'servir': 470, 'señor': 471, 'siglo': 472, 'silvestre': 473, 'simón': 474, 'sinagoga': 475, 'sirio': 476, 'sombrar': 477, 'sostener': 478, 'soñar': 479, 'subir': 480, 'sueño': 481, 'sácalo': 482, 'tamar': 483, 'temer': 484, 'temor': 485, 'templar': 486, 'tener': 487, 'tentación': 488, 'tentador': 489, 'tentar': 490, 'tesoro': 491, 'testamento': 492, 'tierra': 493, 'tildar': 494, 'tiniebla': 495, 'tocar': 496, 'tomar': 497, 'tormento': 498, 'traducir': 499, 'traer': 500, 'trigo': 501, 'trompeta': 502, 'trono': 503, 'tropezar': 504, 'turbar': 505, 'túnica': 506, 'ultrajar': 507, 'ungir': 508, 'urías': 509, 'usar': 510, 'uzías': 511, 'valera': 512, 'vano': 513, 'venidero': 514, 'venir': 515, 'ver': 516, 'versión': 517, 'vestir': 518, 'vetar': 519, 'virgen': 520, 'visitar': 521, 'vituperar': 522, 'vivir': 523, 'voluntad': 524, 'volver': 525, 'vuélvele': 526, 'víbora': 527, 'zabulón': 528, 'zara': 529, 'zebedeo': 530, 'zorobabel': 531, 'ángel': 532, 'árbol': 533, 'échala': 534, 'échalo': 535, 'échate': 536}\n"
     ]
    }
   ],
   "source": [
    "word_to_index = {word: idx for idx, word in enumerate(sorted(words_features.keys()))}\n",
    "word_features_list = [words_features[w] for w in sorted(words_features.keys())]\n",
    "print(word_to_index)\n",
    "#word_features_list"
   ]
  },
  {
   "cell_type": "code",
   "execution_count": 21,
   "metadata": {},
   "outputs": [
    {
     "name": "stdout",
     "output_type": "stream",
     "text": [
      "[[2. 0. 0. ... 0. 0. 0.]\n",
      " [0. 0. 0. ... 0. 0. 0.]\n",
      " [0. 0. 0. ... 0. 0. 0.]\n",
      " ...\n",
      " [0. 0. 0. ... 1. 0. 0.]\n",
      " [0. 0. 0. ... 0. 1. 0.]\n",
      " [0. 0. 0. ... 0. 0. 1.]]\n"
     ]
    }
   ],
   "source": [
    "from sklearn.feature_extraction import DictVectorizer\n",
    "\n",
    "vectorizer = DictVectorizer()\n",
    "words_matrix = vectorizer.fit_transform(word_features_list)\n",
    "dense = DictVectorizer(sparse = False)\n",
    "word_matrix = dense.fit_transform(word_features_list)\n",
    "\n",
    "print(word_matrix)"
   ]
  },
  {
   "cell_type": "code",
   "execution_count": 22,
   "metadata": {},
   "outputs": [
    {
     "data": {
      "text/plain": [
       "['dep__ROOT__1.12',\n",
       " 'dep__ROOT__11.2',\n",
       " 'dep__ROOT__12.57',\n",
       " 'dep__ROOT__3.21',\n",
       " 'dep__ROOT__3.23',\n",
       " 'dep__ROOT__6.20',\n",
       " 'dep__ROOT__6.27',\n",
       " 'dep__ROOT__abraham',\n",
       " 'dep__ROOT__aconteció',\n",
       " 'dep__ROOT__alumbre']"
      ]
     },
     "execution_count": 22,
     "metadata": {},
     "output_type": "execute_result"
    }
   ],
   "source": [
    "vectorizer.feature_names_[:10]\n"
   ]
  },
  {
   "cell_type": "code",
   "execution_count": 23,
   "metadata": {},
   "outputs": [
    {
     "name": "stdout",
     "output_type": "stream",
     "text": [
      "(537, 3776)\n"
     ]
    }
   ],
   "source": [
    "print(word_matrix.shape)\n"
   ]
  },
  {
   "cell_type": "markdown",
   "metadata": {},
   "source": [
    "# Uso de sklearn "
   ]
  },
  {
   "cell_type": "code",
   "execution_count": 42,
   "metadata": {},
   "outputs": [],
   "source": [
    "from sklearn.cluster import KMeans\n",
    "\n",
    "model = KMeans(n_clusters=200)\n",
    "clusters = model.fit(words_matrix)\n"
   ]
  },
  {
   "cell_type": "code",
   "execution_count": 43,
   "metadata": {},
   "outputs": [],
   "source": [
    "matrix_normed = word_matrix / word_matrix.max(axis=0)\n",
    "variances = np.square(matrix_normed).mean(axis=0) - np.square(matrix_normed.mean(axis=0))\n",
    "threshold_v = 0.001\n",
    "red_matrix = np.delete(matrix_normed, np.where(variances < threshold_v), axis=1)"
   ]
  },
  {
   "cell_type": "code",
   "execution_count": 53,
   "metadata": {},
   "outputs": [],
   "source": [
    "clusters_per_word = list(zip(sorted(word_to_index.keys()), clusters.labels_))\n",
    "#clusters_per_word[:100]\n"
   ]
  },
  {
   "cell_type": "markdown",
   "metadata": {},
   "source": [
    "# Viendo Clustering "
   ]
  },
  {
   "cell_type": "code",
   "execution_count": 45,
   "metadata": {},
   "outputs": [
    {
     "data": {
      "text/plain": [
       "['oponer', 'perecer', 'preso', 'proceder', 'salar']"
      ]
     },
     "execution_count": 45,
     "metadata": {},
     "output_type": "execute_result"
    }
   ],
   "source": [
    "printer = [w for w, c in clusters_per_word if c == 188]\n",
    "printer\n"
   ]
  },
  {
   "cell_type": "code",
   "execution_count": 46,
   "metadata": {},
   "outputs": [
    {
     "data": {
      "text/plain": [
       "['decir']"
      ]
     },
     "execution_count": 46,
     "metadata": {},
     "output_type": "execute_result"
    }
   ],
   "source": [
    "printer = [w for w, c in clusters_per_word if c == 5]\n",
    "printer\n"
   ]
  },
  {
   "cell_type": "code",
   "execution_count": 47,
   "metadata": {},
   "outputs": [
    {
     "data": {
      "text/plain": [
       "['aposentar',\n",
       " 'consolación',\n",
       " 'dejarla',\n",
       " 'deudor',\n",
       " 'fama',\n",
       " 'guiador',\n",
       " 'mandamiento',\n",
       " 'mejilla',\n",
       " 'misericordia',\n",
       " 'ramá',\n",
       " 'sendos',\n",
       " 'venidero']"
      ]
     },
     "execution_count": 47,
     "metadata": {},
     "output_type": "execute_result"
    }
   ],
   "source": [
    "printer = [w for w, c in clusters_per_word if c == 1]\n",
    "printer\n"
   ]
  },
  {
   "cell_type": "code",
   "execution_count": 48,
   "metadata": {},
   "outputs": [
    {
     "data": {
      "text/plain": [
       "array([[0., 0., 0., ..., 0., 0., 0.],\n",
       "       [0., 0., 0., ..., 0., 0., 0.],\n",
       "       [0., 0., 0., ..., 0., 0., 0.],\n",
       "       ...,\n",
       "       [0., 0., 0., ..., 0., 0., 0.],\n",
       "       [0., 0., 0., ..., 0., 0., 0.],\n",
       "       [0., 0., 0., ..., 0., 0., 0.]])"
      ]
     },
     "execution_count": 48,
     "metadata": {},
     "output_type": "execute_result"
    }
   ],
   "source": [
    "clusters.cluster_centers_"
   ]
  },
  {
   "cell_type": "markdown",
   "metadata": {},
   "source": [
    "# visualizando "
   ]
  },
  {
   "cell_type": "code",
   "execution_count": 49,
   "metadata": {},
   "outputs": [],
   "source": [
    "import sklearn.manifold\n",
    "\n",
    "tsne = sklearn.manifold.TSNE(n_components=2, metric='cosine', init='pca', random_state=123)\n",
    "matrix_dicc2d = tsne.fit_transform(red_matrix)"
   ]
  },
  {
   "cell_type": "code",
   "execution_count": 50,
   "metadata": {},
   "outputs": [
    {
     "data": {
      "image/png": "[encoded data removed]",
      "text/plain": [
       "<Figure size 720x720 with 1 Axes>"
      ]
     },
     "metadata": {
      "needs_background": "light"
     },
     "output_type": "display_data"
    },
    {
     "data": {
      "text/plain": [
       "<Figure size 432x288 with 0 Axes>"
      ]
     },
     "metadata": {},
     "output_type": "display_data"
    }
   ],
   "source": [
    "plt.figure(figsize=(10,10)) \n",
    "\n",
    "plt.scatter(matrix_dicc2d[:, 0], matrix_dicc2d[:, 1], s=2, c='g')\n",
    "plt.title(\"Visualización a 2 dimensiones con t-SNE\")\n",
    "plt.axis('tight')\n",
    "plt.show()\n",
    "plt.savefig(\"t-sne.png\")"
   ]
  },
  {
   "cell_type": "code",
   "execution_count": 51,
   "metadata": {},
   "outputs": [],
   "source": [
    "pointsspacy = pd.DataFrame(\n",
    "    [\n",
    "        (word, coords[0], coords[1])\n",
    "        for word, coords in [\n",
    "            (word, matrix_dicc2d[word_to_index[word]])\n",
    "            for word in word_to_index\n",
    "        ]\n",
    "    ],\n",
    "    columns=[\"word\", \"x\", \"y\"]\n",
    ")"
   ]
  },
  {
   "cell_type": "code",
   "execution_count": 52,
   "metadata": {},
   "outputs": [
    {
     "data": {
      "text/plain": [
       "<matplotlib.axes._subplots.AxesSubplot at 0xe196c6ec>"
      ]
     },
     "execution_count": 52,
     "metadata": {},
     "output_type": "execute_result"
    },
    {
     "data": {
      "image/png": "[encoded data removed]",
      "text/plain": [
       "<Figure size 1440x864 with 1 Axes>"
      ]
     },
     "metadata": {
      "needs_background": "light"
     },
     "output_type": "display_data"
    }
   ],
   "source": [
    "pointsspacy.plot.scatter(\"x\", \"y\", s=10, figsize=(20, 12))"
   ]
  },
  {
   "cell_type": "code",
   "execution_count": null,
   "metadata": {},
   "outputs": [],
   "source": []
  }
 ],
 "metadata": {
  "kernelspec": {
   "display_name": "Python 3",
   "language": "python",
   "name": "python3"
  },
  "language_info": {
   "codemirror_mode": {
    "name": "ipython",
    "version": 3
   },
   "file_extension": ".py",
   "mimetype": "text/x-python",
   "name": "python",
   "nbconvert_exporter": "python",
   "pygments_lexer": "ipython3",
   "version": "3.7.1"
  }
 },
 "nbformat": 4,
 "nbformat_minor": 2
}
